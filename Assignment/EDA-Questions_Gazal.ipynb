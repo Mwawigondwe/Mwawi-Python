{
 "cells": [
  {
   "cell_type": "markdown",
   "id": "17600373-ac7e-44d9-b2cd-d7781eb0df17",
   "metadata": {},
   "source": [
    "## Capstone project for Basic Data Science\n",
    "In this project, you would explore the Data preprocessing techniques learned. You will use, pandas, plots and the different data preprocessing techniques to explore and analyse the data. This project is on Exploratory Data Analysis"
   ]
  },
  {
   "cell_type": "markdown",
   "id": "933a916f-a382-4524-8610-f0252706de39",
   "metadata": {},
   "source": [
    "Step1: Import the necessary libraries"
   ]
  },
  {
   "cell_type": "code",
   "execution_count": 2,
   "id": "9b77547b-44c3-4865-9717-b218d91dab88",
   "metadata": {},
   "outputs": [],
   "source": [
    "import matplotlib.pyplot as plt\n",
    "import numpy as np\n",
    "import pandas as pd\n",
    "import seaborn as sns\n",
    "%matplotlib inline"
   ]
  },
  {
   "cell_type": "code",
   "execution_count": 5,
   "id": "6853a115-f8d6-40b7-811e-6fb0ddb37d3e",
   "metadata": {},
   "outputs": [
    {
     "name": "stdout",
     "output_type": "stream",
     "text": [
      "88\n",
      "['anagrams', 'anscombe', 'attention', 'brain_networks', 'car_crashes', 'diamonds', 'dots', 'dowjones', 'exercise', 'flights', 'fmri', 'geyser', 'glue', 'healthexp', 'iris', 'mpg', 'penguins', 'planets', 'seaice', 'taxis', 'tips', 'titanic', 'anagrams', 'anagrams', 'anscombe', 'anscombe', 'attention', 'attention', 'brain_networks', 'brain_networks', 'car_crashes', 'car_crashes', 'diamonds', 'diamonds', 'dots', 'dots', 'dowjones', 'dowjones', 'exercise', 'exercise', 'flights', 'flights', 'fmri', 'fmri', 'geyser', 'geyser', 'glue', 'glue', 'healthexp', 'healthexp', 'iris', 'iris', 'mpg', 'mpg', 'penguins', 'penguins', 'planets', 'planets', 'seaice', 'seaice', 'taxis', 'taxis', 'tips', 'tips', 'titanic', 'titanic', 'anagrams', 'anscombe', 'attention', 'brain_networks', 'car_crashes', 'diamonds', 'dots', 'dowjones', 'exercise', 'flights', 'fmri', 'geyser', 'glue', 'healthexp', 'iris', 'mpg', 'penguins', 'planets', 'seaice', 'taxis', 'tips', 'titanic']\n"
     ]
    }
   ],
   "source": [
    "#List the set of available datasets in seaborn\n",
    "print(len(sns.get_dataset_names()))\n",
    "print(sns.get_dataset_names())"
   ]
  },
  {
   "cell_type": "markdown",
   "id": "931ab12d-9fff-408d-a74a-82c18a5c316c",
   "metadata": {},
   "source": [
    "Dataset 1: exercise"
   ]
  },
  {
   "cell_type": "code",
   "execution_count": 14,
   "id": "58f3345e-59f4-4390-8534-926e5120ee8e",
   "metadata": {},
   "outputs": [
    {
     "data": {
      "text/html": [
       "<div>\n",
       "<style scoped>\n",
       "    .dataframe tbody tr th:only-of-type {\n",
       "        vertical-align: middle;\n",
       "    }\n",
       "\n",
       "    .dataframe tbody tr th {\n",
       "        vertical-align: top;\n",
       "    }\n",
       "\n",
       "    .dataframe thead th {\n",
       "        text-align: right;\n",
       "    }\n",
       "</style>\n",
       "<table border=\"1\" class=\"dataframe\">\n",
       "  <thead>\n",
       "    <tr style=\"text-align: right;\">\n",
       "      <th></th>\n",
       "      <th>species</th>\n",
       "      <th>island</th>\n",
       "      <th>bill_length_mm</th>\n",
       "      <th>bill_depth_mm</th>\n",
       "      <th>flipper_length_mm</th>\n",
       "      <th>body_mass_g</th>\n",
       "      <th>sex</th>\n",
       "    </tr>\n",
       "  </thead>\n",
       "  <tbody>\n",
       "    <tr>\n",
       "      <th>0</th>\n",
       "      <td>Adelie</td>\n",
       "      <td>Torgersen</td>\n",
       "      <td>39.1</td>\n",
       "      <td>18.7</td>\n",
       "      <td>181.0</td>\n",
       "      <td>3750.0</td>\n",
       "      <td>Male</td>\n",
       "    </tr>\n",
       "    <tr>\n",
       "      <th>1</th>\n",
       "      <td>Adelie</td>\n",
       "      <td>Torgersen</td>\n",
       "      <td>39.5</td>\n",
       "      <td>17.4</td>\n",
       "      <td>186.0</td>\n",
       "      <td>3800.0</td>\n",
       "      <td>Female</td>\n",
       "    </tr>\n",
       "    <tr>\n",
       "      <th>2</th>\n",
       "      <td>Adelie</td>\n",
       "      <td>Torgersen</td>\n",
       "      <td>40.3</td>\n",
       "      <td>18.0</td>\n",
       "      <td>195.0</td>\n",
       "      <td>3250.0</td>\n",
       "      <td>Female</td>\n",
       "    </tr>\n",
       "    <tr>\n",
       "      <th>3</th>\n",
       "      <td>Adelie</td>\n",
       "      <td>Torgersen</td>\n",
       "      <td>NaN</td>\n",
       "      <td>NaN</td>\n",
       "      <td>NaN</td>\n",
       "      <td>NaN</td>\n",
       "      <td>NaN</td>\n",
       "    </tr>\n",
       "    <tr>\n",
       "      <th>4</th>\n",
       "      <td>Adelie</td>\n",
       "      <td>Torgersen</td>\n",
       "      <td>36.7</td>\n",
       "      <td>19.3</td>\n",
       "      <td>193.0</td>\n",
       "      <td>3450.0</td>\n",
       "      <td>Female</td>\n",
       "    </tr>\n",
       "    <tr>\n",
       "      <th>...</th>\n",
       "      <td>...</td>\n",
       "      <td>...</td>\n",
       "      <td>...</td>\n",
       "      <td>...</td>\n",
       "      <td>...</td>\n",
       "      <td>...</td>\n",
       "      <td>...</td>\n",
       "    </tr>\n",
       "    <tr>\n",
       "      <th>339</th>\n",
       "      <td>Gentoo</td>\n",
       "      <td>Biscoe</td>\n",
       "      <td>NaN</td>\n",
       "      <td>NaN</td>\n",
       "      <td>NaN</td>\n",
       "      <td>NaN</td>\n",
       "      <td>NaN</td>\n",
       "    </tr>\n",
       "    <tr>\n",
       "      <th>340</th>\n",
       "      <td>Gentoo</td>\n",
       "      <td>Biscoe</td>\n",
       "      <td>46.8</td>\n",
       "      <td>14.3</td>\n",
       "      <td>215.0</td>\n",
       "      <td>4850.0</td>\n",
       "      <td>Female</td>\n",
       "    </tr>\n",
       "    <tr>\n",
       "      <th>341</th>\n",
       "      <td>Gentoo</td>\n",
       "      <td>Biscoe</td>\n",
       "      <td>50.4</td>\n",
       "      <td>15.7</td>\n",
       "      <td>222.0</td>\n",
       "      <td>5750.0</td>\n",
       "      <td>Male</td>\n",
       "    </tr>\n",
       "    <tr>\n",
       "      <th>342</th>\n",
       "      <td>Gentoo</td>\n",
       "      <td>Biscoe</td>\n",
       "      <td>45.2</td>\n",
       "      <td>14.8</td>\n",
       "      <td>212.0</td>\n",
       "      <td>5200.0</td>\n",
       "      <td>Female</td>\n",
       "    </tr>\n",
       "    <tr>\n",
       "      <th>343</th>\n",
       "      <td>Gentoo</td>\n",
       "      <td>Biscoe</td>\n",
       "      <td>49.9</td>\n",
       "      <td>16.1</td>\n",
       "      <td>213.0</td>\n",
       "      <td>5400.0</td>\n",
       "      <td>Male</td>\n",
       "    </tr>\n",
       "  </tbody>\n",
       "</table>\n",
       "<p>344 rows × 7 columns</p>\n",
       "</div>"
      ],
      "text/plain": [
       "    species     island  bill_length_mm  bill_depth_mm  flipper_length_mm  \\\n",
       "0    Adelie  Torgersen            39.1           18.7              181.0   \n",
       "1    Adelie  Torgersen            39.5           17.4              186.0   \n",
       "2    Adelie  Torgersen            40.3           18.0              195.0   \n",
       "3    Adelie  Torgersen             NaN            NaN                NaN   \n",
       "4    Adelie  Torgersen            36.7           19.3              193.0   \n",
       "..      ...        ...             ...            ...                ...   \n",
       "339  Gentoo     Biscoe             NaN            NaN                NaN   \n",
       "340  Gentoo     Biscoe            46.8           14.3              215.0   \n",
       "341  Gentoo     Biscoe            50.4           15.7              222.0   \n",
       "342  Gentoo     Biscoe            45.2           14.8              212.0   \n",
       "343  Gentoo     Biscoe            49.9           16.1              213.0   \n",
       "\n",
       "     body_mass_g     sex  \n",
       "0         3750.0    Male  \n",
       "1         3800.0  Female  \n",
       "2         3250.0  Female  \n",
       "3            NaN     NaN  \n",
       "4         3450.0  Female  \n",
       "..           ...     ...  \n",
       "339          NaN     NaN  \n",
       "340       4850.0  Female  \n",
       "341       5750.0    Male  \n",
       "342       5200.0  Female  \n",
       "343       5400.0    Male  \n",
       "\n",
       "[344 rows x 7 columns]"
      ]
     },
     "execution_count": 14,
     "metadata": {},
     "output_type": "execute_result"
    }
   ],
   "source": [
    "#1.Write the syntax for choosing the specific dataset\n",
    "df = sns.load_dataset(\"penguins\")\n",
    "df"
   ]
  },
  {
   "cell_type": "code",
   "execution_count": null,
   "id": "42076880-c948-4d78-8531-17d7e098b22e",
   "metadata": {},
   "outputs": [],
   "source": [
    "#2.Display the top 5 records of penguin dataset\n",
    "#3.Display the dimensionality of the dataset"
   ]
  },
  {
   "cell_type": "code",
   "execution_count": null,
   "id": "a4459120-ee63-4074-93b1-7954e65fdd04",
   "metadata": {},
   "outputs": [],
   "source": [
    "#4.Display the datatypes of the attributes "
   ]
  },
  {
   "cell_type": "code",
   "execution_count": null,
   "id": "47750761-49cd-412e-a328-48a30edeab6a",
   "metadata": {},
   "outputs": [],
   "source": [
    "#5.Describe the dataset extensively\n"
   ]
  },
  {
   "cell_type": "code",
   "execution_count": null,
   "id": "8b050799-f6be-4e5e-a13d-c902154e62f2",
   "metadata": {},
   "outputs": [],
   "source": [
    "#6.Display the number of null values in the dataset and the total count of it\n"
   ]
  },
  {
   "cell_type": "code",
   "execution_count": null,
   "id": "ffc7582a-5454-432c-a0db-339d78288e85",
   "metadata": {},
   "outputs": [],
   "source": [
    "#7.Identify the columns having null values and remove them"
   ]
  },
  {
   "cell_type": "code",
   "execution_count": null,
   "id": "6b22ad75-2bb0-4ea0-9701-e661babfb3b1",
   "metadata": {},
   "outputs": [],
   "source": [
    "# 8.check the size of dataset after cleaning and compare with the size before cleaning"
   ]
  },
  {
   "cell_type": "code",
   "execution_count": null,
   "id": "925802da-f9bf-4857-8e83-8613c8657988",
   "metadata": {},
   "outputs": [],
   "source": [
    "#9.Find out the count of male and female penguins"
   ]
  },
  {
   "cell_type": "code",
   "execution_count": null,
   "id": "17b8db93-5f29-4ef9-be5a-fe6aea399545",
   "metadata": {},
   "outputs": [],
   "source": [
    "#10.Find out the count of species "
   ]
  },
  {
   "cell_type": "code",
   "execution_count": null,
   "id": "d0a996f9-2135-4f70-8473-e52fffebf347",
   "metadata": {},
   "outputs": [],
   "source": [
    "#11. Use a countplot graph to display the number of male and female penguins\n",
    "#Give the plot a title \"Count of male and female penguins\"\n",
    "#Give a xlabel and ylabel "
   ]
  },
  {
   "cell_type": "code",
   "execution_count": null,
   "id": "16d80f97-e5bb-45c1-a79f-4453a530cdba",
   "metadata": {},
   "outputs": [],
   "source": [
    "#12. For all the penguins display the bill_length_mm and bill_depth_mm using pairplot\n"
   ]
  },
  {
   "cell_type": "code",
   "execution_count": null,
   "id": "834a1135-8921-487e-aea5-7c778b5aa1d8",
   "metadata": {},
   "outputs": [],
   "source": [
    "#13.Create a visualization to display the flipper_length_mm and body_mass_g for the penguin dataset.\n"
   ]
  },
  {
   "cell_type": "code",
   "execution_count": null,
   "id": "de310c32-e017-421b-ab83-234d67d9c8b7",
   "metadata": {},
   "outputs": [],
   "source": [
    "#14. Create a histogram with the flipper_length_mm and bins = 10\n"
   ]
  },
  {
   "cell_type": "code",
   "execution_count": null,
   "id": "07449009-ed3f-4303-b358-1ecb49d00c63",
   "metadata": {},
   "outputs": [],
   "source": [
    "#15. Create a joint point with body_length_mm, body_depth_mm for penguins_cleaned dataset\n"
   ]
  },
  {
   "cell_type": "code",
   "execution_count": null,
   "id": "bfddd580-9210-4f70-ba01-1bd45319584f",
   "metadata": {},
   "outputs": [],
   "source": [
    "#16. Use a pairwise plot to display all the numerical values of the dataset penguins_cleaned\n"
   ]
  },
  {
   "cell_type": "code",
   "execution_count": null,
   "id": "59df079c-5953-485c-b91e-375c6213468f",
   "metadata": {},
   "outputs": [],
   "source": [
    "#17.Check if there exists any outliers based on the boxplot based on numerical values  of penguins_cleaned dataset\n"
   ]
  },
  {
   "cell_type": "code",
   "execution_count": null,
   "id": "0a04eea0-1e98-4f0d-900c-41883f037ff4",
   "metadata": {},
   "outputs": [],
   "source": []
  },
  {
   "cell_type": "code",
   "execution_count": null,
   "id": "3837272a-eead-4b71-802d-918ff0723b8f",
   "metadata": {},
   "outputs": [],
   "source": [
    "\n"
   ]
  },
  {
   "cell_type": "code",
   "execution_count": null,
   "id": "d2b6483a-959e-49fb-908d-1b5e5356428a",
   "metadata": {},
   "outputs": [],
   "source": []
  },
  {
   "cell_type": "code",
   "execution_count": null,
   "id": "f553fea9-91e8-427b-9db4-8b2c27bcb9c6",
   "metadata": {},
   "outputs": [],
   "source": [
    "#18. Create a violin plot to display the body_mass_g of different species based on sex\n",
    "\n"
   ]
  },
  {
   "cell_type": "code",
   "execution_count": null,
   "id": "12ae8ac4-e47a-49c6-a836-0ffbc832d721",
   "metadata": {},
   "outputs": [],
   "source": []
  }
 ],
 "metadata": {
  "kernelspec": {
   "display_name": "Python 3 (ipykernel)",
   "language": "python",
   "name": "python3"
  },
  "language_info": {
   "codemirror_mode": {
    "name": "ipython",
    "version": 3
   },
   "file_extension": ".py",
   "mimetype": "text/x-python",
   "name": "python",
   "nbconvert_exporter": "python",
   "pygments_lexer": "ipython3",
   "version": "3.12.4"
  }
 },
 "nbformat": 4,
 "nbformat_minor": 5
}
