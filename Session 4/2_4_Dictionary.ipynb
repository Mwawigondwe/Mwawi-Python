{
  "cells": [
    {
      "cell_type": "markdown",
      "metadata": {
        "id": "CQgSdaRE8YWP"
      },
      "source": [
        "#Dictionary\n",
        "\n",
        "A dictionary in Python is a collection of key-value pairs. Each key in a dictionary is unique, and it maps to a value. Dictionaries are mutable, meaning you can change their contents, and they are unordered\n",
        "\n",
        "A dictionary has a key: value pair."
      ]
    },
    {
      "cell_type": "markdown",
      "metadata": {
        "id": "QNZdRerx8YWQ"
      },
      "source": [
        "## Dict Creation"
      ]
    },
    {
      "cell_type": "code",
      "execution_count": null,
      "metadata": {
        "colab": {
          "base_uri": "https://localhost:8080/"
        },
        "id": "PhZ00ce88YWS",
        "outputId": "4670eacf-06c1-4334-f7a3-81054c917a72"
      },
      "outputs": [
        {
          "data": {
            "text/plain": [
              "{}"
            ]
          },
          "execution_count": 7,
          "metadata": {},
          "output_type": "execute_result"
        }
      ],
      "source": [
        "#empty dictionary\n",
        "y_dict = {}\n",
        "y_dict\n",
        "\n",
        "# dict={key1:value1,key2:value2,...,}"
      ]
    },
    {
      "cell_type": "code",
      "execution_count": null,
      "metadata": {
        "colab": {
          "base_uri": "https://localhost:8080/"
        },
        "id": "oTuI4bj_lXiT",
        "outputId": "221dec20-c4be-4d11-e930-002e62d7b897"
      },
      "outputs": [
        {
          "name": "stdout",
          "output_type": "stream",
          "text": [
            "<class 'dict'>\n"
          ]
        },
        {
          "data": {
            "text/plain": [
              "{}"
            ]
          },
          "execution_count": 4,
          "metadata": {},
          "output_type": "execute_result"
        }
      ],
      "source": [
        "x=dict()\n",
        "print(type(x))\n",
        "x"
      ]
    },
    {
      "cell_type": "code",
      "execution_count": null,
      "metadata": {
        "id": "Y2hd8T5cWYVA"
      },
      "outputs": [],
      "source": [
        "employee={\"name\":\"nilay\"}"
      ]
    },
    {
      "cell_type": "code",
      "execution_count": null,
      "metadata": {
        "id": "y0UmwslxWYVA",
        "outputId": "137b572d-4c68-4be2-aaa0-37eb1c87938f"
      },
      "outputs": [
        {
          "data": {
            "text/plain": [
              "'nilay'"
            ]
          },
          "execution_count": 3,
          "metadata": {},
          "output_type": "execute_result"
        }
      ],
      "source": [
        "employee[\"name\"]"
      ]
    },
    {
      "cell_type": "code",
      "execution_count": null,
      "metadata": {
        "id": "IPyvrXSIWYVB"
      },
      "outputs": [],
      "source": [
        "employee={\"name\":\"nilay\",\"designation\":\"engineer\",\"id\":101,\"age\":35.8}"
      ]
    },
    {
      "cell_type": "code",
      "execution_count": null,
      "metadata": {
        "id": "yrZ9WH0bWYVB",
        "outputId": "4493470a-6a45-4385-e3a5-2aacfb16334a"
      },
      "outputs": [
        {
          "data": {
            "text/plain": [
              "35.8"
            ]
          },
          "execution_count": 5,
          "metadata": {},
          "output_type": "execute_result"
        }
      ],
      "source": [
        "employee[\"age\"]"
      ]
    },
    {
      "cell_type": "code",
      "execution_count": null,
      "metadata": {
        "colab": {
          "base_uri": "https://localhost:8080/"
        },
        "id": "R2-dHJ2HKM5Y",
        "outputId": "cc5b54a7-0e5f-4c37-a1c6-65421be4f323",
        "scrolled": true
      },
      "outputs": [
        {
          "name": "stdout",
          "output_type": "stream",
          "text": [
            "{'name': 'Nilay', 'city': 'Pune', 'email': 'nilaykarade@gmail.com'}\n"
          ]
        }
      ],
      "source": [
        "#dictionary with text keys,text values\n",
        "user_dict = {'name': 'Nilay',\n",
        "             'city':'Pune',\n",
        "             'email':'nilaykarade@gmail.com'}\n",
        "print(user_dict)"
      ]
    },
    {
      "cell_type": "code",
      "execution_count": null,
      "metadata": {
        "id": "U3luzw-iKM5Y",
        "outputId": "cb555be5-b764-4d8e-d7b3-a0aa4bdd60d9"
      },
      "outputs": [
        {
          "data": {
            "text/plain": [
              "'Nilay'"
            ]
          },
          "execution_count": 4,
          "metadata": {},
          "output_type": "execute_result"
        }
      ],
      "source": [
        "user_dict['name']"
      ]
    },
    {
      "cell_type": "code",
      "execution_count": null,
      "metadata": {
        "id": "5prQelT6KM5Z",
        "outputId": "a0677a2f-6ef7-411d-b88f-8dc4b7acf4da",
        "scrolled": false
      },
      "outputs": [
        {
          "data": {
            "text/plain": [
              "'Pune'"
            ]
          },
          "execution_count": 8,
          "metadata": {},
          "output_type": "execute_result"
        }
      ],
      "source": [
        "user_dict['city']"
      ]
    },
    {
      "cell_type": "code",
      "execution_count": null,
      "metadata": {
        "id": "Bi1Kq07xKM5Z",
        "outputId": "d5c6d40d-8311-461d-94b4-e27302b28388"
      },
      "outputs": [
        {
          "data": {
            "text/plain": [
              "{'name': 'Nilay',\n",
              " 'city': 'Pune',\n",
              " 'email': 'nilaykarade@gmail.com',\n",
              " 'designation': 'AI engg.'}"
            ]
          },
          "execution_count": 5,
          "metadata": {},
          "output_type": "execute_result"
        }
      ],
      "source": [
        "#adding a new data into a dictionary\n",
        "user_dict['designation']=\"AI engg.\"\n",
        "user_dict"
      ]
    },
    {
      "cell_type": "code",
      "execution_count": null,
      "metadata": {
        "colab": {
          "base_uri": "https://localhost:8080/"
        },
        "id": "sDPZ1s1wKM5Z",
        "outputId": "b657f32c-51d7-44ac-f4d7-81c44f242605"
      },
      "outputs": [
        {
          "name": "stdout",
          "output_type": "stream",
          "text": [
            "{'name': 'Nilay', 'age': 20, 'height': 178.8, 'city': 'Pune', 'email': 'nilaykarade@gmail.com'}\n"
          ]
        }
      ],
      "source": [
        "#dictionary with mixed types of  keys and values\n",
        "user_dict = {'name': 'Nilay',\n",
        "             'age':20,\n",
        "             'height':178.8,\n",
        "             'city':'Pune',\n",
        "             'email':'nilaykarade@gmail.com'}\n",
        "print(user_dict)\n",
        "\n"
      ]
    },
    {
      "cell_type": "code",
      "execution_count": null,
      "metadata": {
        "id": "feQGtU7ChSW5"
      },
      "outputs": [],
      "source": [
        "#Task 1 - create following dictionary\n",
        "#movie_dict\n",
        "#student\n",
        "#course\n"
      ]
    },
    {
      "cell_type": "code",
      "execution_count": null,
      "metadata": {
        "colab": {
          "base_uri": "https://localhost:8080/"
        },
        "id": "pYnBoblLKM5a",
        "outputId": "a1198b1b-4181-40c9-e618-2d4128be9bc9",
        "scrolled": false
      },
      "outputs": [
        {
          "output_type": "stream",
          "name": "stdout",
          "text": [
            "{'name': 'Nilay', 'age': 20, 'work_from_home': False, 'skills': ['Data Science', 'Machine Learning', 'Deep Learning'], 'qualification': ('Ph D', 'MCA', 'B Sc'), 'contact_info': {'address': 'Pune', 'mobile': 999999999, 'email': 'nilaykarade@gmail.com'}}\n"
          ]
        }
      ],
      "source": [
        "#dictionary with mixed types of  keys and values\n",
        "user_dict = {'name': 'Nilay',\n",
        "             'age':20,\n",
        "             'work_from_home':False,\n",
        "             'skills':['Data Science','Machine Learning','Deep Learning'],\n",
        "             'qualification':('Ph D', 'MCA','B Sc'),\n",
        "             'contact_info':{'address':'Pune','mobile':999999999,\n",
        "                             'email':'nilaykarade@gmail.com'}\n",
        "            }\n",
        "print(user_dict)\n",
        "\n"
      ]
    },
    {
      "cell_type": "code",
      "execution_count": null,
      "metadata": {
        "colab": {
          "base_uri": "https://localhost:8080/",
          "height": 35
        },
        "id": "0yAU1upRKM5a",
        "outputId": "c96e5fcf-aa72-400b-9cf0-fa1499d83920"
      },
      "outputs": [
        {
          "data": {
            "application/vnd.google.colaboratory.intrinsic+json": {
              "type": "string"
            },
            "text/plain": [
              "'Nilay'"
            ]
          },
          "execution_count": 8,
          "metadata": {},
          "output_type": "execute_result"
        }
      ],
      "source": [
        "user_dict['name']"
      ]
    },
    {
      "cell_type": "code",
      "execution_count": null,
      "metadata": {
        "colab": {
          "base_uri": "https://localhost:8080/"
        },
        "id": "HCqY6bjHn8E0",
        "outputId": "e5611a74-59ef-442a-b2a0-6276e33c3f56"
      },
      "outputs": [
        {
          "data": {
            "text/plain": [
              "['Data Science', 'Machine Learning', 'Deep Learning']"
            ]
          },
          "execution_count": 10,
          "metadata": {},
          "output_type": "execute_result"
        }
      ],
      "source": [
        "user_dict['skills']"
      ]
    },
    {
      "cell_type": "code",
      "execution_count": null,
      "metadata": {
        "colab": {
          "base_uri": "https://localhost:8080/",
          "height": 35
        },
        "id": "iVC4WquSKM5a",
        "outputId": "920061db-3713-421c-9ceb-5058849cf3c8"
      },
      "outputs": [
        {
          "data": {
            "application/vnd.google.colaboratory.intrinsic+json": {
              "type": "string"
            },
            "text/plain": [
              "'Machine Learning'"
            ]
          },
          "execution_count": 9,
          "metadata": {},
          "output_type": "execute_result"
        }
      ],
      "source": [
        "user_dict['skills'][1]"
      ]
    },
    {
      "cell_type": "code",
      "execution_count": null,
      "metadata": {
        "colab": {
          "base_uri": "https://localhost:8080/"
        },
        "id": "T6YfxDD9oB-C",
        "outputId": "57d7b6e0-5260-4d59-e546-9b484dfa49ca"
      },
      "outputs": [
        {
          "data": {
            "text/plain": [
              "('Ph D', 'MCA', 'B Sc')"
            ]
          },
          "execution_count": 11,
          "metadata": {},
          "output_type": "execute_result"
        }
      ],
      "source": [
        "user_dict['qualification']"
      ]
    },
    {
      "cell_type": "code",
      "execution_count": null,
      "metadata": {
        "id": "vA0zBErTKM5a",
        "outputId": "9c127ea7-8f91-487b-a406-5292eb9d3c84"
      },
      "outputs": [
        {
          "data": {
            "text/plain": [
              "'Ph D'"
            ]
          },
          "execution_count": 10,
          "metadata": {},
          "output_type": "execute_result"
        }
      ],
      "source": [
        "user_dict['qualification'][0]"
      ]
    },
    {
      "cell_type": "code",
      "execution_count": null,
      "metadata": {
        "colab": {
          "base_uri": "https://localhost:8080/"
        },
        "id": "c_L9mpcToRzz",
        "outputId": "41e1abda-c9d2-46d7-f1be-e418af007d26"
      },
      "outputs": [
        {
          "data": {
            "text/plain": [
              "{'address': 'Pune', 'email': 'nilaykarade@gmail.com', 'mobile': 999999999}"
            ]
          },
          "execution_count": 12,
          "metadata": {},
          "output_type": "execute_result"
        }
      ],
      "source": [
        "user_dict['contact_info']"
      ]
    },
    {
      "cell_type": "code",
      "execution_count": null,
      "metadata": {
        "id": "aRNngYIBKM5b",
        "outputId": "05364a41-a8b8-4811-b891-5d813f0385c8"
      },
      "outputs": [
        {
          "data": {
            "text/plain": [
              "'nilaykarade@gmail.com'"
            ]
          },
          "execution_count": 11,
          "metadata": {},
          "output_type": "execute_result"
        }
      ],
      "source": [
        "user_dict['contact_info']['email']\n"
      ]
    },
    {
      "cell_type": "code",
      "execution_count": null,
      "metadata": {
        "id": "ixCetiyQWYVG",
        "outputId": "e5e8d24e-663d-4f66-d3c9-33e9e63f7ebc"
      },
      "outputs": [
        {
          "data": {
            "text/plain": [
              "9"
            ]
          },
          "execution_count": 8,
          "metadata": {},
          "output_type": "execute_result"
        }
      ],
      "source": [
        "len(user_dict)"
      ]
    },
    {
      "cell_type": "code",
      "execution_count": null,
      "metadata": {
        "id": "Kn7eaRWOKM5c",
        "outputId": "3d65c1bb-f7ca-4722-f47d-e3bb3ac90b43"
      },
      "outputs": [
        {
          "name": "stdout",
          "output_type": "stream",
          "text": [
            "{'name': 'nilay', 'height': 178}\n"
          ]
        }
      ],
      "source": [
        "my_dict = dict([(\"name\", 'nilay'), ('height', 178)])    #create a dict with list of tuples\n",
        "print(my_dict)"
      ]
    },
    {
      "cell_type": "code",
      "execution_count": null,
      "metadata": {
        "id": "VTKvAqmtKM5c"
      },
      "outputs": [],
      "source": [
        "user1={'name':'Joy'}\n",
        "user2={'name':'Amanda'}"
      ]
    },
    {
      "cell_type": "code",
      "execution_count": null,
      "metadata": {
        "id": "A5o-iAHuKM5f",
        "outputId": "e14b3330-a916-4e9e-d918-61a6faf36446"
      },
      "outputs": [
        {
          "data": {
            "text/plain": [
              "{'address': 'Pune', 'mobile': 999999999, 'email': 'nilaykarade@gmail.com'}"
            ]
          },
          "execution_count": 27,
          "metadata": {},
          "output_type": "execute_result"
        }
      ],
      "source": [
        "user_dict.get('contact_info')"
      ]
    },
    {
      "cell_type": "code",
      "execution_count": null,
      "metadata": {
        "id": "CffZQGuRKM5f",
        "outputId": "4f71b878-72c1-40f2-992a-ee9aefb5ebcc"
      },
      "outputs": [
        {
          "data": {
            "text/plain": [
              "'Pune'"
            ]
          },
          "execution_count": 25,
          "metadata": {},
          "output_type": "execute_result"
        }
      ],
      "source": [
        "user_dict.get('contact_info').get('address')"
      ]
    },
    {
      "cell_type": "code",
      "execution_count": null,
      "metadata": {
        "id": "rhVPbRDZKM5g",
        "outputId": "6562240d-393a-4e68-b897-71075e38d707"
      },
      "outputs": [
        {
          "data": {
            "text/plain": [
              "'Pune'"
            ]
          },
          "execution_count": 23,
          "metadata": {},
          "output_type": "execute_result"
        }
      ],
      "source": [
        "user_dict.get('contact_info')['address']"
      ]
    },
    {
      "cell_type": "code",
      "execution_count": null,
      "metadata": {
        "id": "l4abtvK5KM5g"
      },
      "outputs": [],
      "source": [
        "#print other values of user_dict using get()"
      ]
    },
    {
      "cell_type": "markdown",
      "metadata": {
        "id": "QVQG50dG8YWy"
      },
      "source": [
        "## Dict Add or Modify  Elements"
      ]
    },
    {
      "cell_type": "code",
      "execution_count": null,
      "metadata": {
        "id": "vMb2joW0KM5g",
        "outputId": "f154b488-d466-4e2b-e647-d5796885f3b5"
      },
      "outputs": [
        {
          "data": {
            "text/plain": [
              "{'name': 'Nilay',\n",
              " 'age': 20,\n",
              " 'is_willing_to_relocate': False,\n",
              " 'skills': ['Data Science', 'Machine Learning', 'Deep Learning'],\n",
              " 'qualification': ('Ph D', 'MCA', 'B Sc'),\n",
              " 'contact_info': {'address': 'Pune',\n",
              "  'mobile': 999999999,\n",
              "  'email': 'nilaykarade@gmail.com'},\n",
              " 101: 66}"
            ]
          },
          "execution_count": 29,
          "metadata": {},
          "output_type": "execute_result"
        }
      ],
      "source": [
        "user_dict"
      ]
    },
    {
      "cell_type": "code",
      "execution_count": null,
      "metadata": {
        "id": "Cg9LrSiL8YW0",
        "outputId": "035304a8-cc63-4bb2-d5ee-a58a22c19f30",
        "scrolled": true
      },
      "outputs": [
        {
          "data": {
            "text/plain": [
              "{'name': 'Nilay Karade',\n",
              " 'age': 35,\n",
              " 'is_willing_to_relocate': False,\n",
              " 'skills': ['Data Science', 'Machine Learning', 'Deep Learning'],\n",
              " 'qualification': ('Ph D', 'MCA', 'B Sc'),\n",
              " 'contact_info': {'address': 'Pune',\n",
              "  'mobile': 999999999,\n",
              "  'email': 'nilaykarade@gmail.com'},\n",
              " 101: 66}"
            ]
          },
          "execution_count": 26,
          "metadata": {},
          "output_type": "execute_result"
        }
      ],
      "source": [
        "user_dict['name'] = 'Nilay Karade'\n",
        "user_dict['age']=35\n",
        "user_dict\n",
        "#change age value"
      ]
    },
    {
      "cell_type": "code",
      "execution_count": null,
      "metadata": {
        "id": "KTp8AmEZKM5g",
        "outputId": "97c73804-feda-4e19-d933-4c119e9b7142"
      },
      "outputs": [
        {
          "data": {
            "text/plain": [
              "['Data Science', 'Machine Learning', 'Deep Learning']"
            ]
          },
          "execution_count": 27,
          "metadata": {},
          "output_type": "execute_result"
        }
      ],
      "source": [
        "#change value of 'data science' to  'data science  & analytics'\n",
        "user_dict['skills']"
      ]
    },
    {
      "cell_type": "code",
      "execution_count": null,
      "metadata": {
        "id": "Mrh7RgeZKM5h",
        "outputId": "42ae2995-d7be-4c38-ceb7-c3d819298e26"
      },
      "outputs": [
        {
          "data": {
            "text/plain": [
              "'Data Science'"
            ]
          },
          "execution_count": 28,
          "metadata": {},
          "output_type": "execute_result"
        }
      ],
      "source": [
        "user_dict['skills'][0]"
      ]
    },
    {
      "cell_type": "code",
      "execution_count": null,
      "metadata": {
        "id": "ZmPJjQJAKM5h",
        "outputId": "36b83dcb-bab3-49fd-e2e2-a84eb4eed241"
      },
      "outputs": [
        {
          "data": {
            "text/plain": [
              "{'name': 'Nilay Karade',\n",
              " 'age': 35,\n",
              " 'is_willing_to_relocate': False,\n",
              " 'skills': ['Data Science & Data Analytics',\n",
              "  'Machine Learning',\n",
              "  'Deep Learning'],\n",
              " 'qualification': ('Ph D', 'MCA', 'B Sc'),\n",
              " 'contact_info': {'address': 'Pune',\n",
              "  'mobile': 999999999,\n",
              "  'email': 'nilaykarade@gmail.com'},\n",
              " 101: 66}"
            ]
          },
          "execution_count": 29,
          "metadata": {},
          "output_type": "execute_result"
        }
      ],
      "source": [
        "user_dict['skills'][0]=\"Data Science & Data Analytics\"\n",
        "user_dict"
      ]
    },
    {
      "cell_type": "code",
      "execution_count": null,
      "metadata": {
        "id": "pWOxVTOsKM5h",
        "outputId": "1cf9326a-4a7f-4c29-add7-60faf2efe514"
      },
      "outputs": [
        {
          "data": {
            "text/plain": [
              "{'name': 'Nilay Karade',\n",
              " 'age': 35,\n",
              " 'is_willing_to_relocate': False,\n",
              " 'skills': ['Data Science & Data Analytics',\n",
              "  'Machine Learning',\n",
              "  'Deep Learning',\n",
              "  'Artificial Int.'],\n",
              " 'qualification': ('Ph D', 'MCA', 'B Sc'),\n",
              " 'contact_info': {'address': 'Pune',\n",
              "  'mobile': 999999999,\n",
              "  'email': 'nilaykarade@gmail.com'},\n",
              " 101: 66}"
            ]
          },
          "execution_count": 30,
          "metadata": {},
          "output_type": "execute_result"
        }
      ],
      "source": [
        "user_dict['skills'].append(\"Artificial Int.\")\n",
        "user_dict"
      ]
    },
    {
      "cell_type": "code",
      "execution_count": null,
      "metadata": {
        "colab": {
          "base_uri": "https://localhost:8080/"
        },
        "id": "lYP9fW23KM5h",
        "outputId": "593dc851-5955-4312-91f3-eb524d73f521"
      },
      "outputs": [
        {
          "data": {
            "text/plain": [
              "{101: 66,\n",
              " 12.3: 99,\n",
              " True: 'xyz',\n",
              " 'age': 20,\n",
              " 'contact_info': {'address': 'Pune',\n",
              "  'email': 'nilaykarade@gmail.com',\n",
              "  'mobile': 888888888},\n",
              " 'name': 'Nilay',\n",
              " 'qualification': ('Ph D', 'MCA', 'B Sc'),\n",
              " 'skills': ['Data Science', 'Machine Learning', 'Deep Learning'],\n",
              " 'work_from_home': False}"
            ]
          },
          "execution_count": 17,
          "metadata": {},
          "output_type": "execute_result"
        }
      ],
      "source": [
        "user_dict['contact_info']['mobile'] = 888888888\n",
        "user_dict"
      ]
    },
    {
      "cell_type": "code",
      "execution_count": null,
      "metadata": {
        "id": "CZ2yD3Yv8YW5"
      },
      "outputs": [],
      "source": [
        "# modify age, skills, mobile number"
      ]
    },
    {
      "cell_type": "markdown",
      "metadata": {
        "id": "JlbqO1N78YW8"
      },
      "source": [
        "## Dict Delete or Remove Element"
      ]
    },
    {
      "cell_type": "code",
      "execution_count": null,
      "metadata": {
        "colab": {
          "base_uri": "https://localhost:8080/"
        },
        "id": "8WJsHD9E8YW9",
        "outputId": "1a0fd901-64bb-4b74-b730-606820467e1e"
      },
      "outputs": [
        {
          "data": {
            "text/plain": [
              "{101: 66,\n",
              " 12.3: 99,\n",
              " True: 'xyz',\n",
              " 'contact_info': {'address': 'Pune',\n",
              "  'email': 'nilaykarade@gmail.com',\n",
              "  'mobile': 888888888},\n",
              " 'name': 'Nilay',\n",
              " 'qualification': ('Ph D', 'MCA', 'B Sc'),\n",
              " 'skills': ['Data Science', 'Machine Learning', 'Deep Learning'],\n",
              " 'work_from_home': False}"
            ]
          },
          "execution_count": 18,
          "metadata": {},
          "output_type": "execute_result"
        }
      ],
      "source": [
        "user_dict.pop('age')\n",
        "user_dict"
      ]
    },
    {
      "cell_type": "code",
      "execution_count": null,
      "metadata": {
        "colab": {
          "base_uri": "https://localhost:8080/"
        },
        "id": "4m6D2JT4KM5i",
        "outputId": "4f129c04-d190-43ea-e113-b913315983e5"
      },
      "outputs": [
        {
          "name": "stdout",
          "output_type": "stream",
          "text": [
            "{1: 1, 2: 4, 3: 9, 4: 16, 5: 25}\n",
            "{1: 1, 2: 4, 3: 9, 4: 16}\n",
            "{1: 1, 2: 4, 3: 9}\n",
            "{1: 1, 2: 4}\n",
            "{1: 1}\n",
            "{}\n"
          ]
        }
      ],
      "source": [
        "#deleting from dictionalry\n",
        "\n",
        "squares = {1:1, 2: 4, 3: 9, 4: 16, 5: 25}\n",
        "print(squares)\n",
        "squares.popitem()\n",
        "print(squares)\n",
        "squares.popitem()\n",
        "print(squares)\n",
        "squares.popitem()\n",
        "print(squares)\n",
        "squares.popitem()\n",
        "print(squares)\n",
        "squares.popitem()\n",
        "print(squares)\n"
      ]
    },
    {
      "cell_type": "code",
      "execution_count": null,
      "metadata": {
        "id": "Eo4dNh9CKM5i",
        "outputId": "cb1e2820-15ba-4132-ddff-d10526549daf"
      },
      "outputs": [
        {
          "ename": "KeyError",
          "evalue": "'popitem(): dictionary is empty'",
          "output_type": "error",
          "traceback": [
            "\u001b[0;31m---------------------------------------------------------------------------\u001b[0m",
            "\u001b[0;31mKeyError\u001b[0m                                  Traceback (most recent call last)",
            "\u001b[0;32m/tmp/ipykernel_4093/264231611.py\u001b[0m in \u001b[0;36m<module>\u001b[0;34m\u001b[0m\n\u001b[0;32m----> 1\u001b[0;31m \u001b[0msquares\u001b[0m\u001b[0;34m.\u001b[0m\u001b[0mpopitem\u001b[0m\u001b[0;34m(\u001b[0m\u001b[0;34m)\u001b[0m\u001b[0;34m\u001b[0m\u001b[0;34m\u001b[0m\u001b[0m\n\u001b[0m",
            "\u001b[0;31mKeyError\u001b[0m: 'popitem(): dictionary is empty'"
          ]
        }
      ],
      "source": [
        "#error wil occur as no more items are left in the dictionary\n",
        "squares.popitem()"
      ]
    },
    {
      "cell_type": "code",
      "execution_count": null,
      "metadata": {
        "id": "WaE9o6-j8YXG",
        "outputId": "3b26053a-8ce1-4da0-bc7d-8a019b20699c"
      },
      "outputs": [
        {
          "name": "stdout",
          "output_type": "stream",
          "text": [
            "{2: 4, 3: 9, 4: 16, 5: 25}\n",
            "{}\n"
          ]
        }
      ],
      "source": [
        "#remove all items\n",
        "squares = {2: 4, 3: 9, 4: 16, 5: 25}\n",
        "print(squares)\n",
        "squares.clear()\n",
        "print(squares)"
      ]
    },
    {
      "cell_type": "code",
      "execution_count": null,
      "metadata": {
        "colab": {
          "base_uri": "https://localhost:8080/"
        },
        "id": "YMjrhvUr8YXZ",
        "outputId": "f88bcedf-cfd2-42ce-aadd-539996993cdd"
      },
      "outputs": [
        {
          "name": "stdout",
          "output_type": "stream",
          "text": [
            "dict_keys([2, 3, 4, 5])\n"
          ]
        }
      ],
      "source": [
        "squares = {2:4, 3:9, 4:16, 5:25}\n",
        "print(squares.keys()) #return a view of the dictionary keys\n"
      ]
    },
    {
      "cell_type": "code",
      "execution_count": null,
      "metadata": {
        "colab": {
          "base_uri": "https://localhost:8080/"
        },
        "id": "B2AU0n-Z8YXd",
        "outputId": "463c0c0d-2c9b-4f85-b179-1e6d54a7b30e"
      },
      "outputs": [
        {
          "name": "stdout",
          "output_type": "stream",
          "text": [
            "dict_values([4, 9, 16, 25])\n"
          ]
        }
      ],
      "source": [
        "squares = {2:4, 3:9, 4:16, 5:25}\n",
        "print(squares.values()) #return a view of the dictionary values"
      ]
    }
  ],
  "metadata": {
    "colab": {
      "provenance": []
    },
    "kernelspec": {
      "display_name": "Python 3 (ipykernel)",
      "language": "python",
      "name": "python3"
    },
    "language_info": {
      "codemirror_mode": {
        "name": "ipython",
        "version": 3
      },
      "file_extension": ".py",
      "mimetype": "text/x-python",
      "name": "python",
      "nbconvert_exporter": "python",
      "pygments_lexer": "ipython3",
      "version": "3.10.9"
    }
  },
  "nbformat": 4,
  "nbformat_minor": 0
}