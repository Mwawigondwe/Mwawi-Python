{
  "nbformat": 4,
  "nbformat_minor": 0,
  "metadata": {
    "colab": {
      "provenance": []
    },
    "kernelspec": {
      "name": "python3",
      "display_name": "Python 3"
    },
    "language_info": {
      "name": "python"
    }
  },
  "cells": [
    {
      "cell_type": "markdown",
      "source": [
        "#Python Strings\n",
        "\n",
        "A string in Python is a sequence of characters. Strings are one of the most common data types in Python and are used to store text. They can include letters, numbers, symbols, and whitespace characters.\n",
        "\n",
        "Key Points about Strings:\n",
        "- String Creation: Strings can be created by enclosing characters in single quotes ('), double quotes (\"), or triple quotes (''' or \"\"\").\n",
        "- Immutability: Strings in Python are immutable, meaning that once created, the characters within them cannot be changed.\n",
        "- String Concatenation: Strings can be concatenated using the + operator.\n",
        "String Multiplication: Strings can be repeated using the * operator.\n",
        "- String Indexing: Characters in a string can be accessed using indexing, with the first character at index 0.\n",
        "- String Slicing: Substrings can be obtained using slicing [start:end].\n",
        "String Methods: Python provides various methods to manipulate strings, such as upper(), lower(), strip(), split(), replace(), and more.\n",
        "- Escape Characters: Special characters can be included in strings using escape characters like \\n (newline), \\t (tab), \\\\ (backslash), etc.\n",
        "- Formatted Strings: Python supports formatted strings using the f-string format (f\"Hello, {name}\"), str.format(), and the older % formatting."
      ],
      "metadata": {
        "id": "sbK3kkh3VJkl"
      }
    },
    {
      "cell_type": "markdown",
      "source": [
        "Examples of string data"
      ],
      "metadata": {
        "id": "QA8ufjHeCVAg"
      }
    },
    {
      "cell_type": "code",
      "source": [
        "#Creating Strings\n",
        "msg1 = 'Hello, World!'\n",
        "msg2 = \"Hello, World!\"\n",
        "msg3 = '''Hello,\n",
        "World!'''"
      ],
      "metadata": {
        "id": "qoKJt-stVU__"
      },
      "execution_count": null,
      "outputs": []
    },
    {
      "cell_type": "code",
      "source": [
        "print(msg1)\n",
        "print(msg2)\n",
        "print(msg3)"
      ],
      "metadata": {
        "id": "wsHULFT0hNxC",
        "outputId": "f49993c9-f4b0-47b5-e6b9-19011b2603e6",
        "colab": {
          "base_uri": "https://localhost:8080/"
        }
      },
      "execution_count": null,
      "outputs": [
        {
          "output_type": "stream",
          "name": "stdout",
          "text": [
            "Hello, World!\n",
            "Hello, World!\n",
            "Hello,\n",
            "World!\n"
          ]
        }
      ]
    },
    {
      "cell_type": "code",
      "source": [
        "#String Concatenation\n",
        "str1 = \"Hello\"\n",
        "str2 = \"World\"\n",
        "result = str1 + \" \" + str2\n",
        "print(result)"
      ],
      "metadata": {
        "colab": {
          "base_uri": "https://localhost:8080/"
        },
        "id": "61sssLFhVetF",
        "outputId": "970a7acc-0e30-47e6-8b3a-722239764ab1"
      },
      "execution_count": null,
      "outputs": [
        {
          "output_type": "stream",
          "name": "stdout",
          "text": [
            "Hello World\n"
          ]
        }
      ]
    },
    {
      "cell_type": "code",
      "source": [
        "#String Multiplication:\n",
        "str1 = \"Hello\"\n",
        "result = str1 * 3\n",
        "print(result)"
      ],
      "metadata": {
        "id": "9Rh_RBGeVnvg",
        "colab": {
          "base_uri": "https://localhost:8080/"
        },
        "outputId": "5e99f3d9-7ed0-4956-894f-6197b6021bde"
      },
      "execution_count": null,
      "outputs": [
        {
          "output_type": "stream",
          "name": "stdout",
          "text": [
            "HelloHelloHello\n"
          ]
        }
      ]
    },
    {
      "cell_type": "code",
      "source": [
        "#String Indexing:\n",
        "str1 = \"Hello\"\n",
        "first_char = str1[0]\n",
        "print(first_char)"
      ],
      "metadata": {
        "id": "mjkOrcoCVsb7",
        "colab": {
          "base_uri": "https://localhost:8080/"
        },
        "outputId": "19f5cc8c-add7-4492-ee22-9b588424a437"
      },
      "execution_count": null,
      "outputs": [
        {
          "output_type": "stream",
          "name": "stdout",
          "text": [
            "H\n"
          ]
        }
      ]
    },
    {
      "cell_type": "code",
      "source": [
        "str1[-1]"
      ],
      "metadata": {
        "colab": {
          "base_uri": "https://localhost:8080/",
          "height": 35
        },
        "id": "-Jd9eQ-rkKAp",
        "outputId": "86f81358-e256-42c6-8452-4b0a5bb9f391"
      },
      "execution_count": null,
      "outputs": [
        {
          "output_type": "execute_result",
          "data": {
            "text/plain": [
              "'o'"
            ],
            "application/vnd.google.colaboratory.intrinsic+json": {
              "type": "string"
            }
          },
          "metadata": {},
          "execution_count": 14
        }
      ]
    },
    {
      "cell_type": "code",
      "source": [
        "#String Slicing:\n",
        "str1 = \"Hello, World!\"\n",
        "str1[7:12]\n"
      ],
      "metadata": {
        "id": "C_-4Gw1BVsPb",
        "colab": {
          "base_uri": "https://localhost:8080/",
          "height": 35
        },
        "outputId": "a8c0f558-f7b7-4ab0-fbd7-b546e05f87ef"
      },
      "execution_count": null,
      "outputs": [
        {
          "output_type": "execute_result",
          "data": {
            "text/plain": [
              "'World'"
            ],
            "application/vnd.google.colaboratory.intrinsic+json": {
              "type": "string"
            }
          },
          "metadata": {},
          "execution_count": 18
        }
      ]
    },
    {
      "cell_type": "code",
      "source": [
        "str1[0:5]"
      ],
      "metadata": {
        "colab": {
          "base_uri": "https://localhost:8080/",
          "height": 35
        },
        "id": "zxA0WFJbky3E",
        "outputId": "62240a90-4c50-486f-8470-aa783faf853c"
      },
      "execution_count": null,
      "outputs": [
        {
          "output_type": "execute_result",
          "data": {
            "text/plain": [
              "'Hello'"
            ],
            "application/vnd.google.colaboratory.intrinsic+json": {
              "type": "string"
            }
          },
          "metadata": {},
          "execution_count": 20
        }
      ]
    },
    {
      "cell_type": "code",
      "source": [
        "#String Methods:\n",
        "str1 = \"  Hello, World!  \"\n",
        "print(str1.upper())    # Output:   HELLO, WORLD!\n",
        "print(str1.lower())    # Output:   hello, world!\n",
        "print(str1.strip())    # Output: Hello, World!\n",
        "print(str1.replace(\"World\", \"Python\"))  # Output:   Hello, Python!"
      ],
      "metadata": {
        "id": "uZ8NPSAHVsM8",
        "colab": {
          "base_uri": "https://localhost:8080/"
        },
        "outputId": "9f7f7f8a-5405-41b7-81bd-5d7c516bb946"
      },
      "execution_count": null,
      "outputs": [
        {
          "output_type": "stream",
          "name": "stdout",
          "text": [
            "  HELLO, WORLD!  \n",
            "  hello, world!  \n",
            "Hello, World!\n",
            "  Hello, Python!  \n"
          ]
        }
      ]
    },
    {
      "cell_type": "code",
      "source": [
        "#Escape Characters:\n",
        "str1 = \"Hello\\nWorld\"\n",
        "print(str1)"
      ],
      "metadata": {
        "id": "vki6ucq2VsKZ",
        "colab": {
          "base_uri": "https://localhost:8080/"
        },
        "outputId": "91870bd3-f65d-4456-bfa9-b0b073e5e8d3"
      },
      "execution_count": null,
      "outputs": [
        {
          "output_type": "stream",
          "name": "stdout",
          "text": [
            "Hello\n",
            "World\n"
          ]
        }
      ]
    },
    {
      "cell_type": "code",
      "source": [
        "#String Splitting:\n",
        "str1 = \"apple,banana,cherry\"\n",
        "str1.split(\",\")"
      ],
      "metadata": {
        "id": "YE-3DsLrVsHr",
        "colab": {
          "base_uri": "https://localhost:8080/"
        },
        "outputId": "566de6d1-0a4e-41b5-f92d-50fe25038ffa"
      },
      "execution_count": null,
      "outputs": [
        {
          "output_type": "execute_result",
          "data": {
            "text/plain": [
              "['apple', 'banana', 'cherry']"
            ]
          },
          "metadata": {},
          "execution_count": 36
        }
      ]
    },
    {
      "cell_type": "code",
      "source": [
        "#String Splitting:\n",
        "str1 = \"apple banana cherry\"\n",
        "str1.split(\" \")\n"
      ],
      "metadata": {
        "colab": {
          "base_uri": "https://localhost:8080/"
        },
        "id": "q6Tee1mzn5G5",
        "outputId": "25c1d0aa-e952-45f7-d4a3-6d0b3d07497d"
      },
      "execution_count": null,
      "outputs": [
        {
          "output_type": "execute_result",
          "data": {
            "text/plain": [
              "['apple', 'banana', 'cherry']"
            ]
          },
          "metadata": {},
          "execution_count": 26
        }
      ]
    },
    {
      "cell_type": "code",
      "source": [
        "today=\"6/8/2024\"\n",
        "today.split(\"/\")"
      ],
      "metadata": {
        "colab": {
          "base_uri": "https://localhost:8080/"
        },
        "id": "jnvE8uTFoAZH",
        "outputId": "a57138a3-7cd8-428f-c2b3-f73da5664142"
      },
      "execution_count": null,
      "outputs": [
        {
          "output_type": "execute_result",
          "data": {
            "text/plain": [
              "['6', '8', '2024']"
            ]
          },
          "metadata": {},
          "execution_count": 27
        }
      ]
    },
    {
      "cell_type": "code",
      "source": [
        "#Checking Substring:\n",
        "str1 = \"Hello, World!\"\n",
        "\",\" in str1"
      ],
      "metadata": {
        "id": "zOPDD0lvVsEp",
        "colab": {
          "base_uri": "https://localhost:8080/"
        },
        "outputId": "95e50009-e165-4ccf-a34e-519a5c941d68"
      },
      "execution_count": null,
      "outputs": [
        {
          "output_type": "execute_result",
          "data": {
            "text/plain": [
              "True"
            ]
          },
          "metadata": {},
          "execution_count": 31
        }
      ]
    },
    {
      "cell_type": "code",
      "source": [
        "#Task - create two string variables to store your firstname and lastname and implement all above string functionalities"
      ],
      "metadata": {
        "id": "YI5kxbB6Vr8Y"
      },
      "execution_count": null,
      "outputs": []
    }
  ]
}