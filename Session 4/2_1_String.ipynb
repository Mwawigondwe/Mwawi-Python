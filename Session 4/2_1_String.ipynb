{
  "nbformat": 4,
  "nbformat_minor": 0,
  "metadata": {
    "colab": {
      "provenance": []
    },
    "kernelspec": {
      "name": "python3",
      "display_name": "Python 3"
    },
    "language_info": {
      "name": "python"
    }
  },
  "cells": [
    {
      "cell_type": "code",
      "execution_count": null,
      "metadata": {
        "id": "sHQeErnxVBtl"
      },
      "outputs": [],
      "source": []
    },
    {
      "cell_type": "markdown",
      "source": [
        "#Python Strings\n",
        "\n",
        "A string in Python is a sequence of characters. Strings are one of the most common data types in Python and are used to store text. They can include letters, numbers, symbols, and whitespace characters.\n",
        "\n",
        "Key Points about Strings:\n",
        "- String Creation: Strings can be created by enclosing characters in single quotes ('), double quotes (\"), or triple quotes (''' or \"\"\").\n",
        "- Immutability: Strings in Python are immutable, meaning that once created, the characters within them cannot be changed.\n",
        "- String Concatenation: Strings can be concatenated using the + operator.\n",
        "String Multiplication: Strings can be repeated using the * operator.\n",
        "- String Indexing: Characters in a string can be accessed using indexing, with the first character at index 0.\n",
        "- String Slicing: Substrings can be obtained using slicing [start:end].\n",
        "String Methods: Python provides various methods to manipulate strings, such as upper(), lower(), strip(), split(), replace(), and more.\n",
        "- Escape Characters: Special characters can be included in strings using escape characters like \\n (newline), \\t (tab), \\\\ (backslash), etc."
      ],
      "metadata": {
        "id": "sbK3kkh3VJkl"
      }
    },
    {
      "cell_type": "markdown",
      "source": [
        "Examples of string data"
      ],
      "metadata": {
        "id": "QA8ufjHeCVAg"
      }
    },
    {
      "cell_type": "code",
      "source": [
        "#Creating Strings\n",
        "single_quote_str = 'Hello, World!'\n",
        "double_quote_str = \"Hello, World!\"\n",
        "triple_quote_str = '''Hello,\n",
        "World!'''"
      ],
      "metadata": {
        "id": "qoKJt-stVU__"
      },
      "execution_count": null,
      "outputs": []
    },
    {
      "cell_type": "code",
      "source": [
        "#String Concatenation\n",
        "str1 = \"Hello\"\n",
        "str2 = \"World\"\n",
        "result = str1 + \" \" + str2\n",
        "print(result)"
      ],
      "metadata": {
        "colab": {
          "base_uri": "https://localhost:8080/"
        },
        "id": "61sssLFhVetF",
        "outputId": "d2aaa66d-edef-4f18-feb5-70b08fc0a116"
      },
      "execution_count": null,
      "outputs": [
        {
          "output_type": "stream",
          "name": "stdout",
          "text": [
            "Hello World\n"
          ]
        }
      ]
    },
    {
      "cell_type": "code",
      "source": [
        "#String Multiplication:\n",
        "str1 = \"Hello\"\n",
        "result = str1 * 3\n",
        "print(result)"
      ],
      "metadata": {
        "id": "9Rh_RBGeVnvg"
      },
      "execution_count": null,
      "outputs": []
    },
    {
      "cell_type": "code",
      "source": [
        "#String Indexing:\n",
        "str1 = \"Hello\"\n",
        "first_char = str1[0]\n",
        "print(first_char)"
      ],
      "metadata": {
        "id": "mjkOrcoCVsb7"
      },
      "execution_count": null,
      "outputs": []
    },
    {
      "cell_type": "code",
      "source": [
        "#String Slicing:\n",
        "str1 = \"Hello, World!\"\n",
        "substring = str1[7:12]\n",
        "print(substring)"
      ],
      "metadata": {
        "id": "C_-4Gw1BVsPb"
      },
      "execution_count": null,
      "outputs": []
    },
    {
      "cell_type": "code",
      "source": [
        "#String Methods:\n",
        "str1 = \"  Hello, World!  \"\n",
        "print(str1.upper())    # Output:   HELLO, WORLD!\n",
        "print(str1.lower())    # Output:   hello, world!\n",
        "print(str1.strip())    # Output: Hello, World!\n",
        "print(str1.replace(\"World\", \"Python\"))  # Output:   Hello, Python!"
      ],
      "metadata": {
        "id": "uZ8NPSAHVsM8"
      },
      "execution_count": null,
      "outputs": []
    },
    {
      "cell_type": "code",
      "source": [
        "#Escape Characters:\n",
        "str1 = \"Hello\\nWorld\"\n",
        "print(str1)"
      ],
      "metadata": {
        "id": "vki6ucq2VsKZ"
      },
      "execution_count": null,
      "outputs": []
    },
    {
      "cell_type": "code",
      "source": [
        "#String Splitting:\n",
        "str1 = \"apple,banana,cherry\"\n",
        "fruits = str1.split(\",\")\n",
        "print(fruits)  # Output: ['apple', 'banana', 'cherry']"
      ],
      "metadata": {
        "id": "YE-3DsLrVsHr"
      },
      "execution_count": null,
      "outputs": []
    },
    {
      "cell_type": "code",
      "source": [
        "#Checking Substring:\n",
        "str1 = \"Hello, World!\"\n",
        "contains_hello = \"Hello\" in str1\n",
        "print(contains_hello)  # Output: True"
      ],
      "metadata": {
        "id": "zOPDD0lvVsEp"
      },
      "execution_count": null,
      "outputs": []
    },
    {
      "cell_type": "code",
      "source": [
        "#Task - create two string variables to store your firstname and lastname and implement all above string functionalities"
      ],
      "metadata": {
        "id": "YI5kxbB6Vr8Y"
      },
      "execution_count": null,
      "outputs": []
    }
  ]
}