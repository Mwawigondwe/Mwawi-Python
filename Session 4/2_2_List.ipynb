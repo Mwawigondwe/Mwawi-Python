{
  "nbformat": 4,
  "nbformat_minor": 0,
  "metadata": {
    "colab": {
      "provenance": []
    },
    "kernelspec": {
      "name": "python3",
      "display_name": "Python 3"
    },
    "language_info": {
      "name": "python"
    }
  },
  "cells": [
    {
      "cell_type": "code",
      "execution_count": null,
      "metadata": {
        "id": "bvudyTHbBYZ_"
      },
      "outputs": [],
      "source": []
    },
    {
      "cell_type": "markdown",
      "source": [
        "#Lists in Python\n",
        "A list is a versatile data structure in Python that allows you to store an ordered collection of items. Lists can contain items of different types, such as integers, strings, or even other lists. Lists are mutable, meaning you can change their content without changing their identity.\n",
        "\n",
        "Basic List Operations\n",
        "Creating a List: You can create a list by placing comma-separated values inside square brackets.\n",
        "\n",
        "Accessing Elements: You can access elements of a list by indexing.\n",
        "\n",
        "Modifying Elements: You can modify elements of a list by assigning new values to indices.\n",
        "\n",
        "Adding Elements: You can add elements to a list using methods like append(), extend(), or insert().\n",
        "\n",
        "Removing Elements: You can remove elements from a list using methods like remove(), pop(), or clear().\n",
        "\n",
        "Slicing a List: You can extract parts of a list using slicing.\n",
        "\n",
        "Iterating through a List: You can use loops to iterate through the elements of a list."
      ],
      "metadata": {
        "id": "CcIa8dyTCx2T"
      }
    },
    {
      "cell_type": "markdown",
      "source": [
        "#Examples of list and why we need list"
      ],
      "metadata": {
        "id": "gQyqsrH9C36o"
      }
    },
    {
      "cell_type": "code",
      "source": [
        "# List of student ages\n",
        "student_ages = [18, 20, 19, 22, 21, 23, 20]\n",
        "print(student_ages)\n"
      ],
      "metadata": {
        "colab": {
          "base_uri": "https://localhost:8080/"
        },
        "id": "tVjhLKjBC0Rr",
        "outputId": "97733ca0-27cd-44e6-e707-b168e9d0c318"
      },
      "execution_count": null,
      "outputs": [
        {
          "output_type": "stream",
          "name": "stdout",
          "text": [
            "[18, 20, 19, 22, 21, 23, 20]\n"
          ]
        }
      ]
    },
    {
      "cell_type": "code",
      "source": [
        "even_no=list([2,4,6,8,10])\n",
        "print(even_no)"
      ],
      "metadata": {
        "colab": {
          "base_uri": "https://localhost:8080/"
        },
        "id": "OWGE4BPeTB21",
        "outputId": "0c5ef4ff-84f7-4529-fe42-a4cde4ed28d5"
      },
      "execution_count": null,
      "outputs": [
        {
          "output_type": "stream",
          "name": "stdout",
          "text": [
            "[2, 4, 6, 8, 10]\n"
          ]
        }
      ]
    },
    {
      "cell_type": "code",
      "source": [
        "# List of account balances in dollars\n",
        "account_balances = [1500.75, 2300.50, 1890.00, 750.25, 1200.60, 2100.80]\n",
        "print(account_balances)\n"
      ],
      "metadata": {
        "colab": {
          "base_uri": "https://localhost:8080/"
        },
        "id": "Uu1INEyzOe2k",
        "outputId": "e84aff98-a961-4e2a-c8d0-32de1830948d"
      },
      "execution_count": null,
      "outputs": [
        {
          "output_type": "stream",
          "name": "stdout",
          "text": [
            "[1500.75, 2300.5, 1890.0, 750.25, 1200.6, 2100.8]\n"
          ]
        }
      ]
    },
    {
      "cell_type": "code",
      "source": [
        "# List of country names\n",
        "country_names = [\"South Africa\", \"Canada\", \"India\", \"Australia\", \"Germany\", \"Brazil\"]\n",
        "print(country_names)\n"
      ],
      "metadata": {
        "colab": {
          "base_uri": "https://localhost:8080/"
        },
        "id": "wLMggLgkOjcn",
        "outputId": "b8a8c51c-31a5-4afa-c37d-be6138ed0c38"
      },
      "execution_count": null,
      "outputs": [
        {
          "output_type": "stream",
          "name": "stdout",
          "text": [
            "['United States', 'Canada', 'India', 'Australia', 'Germany', 'Brazil']\n"
          ]
        }
      ]
    },
    {
      "cell_type": "code",
      "source": [
        "bank_account_details=[\"nilay\",40,1878.6]\n",
        "bank_account_details"
      ],
      "metadata": {
        "colab": {
          "base_uri": "https://localhost:8080/"
        },
        "id": "Nd1CACENOmJf",
        "outputId": "c3d5d8de-479a-45f3-b998-7707308f3c66"
      },
      "execution_count": null,
      "outputs": [
        {
          "output_type": "execute_result",
          "data": {
            "text/plain": [
              "['nilay', 40, 1878.6]"
            ]
          },
          "metadata": {},
          "execution_count": 4
        }
      ]
    },
    {
      "cell_type": "markdown",
      "source": [
        "##Accessing list elements /values using indexing"
      ],
      "metadata": {
        "id": "sBF2QFPQPj3-"
      }
    },
    {
      "cell_type": "code",
      "source": [
        "print(student_ages[0])  # Output: 18\n",
        "print(student_ages[2])  # Output: 22\n"
      ],
      "metadata": {
        "colab": {
          "base_uri": "https://localhost:8080/"
        },
        "id": "1MRtqraoO7da",
        "outputId": "f9c79e39-ba50-48a8-f890-41f598a44ae2"
      },
      "execution_count": null,
      "outputs": [
        {
          "output_type": "stream",
          "name": "stdout",
          "text": [
            "18\n",
            "19\n"
          ]
        }
      ]
    },
    {
      "cell_type": "code",
      "source": [
        "print(account_balances[1])  # Output: 2000.50\n",
        "print(account_balances[3])  # Output: 2100.25\n"
      ],
      "metadata": {
        "colab": {
          "base_uri": "https://localhost:8080/"
        },
        "id": "8jQDySMWPss-",
        "outputId": "6c4db4e6-f509-433a-aab7-48146492ee04"
      },
      "execution_count": null,
      "outputs": [
        {
          "output_type": "stream",
          "name": "stdout",
          "text": [
            "2300.5\n",
            "750.25\n"
          ]
        }
      ]
    },
    {
      "cell_type": "code",
      "source": [
        "print(country_names[0])  # Output: \"USA\"\n",
        "print(country_names[4])  # Output: \"Germany\"\n"
      ],
      "metadata": {
        "id": "5ceF7ygvPuTi"
      },
      "execution_count": null,
      "outputs": []
    },
    {
      "cell_type": "markdown",
      "source": [
        "#Modifying Elements"
      ],
      "metadata": {
        "id": "5vFX9QYFQEkl"
      }
    },
    {
      "cell_type": "code",
      "source": [
        "student_ages[0] = 19\n",
        "print(student_ages)  # Output: [19, 20, 22, 19, 21]\n"
      ],
      "metadata": {
        "colab": {
          "base_uri": "https://localhost:8080/"
        },
        "id": "2IA8SyLYQFj1",
        "outputId": "962d4423-b7bd-4b95-ccdd-284714aee005"
      },
      "execution_count": null,
      "outputs": [
        {
          "output_type": "stream",
          "name": "stdout",
          "text": [
            "[19, 20, 19, 22, 21, 23, 20]\n"
          ]
        }
      ]
    },
    {
      "cell_type": "code",
      "source": [
        "#Task - modify values for account_balances and country_ages"
      ],
      "metadata": {
        "id": "5QhVTtZhQIVe"
      },
      "execution_count": null,
      "outputs": []
    },
    {
      "cell_type": "markdown",
      "source": [
        "#Adding Elements"
      ],
      "metadata": {
        "id": "oOu8mTRZQX_1"
      }
    },
    {
      "cell_type": "code",
      "source": [
        "student_ages.append(23)\n",
        "print(student_ages)  # Output: [19, 20, 22, 19, 21, 23]"
      ],
      "metadata": {
        "colab": {
          "base_uri": "https://localhost:8080/"
        },
        "id": "vRPJhkjrQTUv",
        "outputId": "16b23137-0f37-44d6-aa3e-27b5db35f562"
      },
      "execution_count": null,
      "outputs": [
        {
          "output_type": "stream",
          "name": "stdout",
          "text": [
            "[19, 20, 19, 22, 21, 23, 20, 23]\n"
          ]
        }
      ]
    },
    {
      "cell_type": "code",
      "source": [
        "#Task - add a value for account_balances and country_ages"
      ],
      "metadata": {
        "id": "EyUX0_4XQWsw"
      },
      "execution_count": null,
      "outputs": []
    },
    {
      "cell_type": "markdown",
      "source": [
        "#Removing Elements"
      ],
      "metadata": {
        "id": "mQUASrrCQlb6"
      }
    },
    {
      "cell_type": "code",
      "source": [
        "student_ages.remove(19)\n",
        "print(student_ages)  # Output: [20, 22, 19, 21, 23]\n"
      ],
      "metadata": {
        "colab": {
          "base_uri": "https://localhost:8080/"
        },
        "id": "whz1Bf_iQsm2",
        "outputId": "bfaa35df-eb04-40dc-ff82-d60da7cac393"
      },
      "execution_count": null,
      "outputs": [
        {
          "output_type": "stream",
          "name": "stdout",
          "text": [
            "[20, 19, 22, 21, 23, 20, 23]\n"
          ]
        }
      ]
    },
    {
      "cell_type": "markdown",
      "source": [
        "#Slicing a List"
      ],
      "metadata": {
        "id": "nmHwXfMjQ6Cc"
      }
    },
    {
      "cell_type": "code",
      "source": [
        "print(student_ages[1:4])  # Output: [20, 22, 19]"
      ],
      "metadata": {
        "colab": {
          "base_uri": "https://localhost:8080/"
        },
        "id": "b5K2BJhTQ-MP",
        "outputId": "4529c3e8-2713-42bd-8ddd-6202815f9406"
      },
      "execution_count": null,
      "outputs": [
        {
          "output_type": "stream",
          "name": "stdout",
          "text": [
            "[19, 22, 21]\n"
          ]
        }
      ]
    },
    {
      "cell_type": "code",
      "source": [
        "print(account_balances[:3])  # Output: [1500.75, 1800.00, 2100.25]\n"
      ],
      "metadata": {
        "colab": {
          "base_uri": "https://localhost:8080/"
        },
        "id": "XbBVB3H6RDmT",
        "outputId": "7e7e7bef-3b69-4962-d945-80fb8fc1c034"
      },
      "execution_count": null,
      "outputs": [
        {
          "output_type": "stream",
          "name": "stdout",
          "text": [
            "[1500.75, 2300.5, 1890.0]\n"
          ]
        }
      ]
    },
    {
      "cell_type": "code",
      "source": [
        "print(country_names[2:])  # Output: [\"Mexico\", \"Spain\", \"Germany\"]"
      ],
      "metadata": {
        "colab": {
          "base_uri": "https://localhost:8080/"
        },
        "id": "7-82LFruRGZc",
        "outputId": "49c0222b-0f12-4b20-cbab-02975a7b220a"
      },
      "execution_count": null,
      "outputs": [
        {
          "output_type": "stream",
          "name": "stdout",
          "text": [
            "['India', 'Australia', 'Germany', 'Brazil']\n"
          ]
        }
      ]
    },
    {
      "cell_type": "code",
      "source": [
        "len(student_ages)"
      ],
      "metadata": {
        "colab": {
          "base_uri": "https://localhost:8080/"
        },
        "id": "26kxM5OkRQZn",
        "outputId": "f25739fa-eabe-46a9-e6a8-3b70d302b891"
      },
      "execution_count": null,
      "outputs": [
        {
          "output_type": "execute_result",
          "data": {
            "text/plain": [
              "7"
            ]
          },
          "metadata": {},
          "execution_count": 20
        }
      ]
    },
    {
      "cell_type": "code",
      "source": [
        "student_ages.sort()\n",
        "student_ages"
      ],
      "metadata": {
        "colab": {
          "base_uri": "https://localhost:8080/"
        },
        "id": "eTrcfaqARWWL",
        "outputId": "9f027702-ee06-4069-fa2e-64b311b72cf3"
      },
      "execution_count": null,
      "outputs": [
        {
          "output_type": "execute_result",
          "data": {
            "text/plain": [
              "[19, 20, 20, 21, 22, 23, 23]"
            ]
          },
          "metadata": {},
          "execution_count": 22
        }
      ]
    },
    {
      "cell_type": "code",
      "source": [
        "student_ages.sort(reverse=True)\n",
        "student_ages"
      ],
      "metadata": {
        "colab": {
          "base_uri": "https://localhost:8080/"
        },
        "id": "A3aIy2HoRefu",
        "outputId": "853ac69e-826e-424f-c06f-a363f3412bb6"
      },
      "execution_count": null,
      "outputs": [
        {
          "output_type": "execute_result",
          "data": {
            "text/plain": [
              "[23, 23, 22, 21, 20, 20, 19]"
            ]
          },
          "metadata": {},
          "execution_count": 23
        }
      ]
    },
    {
      "cell_type": "code",
      "source": [
        "#nested list\n",
        "#joiing two list"
      ],
      "metadata": {
        "id": "d0QB_VS1Q17z"
      },
      "execution_count": null,
      "outputs": []
    }
  ]
}