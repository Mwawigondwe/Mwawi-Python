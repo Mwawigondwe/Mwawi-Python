{
  "nbformat": 4,
  "nbformat_minor": 0,
  "metadata": {
    "colab": {
      "provenance": []
    },
    "kernelspec": {
      "name": "python3",
      "display_name": "Python 3"
    },
    "language_info": {
      "name": "python"
    }
  },
  "cells": [
    {
      "cell_type": "markdown",
      "source": [
        "#Lists in Python\n",
        "A list is a versatile data structure in Python that allows you to store an ordered collection of items. Lists can contain items of different types, such as integers, strings, or even other lists. Lists are mutable, meaning you can change their content without changing their identity.\n",
        "\n",
        "Basic List Operations\n",
        "Creating a List: You can create a list by placing comma-separated values inside square brackets.\n",
        "\n",
        "Accessing Elements: You can access elements of a list by indexing.\n",
        "\n",
        "Modifying Elements: You can modify elements of a list by assigning new values to indices.\n",
        "\n",
        "Adding Elements: You can add elements to a list using methods like append(), extend(), or insert().\n",
        "\n",
        "Removing Elements: You can remove elements from a list using methods like remove(), pop(), or clear().\n",
        "\n",
        "Slicing a List: You can extract parts of a list using slicing.\n",
        "\n",
        "Iterating through a List: You can use loops to iterate through the elements of a list."
      ],
      "metadata": {
        "id": "CcIa8dyTCx2T"
      }
    },
    {
      "cell_type": "markdown",
      "source": [
        "#Examples of list and why we need list"
      ],
      "metadata": {
        "id": "gQyqsrH9C36o"
      }
    },
    {
      "cell_type": "code",
      "source": [
        "# List of student ages\n",
        "student_ages = [18, 20, 19, 22, 21, 23, 20,4444]\n",
        "print(student_ages)"
      ],
      "metadata": {
        "colab": {
          "base_uri": "https://localhost:8080/"
        },
        "id": "tVjhLKjBC0Rr",
        "outputId": "7cfb99ec-205e-4d4f-ebbf-59557dc8b183"
      },
      "execution_count": 2,
      "outputs": [
        {
          "output_type": "stream",
          "name": "stdout",
          "text": [
            "[18, 20, 19, 22, 21, 23, 20, 4444]\n"
          ]
        }
      ]
    },
    {
      "cell_type": "code",
      "source": [
        "even_no=list([2,4,6,8,10])\n",
        "print(even_no)"
      ],
      "metadata": {
        "colab": {
          "base_uri": "https://localhost:8080/"
        },
        "id": "OWGE4BPeTB21",
        "outputId": "6ff31c19-60e5-4af7-fe9e-c5d8956371c7"
      },
      "execution_count": 3,
      "outputs": [
        {
          "output_type": "stream",
          "name": "stdout",
          "text": [
            "[2, 4, 6, 8, 10]\n"
          ]
        }
      ]
    },
    {
      "cell_type": "code",
      "source": [
        "# List of account balances in dollars\n",
        "account_balances = [1500.75, 2300.50, 1890.00, 750.25, 1200.60, 2100.80]\n",
        "print(account_balances)"
      ],
      "metadata": {
        "colab": {
          "base_uri": "https://localhost:8080/"
        },
        "id": "Uu1INEyzOe2k",
        "outputId": "a8956322-5324-4dc6-df28-e5f58b6be285"
      },
      "execution_count": 4,
      "outputs": [
        {
          "output_type": "stream",
          "name": "stdout",
          "text": [
            "[1500.75, 2300.5, 1890.0, 750.25, 1200.6, 2100.8]\n"
          ]
        }
      ]
    },
    {
      "cell_type": "code",
      "source": [
        "# List of country names\n",
        "country_names = [\"South Africa\", \"Nigeria\", \"Uganda\", \"Kenya\", \"Germany\", \"Brazil\"]\n",
        "print(country_names)"
      ],
      "metadata": {
        "colab": {
          "base_uri": "https://localhost:8080/"
        },
        "id": "wLMggLgkOjcn",
        "outputId": "e500f0f2-254f-429d-9937-c47c34eaab29"
      },
      "execution_count": 5,
      "outputs": [
        {
          "output_type": "stream",
          "name": "stdout",
          "text": [
            "['South Africa', 'Nigeria', 'Uganda', 'Kenya', 'Germany', 'Brazil']\n"
          ]
        }
      ]
    },
    {
      "cell_type": "code",
      "source": [
        "bank_account_details=[\"nilay\",40,1878.6]\n",
        "bank_account_details"
      ],
      "metadata": {
        "colab": {
          "base_uri": "https://localhost:8080/"
        },
        "id": "Nd1CACENOmJf",
        "outputId": "0d7cce0e-647a-412d-e5ae-1c876776254a"
      },
      "execution_count": 6,
      "outputs": [
        {
          "output_type": "execute_result",
          "data": {
            "text/plain": [
              "['nilay', 40, 1878.6]"
            ]
          },
          "metadata": {},
          "execution_count": 6
        }
      ]
    },
    {
      "cell_type": "markdown",
      "source": [
        "##Accessing list elements /values using indexing"
      ],
      "metadata": {
        "id": "sBF2QFPQPj3-"
      }
    },
    {
      "cell_type": "code",
      "source": [
        "print(student_ages[0])  # Output: 18\n",
        "print(student_ages[2])  # Output: 22\n"
      ],
      "metadata": {
        "colab": {
          "base_uri": "https://localhost:8080/"
        },
        "id": "1MRtqraoO7da",
        "outputId": "5e7798c7-0cfe-4679-bf03-6381f1b19f95"
      },
      "execution_count": 7,
      "outputs": [
        {
          "output_type": "stream",
          "name": "stdout",
          "text": [
            "18\n",
            "19\n"
          ]
        }
      ]
    },
    {
      "cell_type": "code",
      "source": [
        "print(student_ages[-1])  # Output: 23\n",
        "print(student_ages[-2])  # Output: 21"
      ],
      "metadata": {
        "colab": {
          "base_uri": "https://localhost:8080/"
        },
        "id": "NrKnXdf5v0fG",
        "outputId": "5cce6383-e438-42e9-bec3-fbef0b646adb"
      },
      "execution_count": 8,
      "outputs": [
        {
          "output_type": "stream",
          "name": "stdout",
          "text": [
            "4444\n",
            "20\n"
          ]
        }
      ]
    },
    {
      "cell_type": "code",
      "source": [
        "print(account_balances[1])  # Output: 2000.50\n",
        "print(account_balances[3])  # Output: 2100.25\n"
      ],
      "metadata": {
        "colab": {
          "base_uri": "https://localhost:8080/"
        },
        "id": "8jQDySMWPss-",
        "outputId": "6c4db4e6-f509-433a-aab7-48146492ee04"
      },
      "execution_count": null,
      "outputs": [
        {
          "output_type": "stream",
          "name": "stdout",
          "text": [
            "2300.5\n",
            "750.25\n"
          ]
        }
      ]
    },
    {
      "cell_type": "code",
      "source": [
        "print(country_names[0])  # Output: \"South Africa\"\n",
        "print(country_names[4])"
      ],
      "metadata": {
        "id": "5ceF7ygvPuTi",
        "colab": {
          "base_uri": "https://localhost:8080/"
        },
        "outputId": "88ffc518-f710-4909-e278-b8714a473be8"
      },
      "execution_count": 9,
      "outputs": [
        {
          "output_type": "stream",
          "name": "stdout",
          "text": [
            "South Africa\n",
            "Germany\n"
          ]
        }
      ]
    },
    {
      "cell_type": "code",
      "source": [
        "#win+shift+S\n",
        "#Task - create a list of city names from your country\n",
        "#Task - create a list of city area in square km\n",
        "#Task print first value from each list"
      ],
      "metadata": {
        "id": "7hCW8KnNwWFJ"
      },
      "execution_count": null,
      "outputs": []
    },
    {
      "cell_type": "markdown",
      "source": [
        "#Modifying Elements"
      ],
      "metadata": {
        "id": "5vFX9QYFQEkl"
      }
    },
    {
      "cell_type": "code",
      "source": [
        "student_ages[0] = 19\n",
        "print(student_ages)  # Output: [19, 20, 22, 19, 21]\n"
      ],
      "metadata": {
        "colab": {
          "base_uri": "https://localhost:8080/"
        },
        "id": "2IA8SyLYQFj1",
        "outputId": "b12e5d91-bcda-4882-9594-19cf0e5edcf7"
      },
      "execution_count": 10,
      "outputs": [
        {
          "output_type": "stream",
          "name": "stdout",
          "text": [
            "[19, 20, 19, 22, 21, 23, 20, 4444]\n"
          ]
        }
      ]
    },
    {
      "cell_type": "code",
      "source": [
        "student_ages[-1] = 44\n",
        "print(student_ages)  # Output: [19, 20, 22, 19, 21]\n"
      ],
      "metadata": {
        "colab": {
          "base_uri": "https://localhost:8080/"
        },
        "id": "BQ-d9C9w0ci1",
        "outputId": "0a48e152-7964-4d71-e215-21c2fa9c380f"
      },
      "execution_count": 11,
      "outputs": [
        {
          "output_type": "stream",
          "name": "stdout",
          "text": [
            "[19, 20, 19, 22, 21, 23, 20, 44]\n"
          ]
        }
      ]
    },
    {
      "cell_type": "code",
      "source": [
        "#Task - modify values for account_balances and country_names"
      ],
      "metadata": {
        "id": "5QhVTtZhQIVe"
      },
      "execution_count": null,
      "outputs": []
    },
    {
      "cell_type": "markdown",
      "source": [
        "#Adding Elements"
      ],
      "metadata": {
        "id": "oOu8mTRZQX_1"
      }
    },
    {
      "cell_type": "code",
      "source": [
        "student_ages.append(23)\n",
        "print(student_ages)  # Output: [19, 20, 22, 19, 21, 23]"
      ],
      "metadata": {
        "colab": {
          "base_uri": "https://localhost:8080/"
        },
        "id": "vRPJhkjrQTUv",
        "outputId": "16b23137-0f37-44d6-aa3e-27b5db35f562"
      },
      "execution_count": null,
      "outputs": [
        {
          "output_type": "stream",
          "name": "stdout",
          "text": [
            "[19, 20, 19, 22, 21, 23, 20, 23]\n"
          ]
        }
      ]
    },
    {
      "cell_type": "code",
      "source": [
        "#removing all the occurances of 1 from the list\n",
        "lst=[1,2,3,1,6,7,1]\n",
        "for i in lst:\n",
        "  if i==1:\n",
        "    lst.remove(i)\n",
        "print(lst)"
      ],
      "metadata": {
        "colab": {
          "base_uri": "https://localhost:8080/"
        },
        "id": "NTz2yala2WW3",
        "outputId": "2e6a954e-d854-4866-e9f2-74db61d07f00"
      },
      "execution_count": 13,
      "outputs": [
        {
          "output_type": "stream",
          "name": "stdout",
          "text": [
            "[2, 3, 6, 7]\n"
          ]
        }
      ]
    },
    {
      "cell_type": "code",
      "source": [
        "#Task - add a value for account_balances and country_ages"
      ],
      "metadata": {
        "id": "EyUX0_4XQWsw"
      },
      "execution_count": null,
      "outputs": []
    },
    {
      "cell_type": "markdown",
      "source": [
        "#Removing Elements"
      ],
      "metadata": {
        "id": "mQUASrrCQlb6"
      }
    },
    {
      "cell_type": "code",
      "source": [
        "student_ages.remove(19)\n",
        "print(student_ages)  # Output: [20, 22, 19, 21, 23]\n"
      ],
      "metadata": {
        "colab": {
          "base_uri": "https://localhost:8080/"
        },
        "id": "whz1Bf_iQsm2",
        "outputId": "17f4e6a7-5fba-4241-c456-002c8186d7a6"
      },
      "execution_count": 12,
      "outputs": [
        {
          "output_type": "stream",
          "name": "stdout",
          "text": [
            "[20, 19, 22, 21, 23, 20, 44]\n"
          ]
        }
      ]
    },
    {
      "cell_type": "markdown",
      "source": [
        "#Slicing a List"
      ],
      "metadata": {
        "id": "nmHwXfMjQ6Cc"
      }
    },
    {
      "cell_type": "code",
      "source": [
        "print(student_ages[1:4])  # Output: [20, 22, 19]"
      ],
      "metadata": {
        "colab": {
          "base_uri": "https://localhost:8080/"
        },
        "id": "b5K2BJhTQ-MP",
        "outputId": "bf2fa6db-9159-4bd4-c49f-ace50f0cb29b"
      },
      "execution_count": 14,
      "outputs": [
        {
          "output_type": "stream",
          "name": "stdout",
          "text": [
            "[19, 22, 21]\n"
          ]
        }
      ]
    },
    {
      "cell_type": "code",
      "source": [
        "print(account_balances[:3])  # Output: [1500.75, 1800.00, 2100.25]\n"
      ],
      "metadata": {
        "colab": {
          "base_uri": "https://localhost:8080/"
        },
        "id": "XbBVB3H6RDmT",
        "outputId": "6401c1d7-8c7e-4fcf-d7b6-0316234910c2"
      },
      "execution_count": 15,
      "outputs": [
        {
          "output_type": "stream",
          "name": "stdout",
          "text": [
            "[1500.75, 2300.5, 1890.0]\n"
          ]
        }
      ]
    },
    {
      "cell_type": "code",
      "source": [
        "print(country_names[2:])  # Output: [\"Mexico\", \"Spain\", \"Germany\"]"
      ],
      "metadata": {
        "colab": {
          "base_uri": "https://localhost:8080/"
        },
        "id": "7-82LFruRGZc",
        "outputId": "c62b9e15-e786-4933-85a7-25346bfd7b5a"
      },
      "execution_count": 16,
      "outputs": [
        {
          "output_type": "stream",
          "name": "stdout",
          "text": [
            "['Uganda', 'Kenya', 'Germany', 'Brazil']\n"
          ]
        }
      ]
    },
    {
      "cell_type": "code",
      "source": [
        "len(student_ages)"
      ],
      "metadata": {
        "colab": {
          "base_uri": "https://localhost:8080/"
        },
        "id": "26kxM5OkRQZn",
        "outputId": "a5df6fd5-c90c-4c8c-dc30-5f6815d1377f"
      },
      "execution_count": 17,
      "outputs": [
        {
          "output_type": "execute_result",
          "data": {
            "text/plain": [
              "7"
            ]
          },
          "metadata": {},
          "execution_count": 17
        }
      ]
    },
    {
      "cell_type": "code",
      "source": [
        "student_ages.sort()\n",
        "student_ages"
      ],
      "metadata": {
        "colab": {
          "base_uri": "https://localhost:8080/"
        },
        "id": "eTrcfaqARWWL",
        "outputId": "9f027702-ee06-4069-fa2e-64b311b72cf3"
      },
      "execution_count": null,
      "outputs": [
        {
          "output_type": "execute_result",
          "data": {
            "text/plain": [
              "[19, 20, 20, 21, 22, 23, 23]"
            ]
          },
          "metadata": {},
          "execution_count": 22
        }
      ]
    },
    {
      "cell_type": "code",
      "source": [
        "student_ages.sort(reverse=True)\n",
        "student_ages"
      ],
      "metadata": {
        "colab": {
          "base_uri": "https://localhost:8080/"
        },
        "id": "A3aIy2HoRefu",
        "outputId": "853ac69e-826e-424f-c06f-a363f3412bb6"
      },
      "execution_count": null,
      "outputs": [
        {
          "output_type": "execute_result",
          "data": {
            "text/plain": [
              "[23, 23, 22, 21, 20, 20, 19]"
            ]
          },
          "metadata": {},
          "execution_count": 23
        }
      ]
    },
    {
      "cell_type": "code",
      "source": [
        "#nested list\n",
        "lst=[[2,4,6],[1,3,5]]\n",
        "lst"
      ],
      "metadata": {
        "id": "d0QB_VS1Q17z",
        "colab": {
          "base_uri": "https://localhost:8080/"
        },
        "outputId": "580aa61c-5042-4405-c0f7-cc99abc83d18"
      },
      "execution_count": 18,
      "outputs": [
        {
          "output_type": "execute_result",
          "data": {
            "text/plain": [
              "[[2, 4, 6], [1, 3, 5]]"
            ]
          },
          "metadata": {},
          "execution_count": 18
        }
      ]
    },
    {
      "cell_type": "code",
      "source": [
        "lst[0]"
      ],
      "metadata": {
        "colab": {
          "base_uri": "https://localhost:8080/"
        },
        "id": "poOXBM_H5KYH",
        "outputId": "c65b9e95-8516-4e81-ce72-5c06be219d4f"
      },
      "execution_count": 19,
      "outputs": [
        {
          "output_type": "execute_result",
          "data": {
            "text/plain": [
              "[2, 4, 6]"
            ]
          },
          "metadata": {},
          "execution_count": 19
        }
      ]
    },
    {
      "cell_type": "code",
      "source": [
        "lst[0][1]"
      ],
      "metadata": {
        "colab": {
          "base_uri": "https://localhost:8080/"
        },
        "id": "Npbd3gYX5QQf",
        "outputId": "9c9d983b-2d5c-473f-fb0b-de2d274bc162"
      },
      "execution_count": 20,
      "outputs": [
        {
          "output_type": "execute_result",
          "data": {
            "text/plain": [
              "4"
            ]
          },
          "metadata": {},
          "execution_count": 20
        }
      ]
    },
    {
      "cell_type": "code",
      "source": [
        "l1=[10,20,30]\n",
        "l2=[40,50,60]\n",
        "l3=l1+l2\n",
        "l3"
      ],
      "metadata": {
        "colab": {
          "base_uri": "https://localhost:8080/"
        },
        "id": "9lUxwZQd5Xa3",
        "outputId": "dc189cfe-a6ef-4b47-d441-eac203fca0a3"
      },
      "execution_count": 21,
      "outputs": [
        {
          "output_type": "execute_result",
          "data": {
            "text/plain": [
              "[10, 20, 30, 40, 50, 60]"
            ]
          },
          "metadata": {},
          "execution_count": 21
        }
      ]
    },
    {
      "cell_type": "code",
      "source": [],
      "metadata": {
        "id": "3KPybygl5mYU"
      },
      "execution_count": null,
      "outputs": []
    }
  ]
}