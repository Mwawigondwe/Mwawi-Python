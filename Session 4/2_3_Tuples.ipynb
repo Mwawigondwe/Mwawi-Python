{
  "nbformat": 4,
  "nbformat_minor": 0,
  "metadata": {
    "colab": {
      "provenance": []
    },
    "kernelspec": {
      "name": "python3",
      "display_name": "Python 3"
    },
    "language_info": {
      "name": "python"
    }
  },
  "cells": [
    {
      "cell_type": "markdown",
      "source": [
        "#Tuples in Python\n",
        "A tuple is a collection of ordered, immutable elements. Once a tuple is created, you cannot change its values, making it useful for storing data that should not be modified. Tuples are defined using parentheses () and can contain elements of different data types.\n",
        "\n",
        "Key Characteristics of Tuples:\n",
        "Ordered: The elements have a defined order, and that order will not change.\n",
        "\n",
        "Immutable: Elements cannot be changed after the tuple is created.\n",
        "\n",
        "Allow Duplicates: Tuples can have multiple elements with the same value.\n",
        "\n",
        "Memory Efficiency: Tuples are more memory efficient than lists.\n",
        "\n",
        "Performance: Accessing elements in a tuple is generally faster than in a list due to its immutability."
      ],
      "metadata": {
        "id": "iVyE3YQ0TkC7"
      }
    },
    {
      "cell_type": "code",
      "execution_count": null,
      "metadata": {
        "colab": {
          "base_uri": "https://localhost:8080/"
        },
        "id": "ZmXPiq7PTXKk",
        "outputId": "c41853bb-e2d2-4130-9d9b-8ac105c5715f"
      },
      "outputs": [
        {
          "output_type": "stream",
          "name": "stdout",
          "text": [
            "(18, 20, 22, 19, 21)\n"
          ]
        }
      ],
      "source": [
        "# A tuple with integer values\n",
        "student_ages = (18, 20, 22, 19, 21)\n",
        "print(student_ages)\n"
      ]
    },
    {
      "cell_type": "code",
      "source": [
        "# A tuple with mixed data types\n",
        "student_info = (\"John Doe\", 21, 3.8)\n",
        "print(student_info)\n"
      ],
      "metadata": {
        "colab": {
          "base_uri": "https://localhost:8080/"
        },
        "id": "9QXKq3mtTi18",
        "outputId": "314645d0-1f40-4821-b701-b7ee351e7068"
      },
      "execution_count": null,
      "outputs": [
        {
          "output_type": "stream",
          "name": "stdout",
          "text": [
            "('John Doe', 21, 3.8)\n"
          ]
        }
      ]
    },
    {
      "cell_type": "code",
      "source": [
        "print(student_ages[0])  # Output: 18\n",
        "print(student_info[1])  # Output: 21\n"
      ],
      "metadata": {
        "id": "1LB4E05_Ty-u"
      },
      "execution_count": null,
      "outputs": []
    },
    {
      "cell_type": "code",
      "source": [
        "print(student_ages[1:3])\n"
      ],
      "metadata": {
        "colab": {
          "base_uri": "https://localhost:8080/"
        },
        "id": "ynKBIzFrUKnu",
        "outputId": "6d43a27c-6906-48e2-f13b-89f359a8e181"
      },
      "execution_count": null,
      "outputs": [
        {
          "output_type": "stream",
          "name": "stdout",
          "text": [
            "(20, 22)\n"
          ]
        }
      ]
    },
    {
      "cell_type": "code",
      "source": [
        "print(len(student_ages))  # Output: 5\n"
      ],
      "metadata": {
        "colab": {
          "base_uri": "https://localhost:8080/"
        },
        "id": "Ztcnbt6UUSN8",
        "outputId": "f3263883-638a-4ae3-a9d6-cc88913a3846"
      },
      "execution_count": null,
      "outputs": [
        {
          "output_type": "stream",
          "name": "stdout",
          "text": [
            "5\n"
          ]
        }
      ]
    },
    {
      "cell_type": "code",
      "source": [
        "student_ages.count(20)"
      ],
      "metadata": {
        "colab": {
          "base_uri": "https://localhost:8080/"
        },
        "id": "ZXP1vsgeUvXD",
        "outputId": "477c0e03-0f6b-4d9b-c3d2-ea84f81fcca9"
      },
      "execution_count": null,
      "outputs": [
        {
          "output_type": "execute_result",
          "data": {
            "text/plain": [
              "1"
            ]
          },
          "metadata": {},
          "execution_count": 7
        }
      ]
    },
    {
      "cell_type": "code",
      "source": [
        "student_ages.index(21)"
      ],
      "metadata": {
        "id": "ZET-sOL1VUe_",
        "outputId": "e4ac6542-a3d5-41f3-fe9e-31eccf62052e",
        "colab": {
          "base_uri": "https://localhost:8080/"
        }
      },
      "execution_count": null,
      "outputs": [
        {
          "output_type": "execute_result",
          "data": {
            "text/plain": [
              "4"
            ]
          },
          "metadata": {},
          "execution_count": 8
        }
      ]
    },
    {
      "cell_type": "code",
      "source": [],
      "metadata": {
        "id": "oRYpseOqVYLG"
      },
      "execution_count": null,
      "outputs": []
    }
  ]
}