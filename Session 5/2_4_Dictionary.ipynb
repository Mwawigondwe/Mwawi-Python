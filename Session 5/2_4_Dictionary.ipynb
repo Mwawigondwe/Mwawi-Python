{
  "cells": [
    {
      "cell_type": "markdown",
      "metadata": {
        "id": "CQgSdaRE8YWP"
      },
      "source": [
        "#Dictionary\n",
        "\n",
        "A dictionary in Python is a collection of key-value pairs. Each key in a dictionary is unique, and it maps to a value. Dictionaries are mutable, meaning you can change their contents, and they are unordered\n",
        "\n",
        "A dictionary has a key: value pair."
      ]
    },
    {
      "cell_type": "markdown",
      "metadata": {
        "id": "QNZdRerx8YWQ"
      },
      "source": [
        "## Dict Creation"
      ]
    },
    {
      "cell_type": "code",
      "source": [],
      "metadata": {
        "colab": {
          "base_uri": "https://localhost:8080/"
        },
        "id": "sV0rtq4cw1ha",
        "outputId": "375a656c-5153-4277-d5f8-a3edb1833abb"
      },
      "execution_count": 53,
      "outputs": [
        {
          "output_type": "execute_result",
          "data": {
            "text/plain": [
              "tuple"
            ]
          },
          "metadata": {},
          "execution_count": 53
        }
      ]
    },
    {
      "cell_type": "code",
      "execution_count": null,
      "metadata": {
        "colab": {
          "base_uri": "https://localhost:8080/"
        },
        "id": "PhZ00ce88YWS",
        "outputId": "c60cd73a-af4c-4c36-e9a0-1f98ceece19e"
      },
      "outputs": [
        {
          "output_type": "execute_result",
          "data": {
            "text/plain": [
              "{}"
            ]
          },
          "metadata": {},
          "execution_count": 34
        }
      ],
      "source": [
        "#empty dictionary\n",
        "y = {}\n",
        "y"
      ]
    },
    {
      "cell_type": "code",
      "source": [
        "type(y)"
      ],
      "metadata": {
        "colab": {
          "base_uri": "https://localhost:8080/"
        },
        "id": "CAOIAqe3PRbY",
        "outputId": "062f4ab7-03df-44b8-f19e-0aff25694d19"
      },
      "execution_count": null,
      "outputs": [
        {
          "output_type": "execute_result",
          "data": {
            "text/plain": [
              "dict"
            ]
          },
          "metadata": {},
          "execution_count": 35
        }
      ]
    },
    {
      "cell_type": "code",
      "execution_count": null,
      "metadata": {
        "colab": {
          "base_uri": "https://localhost:8080/"
        },
        "id": "oTuI4bj_lXiT",
        "outputId": "3e148b67-ad99-46b5-c6a3-b0ac82e3a3b4"
      },
      "outputs": [
        {
          "output_type": "execute_result",
          "data": {
            "text/plain": [
              "{}"
            ]
          },
          "metadata": {},
          "execution_count": 36
        }
      ],
      "source": [
        "x=dict()\n",
        "x"
      ]
    },
    {
      "cell_type": "code",
      "source": [
        "type(x)"
      ],
      "metadata": {
        "colab": {
          "base_uri": "https://localhost:8080/"
        },
        "id": "vXw5Eeu0PckB",
        "outputId": "0730c542-0585-4be6-f138-50d95866668a"
      },
      "execution_count": null,
      "outputs": [
        {
          "output_type": "execute_result",
          "data": {
            "text/plain": [
              "dict"
            ]
          },
          "metadata": {},
          "execution_count": 37
        }
      ]
    },
    {
      "cell_type": "code",
      "execution_count": null,
      "metadata": {
        "id": "Y2hd8T5cWYVA"
      },
      "outputs": [],
      "source": [
        "employee={\"name\":\"nilay\"}"
      ]
    },
    {
      "cell_type": "code",
      "execution_count": null,
      "metadata": {
        "id": "y0UmwslxWYVA",
        "outputId": "95a7310c-7806-4070-b7a1-e9de9ecbcc1b",
        "colab": {
          "base_uri": "https://localhost:8080/",
          "height": 36
        }
      },
      "outputs": [
        {
          "output_type": "execute_result",
          "data": {
            "text/plain": [
              "'nilay'"
            ],
            "application/vnd.google.colaboratory.intrinsic+json": {
              "type": "string"
            }
          },
          "metadata": {},
          "execution_count": 39
        }
      ],
      "source": [
        "employee[\"name\"]"
      ]
    },
    {
      "cell_type": "code",
      "execution_count": null,
      "metadata": {
        "id": "IPyvrXSIWYVB"
      },
      "outputs": [],
      "source": [
        "employee={\"name\":\"nilay\",\"id\":101,\"age\":35.8}"
      ]
    },
    {
      "cell_type": "code",
      "execution_count": null,
      "metadata": {
        "id": "yrZ9WH0bWYVB",
        "outputId": "b0e8b8d7-a33c-42fd-cce9-0591e1361a27",
        "colab": {
          "base_uri": "https://localhost:8080/"
        }
      },
      "outputs": [
        {
          "output_type": "execute_result",
          "data": {
            "text/plain": [
              "35.8"
            ]
          },
          "metadata": {},
          "execution_count": 41
        }
      ],
      "source": [
        "#print variable content by mentioning variable name in notebook\n",
        "employee[\"age\"]"
      ]
    },
    {
      "cell_type": "code",
      "source": [
        "#print variable content by using print statement\n",
        "print(employee[\"age\"])"
      ],
      "metadata": {
        "colab": {
          "base_uri": "https://localhost:8080/"
        },
        "id": "ABR3oEgrcJaP",
        "outputId": "228733c1-dc55-4173-89f9-640760966ee1"
      },
      "execution_count": null,
      "outputs": [
        {
          "output_type": "stream",
          "name": "stdout",
          "text": [
            "35.8\n"
          ]
        }
      ]
    },
    {
      "cell_type": "code",
      "execution_count": null,
      "metadata": {
        "id": "5prQelT6KM5Z",
        "outputId": "145b4341-3501-415d-947a-a47f7f09a80a",
        "scrolled": false,
        "colab": {
          "base_uri": "https://localhost:8080/"
        }
      },
      "outputs": [
        {
          "output_type": "execute_result",
          "data": {
            "text/plain": [
              "101"
            ]
          },
          "metadata": {},
          "execution_count": 43
        }
      ],
      "source": [
        "employee['id']"
      ]
    },
    {
      "cell_type": "code",
      "source": [
        "#print variable content by mentioning variable name in notebook\n",
        "employee"
      ],
      "metadata": {
        "colab": {
          "base_uri": "https://localhost:8080/"
        },
        "id": "j901b8n_P0Xp",
        "outputId": "81e00747-959f-4ac5-c89a-26145086128d"
      },
      "execution_count": null,
      "outputs": [
        {
          "output_type": "execute_result",
          "data": {
            "text/plain": [
              "{'name': 'nilay', 'id': 101, 'age': 35.8}"
            ]
          },
          "metadata": {},
          "execution_count": 44
        }
      ]
    },
    {
      "cell_type": "code",
      "source": [
        "#print variable content by using print statement\n",
        "print(employee)"
      ],
      "metadata": {
        "colab": {
          "base_uri": "https://localhost:8080/"
        },
        "id": "g_NEW7mQP11_",
        "outputId": "50c10e37-f454-4105-e374-330e60d9112f"
      },
      "execution_count": null,
      "outputs": [
        {
          "output_type": "stream",
          "name": "stdout",
          "text": [
            "{'name': 'nilay', 'id': 101, 'age': 35.8}\n"
          ]
        }
      ]
    },
    {
      "cell_type": "code",
      "execution_count": null,
      "metadata": {
        "id": "Bi1Kq07xKM5Z",
        "outputId": "3a880d90-52af-4472-d2c1-71ab5fdc4a98",
        "colab": {
          "base_uri": "https://localhost:8080/"
        }
      },
      "outputs": [
        {
          "output_type": "execute_result",
          "data": {
            "text/plain": [
              "{'name': 'nilay', 'id': 101, 'age': 35.8, 'designation': 'AI engg.'}"
            ]
          },
          "metadata": {},
          "execution_count": 46
        }
      ],
      "source": [
        "#adding a new data into a dictionary\n",
        "employee['designation']=\"AI engg.\"\n",
        "employee"
      ]
    },
    {
      "cell_type": "code",
      "execution_count": null,
      "metadata": {
        "id": "feQGtU7ChSW5"
      },
      "outputs": [],
      "source": [
        "#Task 1 - create following dictionary\n",
        "#movie"
      ]
    },
    {
      "cell_type": "code",
      "source": [
        "#Task 2 - create following dictionary\n",
        "#student"
      ],
      "metadata": {
        "id": "-Txyj5MTQfYD"
      },
      "execution_count": null,
      "outputs": []
    },
    {
      "cell_type": "code",
      "source": [
        "#Task 3 - create following dictionary\n",
        "#course"
      ],
      "metadata": {
        "id": "LNx1yLO7QjwC"
      },
      "execution_count": null,
      "outputs": []
    },
    {
      "cell_type": "code",
      "execution_count": null,
      "metadata": {
        "colab": {
          "base_uri": "https://localhost:8080/"
        },
        "id": "pYnBoblLKM5a",
        "outputId": "3fb9f83c-0c4e-4d04-d9a1-2209021757fb",
        "scrolled": false
      },
      "outputs": [
        {
          "output_type": "stream",
          "name": "stdout",
          "text": [
            "{'name': 'Nilay', 'age': 20, 'work_from_home': False, 'skills': ['Data Science', 'Machine Learning', 'Deep Learning'], 'qualification': ('Ph D', 'MCA', 'B Sc'), 'contact_info': {'address': 'Pune', 'mobile': 999999999, 'email': 'nilaykarade@gmail.com'}}\n"
          ]
        }
      ],
      "source": [
        "#dictionary with mixed types of  keys and values\n",
        "employee = {'name': 'Nilay',\n",
        "             'age':20,\n",
        "             'work_from_home':False,\n",
        "             'skills':['Data Science','Machine Learning','Deep Learning'],\n",
        "             'qualification':('Ph D', 'MCA','B Sc'),\n",
        "             'contact_info':{'address':'Pune','mobile':999999999,\n",
        "                             'email':'nilaykarade@gmail.com'}\n",
        "            }\n",
        "print(employee)"
      ]
    },
    {
      "cell_type": "code",
      "execution_count": null,
      "metadata": {
        "colab": {
          "base_uri": "https://localhost:8080/"
        },
        "id": "HCqY6bjHn8E0",
        "outputId": "f443c5b7-cf60-4ea8-fcf1-83f36ca9e49f"
      },
      "outputs": [
        {
          "output_type": "execute_result",
          "data": {
            "text/plain": [
              "['Data Science', 'Machine Learning', 'Deep Learning']"
            ]
          },
          "metadata": {},
          "execution_count": 15
        }
      ],
      "source": [
        "employee['skills']"
      ]
    },
    {
      "cell_type": "code",
      "execution_count": null,
      "metadata": {
        "colab": {
          "base_uri": "https://localhost:8080/",
          "height": 36
        },
        "id": "iVC4WquSKM5a",
        "outputId": "68e75336-8e21-4a61-a6b1-776f799734c3"
      },
      "outputs": [
        {
          "output_type": "execute_result",
          "data": {
            "text/plain": [
              "'Machine Learning'"
            ],
            "application/vnd.google.colaboratory.intrinsic+json": {
              "type": "string"
            }
          },
          "metadata": {},
          "execution_count": 16
        }
      ],
      "source": [
        "employee['skills'][1]"
      ]
    },
    {
      "cell_type": "code",
      "source": [
        "employee['skills'].append('Web app development')\n",
        "employee"
      ],
      "metadata": {
        "colab": {
          "base_uri": "https://localhost:8080/"
        },
        "id": "TQGfMgnFQ9Rh",
        "outputId": "fb9ce340-14c4-47cb-f586-7dcbf03b8e05"
      },
      "execution_count": null,
      "outputs": [
        {
          "output_type": "execute_result",
          "data": {
            "text/plain": [
              "{'name': 'Nilay',\n",
              " 'age': 20,\n",
              " 'work_from_home': False,\n",
              " 'skills': ['Data Science',\n",
              "  'Machine Learning',\n",
              "  'Deep Learning',\n",
              "  'Web app development'],\n",
              " 'qualification': ('Ph D', 'MCA', 'B Sc'),\n",
              " 'contact_info': {'address': 'Pune',\n",
              "  'mobile': 999999999,\n",
              "  'email': 'nilaykarade@gmail.com'}}"
            ]
          },
          "metadata": {},
          "execution_count": 17
        }
      ]
    },
    {
      "cell_type": "code",
      "execution_count": null,
      "metadata": {
        "colab": {
          "base_uri": "https://localhost:8080/"
        },
        "id": "T6YfxDD9oB-C",
        "outputId": "9b1a1d4a-02a2-4734-ebdf-7fa2d7fab976"
      },
      "outputs": [
        {
          "output_type": "execute_result",
          "data": {
            "text/plain": [
              "('Ph D', 'MCA', 'B Sc')"
            ]
          },
          "metadata": {},
          "execution_count": 18
        }
      ],
      "source": [
        "employee['qualification']"
      ]
    },
    {
      "cell_type": "code",
      "execution_count": null,
      "metadata": {
        "id": "vA0zBErTKM5a",
        "outputId": "5c542fc7-8510-47c3-9075-f4da356100b4",
        "colab": {
          "base_uri": "https://localhost:8080/",
          "height": 36
        }
      },
      "outputs": [
        {
          "output_type": "execute_result",
          "data": {
            "text/plain": [
              "'Ph D'"
            ],
            "application/vnd.google.colaboratory.intrinsic+json": {
              "type": "string"
            }
          },
          "metadata": {},
          "execution_count": 19
        }
      ],
      "source": [
        "employee['qualification'][0]"
      ]
    },
    {
      "cell_type": "code",
      "execution_count": null,
      "metadata": {
        "colab": {
          "base_uri": "https://localhost:8080/"
        },
        "id": "c_L9mpcToRzz",
        "outputId": "5cfd76ab-9b17-440f-949b-bf52f1faa631"
      },
      "outputs": [
        {
          "output_type": "execute_result",
          "data": {
            "text/plain": [
              "{'address': 'Pune', 'mobile': 999999999, 'email': 'nilaykarade@gmail.com'}"
            ]
          },
          "metadata": {},
          "execution_count": 20
        }
      ],
      "source": [
        "employee['contact_info']"
      ]
    },
    {
      "cell_type": "code",
      "execution_count": null,
      "metadata": {
        "id": "aRNngYIBKM5b",
        "outputId": "13845002-b1bd-4763-f752-930250db20f3",
        "colab": {
          "base_uri": "https://localhost:8080/",
          "height": 36
        }
      },
      "outputs": [
        {
          "output_type": "execute_result",
          "data": {
            "text/plain": [
              "'nilaykarade@gmail.com'"
            ],
            "application/vnd.google.colaboratory.intrinsic+json": {
              "type": "string"
            }
          },
          "metadata": {},
          "execution_count": 21
        }
      ],
      "source": [
        "employee['contact_info']['email']"
      ]
    },
    {
      "cell_type": "code",
      "source": [
        "# dictionary_name.get('key_name')\n",
        "employee.get('name')"
      ],
      "metadata": {
        "colab": {
          "base_uri": "https://localhost:8080/",
          "height": 36
        },
        "id": "g81SACz-RlIA",
        "outputId": "3411d522-e1c8-408d-a8f4-0bacb800c051"
      },
      "execution_count": null,
      "outputs": [
        {
          "output_type": "execute_result",
          "data": {
            "text/plain": [
              "'Nilay'"
            ],
            "application/vnd.google.colaboratory.intrinsic+json": {
              "type": "string"
            }
          },
          "metadata": {},
          "execution_count": 24
        }
      ]
    },
    {
      "cell_type": "code",
      "source": [
        "#Task - print other values of user_dict using get()"
      ],
      "metadata": {
        "id": "44n9ke0YRu6h"
      },
      "execution_count": null,
      "outputs": []
    },
    {
      "cell_type": "code",
      "execution_count": null,
      "metadata": {
        "id": "ixCetiyQWYVG",
        "outputId": "c70eb5bc-a04a-4ec8-ff7d-c26c17c4c1c6",
        "colab": {
          "base_uri": "https://localhost:8080/"
        }
      },
      "outputs": [
        {
          "output_type": "execute_result",
          "data": {
            "text/plain": [
              "6"
            ]
          },
          "metadata": {},
          "execution_count": 51
        }
      ],
      "source": [
        "len(employee)"
      ]
    },
    {
      "cell_type": "markdown",
      "metadata": {
        "id": "QVQG50dG8YWy"
      },
      "source": [
        "## Dict Add or Modify  Elements"
      ]
    },
    {
      "cell_type": "code",
      "execution_count": null,
      "metadata": {
        "id": "vMb2joW0KM5g",
        "outputId": "81311048-a61f-434b-8dc9-fd596511fb13",
        "colab": {
          "base_uri": "https://localhost:8080/"
        }
      },
      "outputs": [
        {
          "output_type": "execute_result",
          "data": {
            "text/plain": [
              "{'name': 'Nilay',\n",
              " 'age': 20,\n",
              " 'work_from_home': False,\n",
              " 'skills': ['Data Science',\n",
              "  'Machine Learning',\n",
              "  'Deep Learning',\n",
              "  'Web app development'],\n",
              " 'qualification': ('Ph D', 'MCA', 'B Sc'),\n",
              " 'contact_info': {'address': 'Pune',\n",
              "  'mobile': 999999999,\n",
              "  'email': 'nilaykarade@gmail.com'}}"
            ]
          },
          "metadata": {},
          "execution_count": 25
        }
      ],
      "source": [
        "employee"
      ]
    },
    {
      "cell_type": "code",
      "execution_count": null,
      "metadata": {
        "id": "Cg9LrSiL8YW0",
        "outputId": "d083dd20-1c54-4db2-e2e8-63ce7d7222e1",
        "scrolled": true,
        "colab": {
          "base_uri": "https://localhost:8080/"
        }
      },
      "outputs": [
        {
          "output_type": "execute_result",
          "data": {
            "text/plain": [
              "{'name': 'Nilay Karade',\n",
              " 'age': 20,\n",
              " 'work_from_home': False,\n",
              " 'skills': ['Data Science',\n",
              "  'Machine Learning',\n",
              "  'Deep Learning',\n",
              "  'Web app development'],\n",
              " 'qualification': ('Ph D', 'MCA', 'B Sc'),\n",
              " 'contact_info': {'address': 'Pune',\n",
              "  'mobile': 999999999,\n",
              "  'email': 'nilaykarade@gmail.com'}}"
            ]
          },
          "metadata": {},
          "execution_count": 26
        }
      ],
      "source": [
        "employee['name'] = 'Nilay Karade'\n",
        "employee"
      ]
    },
    {
      "cell_type": "code",
      "source": [
        "#Task - change age value"
      ],
      "metadata": {
        "id": "KcbNsDz-R9mw"
      },
      "execution_count": null,
      "outputs": []
    },
    {
      "cell_type": "code",
      "execution_count": null,
      "metadata": {
        "id": "KTp8AmEZKM5g"
      },
      "outputs": [],
      "source": [
        "#Task - change value of 'data science' to  'data science  & analytics'\n"
      ]
    },
    {
      "cell_type": "code",
      "execution_count": null,
      "metadata": {
        "id": "lYP9fW23KM5h"
      },
      "outputs": [],
      "source": [
        "#task - add 'AI' in skill"
      ]
    },
    {
      "cell_type": "code",
      "execution_count": null,
      "metadata": {
        "id": "CZ2yD3Yv8YW5"
      },
      "outputs": [],
      "source": [
        "#Task - change  mobile number"
      ]
    },
    {
      "cell_type": "markdown",
      "metadata": {
        "id": "JlbqO1N78YW8"
      },
      "source": [
        "## Dict Delete or Remove Element"
      ]
    },
    {
      "cell_type": "code",
      "execution_count": null,
      "metadata": {
        "colab": {
          "base_uri": "https://localhost:8080/"
        },
        "id": "8WJsHD9E8YW9",
        "outputId": "c67e1a6d-bba6-41fb-f3d8-444e23555488"
      },
      "outputs": [
        {
          "output_type": "execute_result",
          "data": {
            "text/plain": [
              "{'name': 'Nilay Karade',\n",
              " 'work_from_home': False,\n",
              " 'skills': ['Data Science',\n",
              "  'Machine Learning',\n",
              "  'Deep Learning',\n",
              "  'Web app development'],\n",
              " 'qualification': ('Ph D', 'MCA', 'B Sc'),\n",
              " 'contact_info': {'address': 'Pune',\n",
              "  'mobile': 999999999,\n",
              "  'email': 'nilaykarade@gmail.com'}}"
            ]
          },
          "metadata": {},
          "execution_count": 28
        }
      ],
      "source": [
        "employee.pop('age')\n",
        "employee"
      ]
    },
    {
      "cell_type": "code",
      "execution_count": null,
      "metadata": {
        "colab": {
          "base_uri": "https://localhost:8080/"
        },
        "id": "4m6D2JT4KM5i",
        "outputId": "71155402-48a9-4ec2-cc81-33b5e5383c06"
      },
      "outputs": [
        {
          "output_type": "stream",
          "name": "stdout",
          "text": [
            "{1: 1, 2: 4, 3: 9, 4: 16, 5: 25}\n",
            "{1: 1, 2: 4, 3: 9, 4: 16}\n"
          ]
        }
      ],
      "source": [
        "#deleting from dictionalry\n",
        "squares = {1:1, 2: 4, 3: 9, 4: 16, 5: 25}\n",
        "print(squares)\n",
        "squares.popitem()\n",
        "print(squares)"
      ]
    },
    {
      "cell_type": "code",
      "execution_count": null,
      "metadata": {
        "id": "WaE9o6-j8YXG",
        "outputId": "3b26053a-8ce1-4da0-bc7d-8a019b20699c"
      },
      "outputs": [
        {
          "name": "stdout",
          "output_type": "stream",
          "text": [
            "{2: 4, 3: 9, 4: 16, 5: 25}\n",
            "{}\n"
          ]
        }
      ],
      "source": [
        "#remove all items\n",
        "squares = {2: 4, 3: 9, 4: 16, 5: 25}\n",
        "print(squares)\n",
        "squares.clear()\n",
        "print(squares)"
      ]
    },
    {
      "cell_type": "code",
      "execution_count": null,
      "metadata": {
        "colab": {
          "base_uri": "https://localhost:8080/"
        },
        "id": "YMjrhvUr8YXZ",
        "outputId": "f88bcedf-cfd2-42ce-aadd-539996993cdd"
      },
      "outputs": [
        {
          "name": "stdout",
          "output_type": "stream",
          "text": [
            "dict_keys([2, 3, 4, 5])\n"
          ]
        }
      ],
      "source": [
        "squares = {2:4, 3:9, 4:16, 5:25}\n",
        "print(squares.keys()) #return a view of the dictionary keys"
      ]
    },
    {
      "cell_type": "code",
      "execution_count": null,
      "metadata": {
        "colab": {
          "base_uri": "https://localhost:8080/"
        },
        "id": "B2AU0n-Z8YXd",
        "outputId": "463c0c0d-2c9b-4f85-b179-1e6d54a7b30e"
      },
      "outputs": [
        {
          "name": "stdout",
          "output_type": "stream",
          "text": [
            "dict_values([4, 9, 16, 25])\n"
          ]
        }
      ],
      "source": [
        "squares = {2:4, 3:9, 4:16, 5:25}\n",
        "print(squares.values()) #return a view of the dictionary values"
      ]
    }
  ],
  "metadata": {
    "colab": {
      "provenance": []
    },
    "kernelspec": {
      "display_name": "Python 3 (ipykernel)",
      "language": "python",
      "name": "python3"
    },
    "language_info": {
      "codemirror_mode": {
        "name": "ipython",
        "version": 3
      },
      "file_extension": ".py",
      "mimetype": "text/x-python",
      "name": "python",
      "nbconvert_exporter": "python",
      "pygments_lexer": "ipython3",
      "version": "3.10.9"
    }
  },
  "nbformat": 4,
  "nbformat_minor": 0
}