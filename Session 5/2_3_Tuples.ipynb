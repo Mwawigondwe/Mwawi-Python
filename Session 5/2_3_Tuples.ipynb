{
  "nbformat": 4,
  "nbformat_minor": 0,
  "metadata": {
    "colab": {
      "provenance": []
    },
    "kernelspec": {
      "name": "python3",
      "display_name": "Python 3"
    },
    "language_info": {
      "name": "python"
    }
  },
  "cells": [
    {
      "cell_type": "markdown",
      "source": [
        "#Tuples in Python\n",
        "A tuple is a collection of ordered, immutable elements. Once a tuple is created, you cannot change its values, making it useful for storing data that should not be modified. Tuples are defined using parentheses () and can contain elements of different data types.\n",
        "\n",
        "Key Characteristics of Tuples:\n",
        "Ordered: The elements have a defined order, and that order will not change.\n",
        "\n",
        "Immutable: Elements cannot be changed after the tuple is created.\n",
        "\n",
        "Allow Duplicates: Tuples can have multiple elements with the same value.\n",
        "\n",
        "Memory Efficiency: Tuples are more memory efficient than lists.\n",
        "\n",
        "Performance: Accessing elements in a tuple is generally faster than in a list due to its immutability."
      ],
      "metadata": {
        "id": "iVyE3YQ0TkC7"
      }
    },
    {
      "cell_type": "code",
      "execution_count": 1,
      "metadata": {
        "colab": {
          "base_uri": "https://localhost:8080/"
        },
        "id": "ZmXPiq7PTXKk",
        "outputId": "8c40db22-6bf4-48ca-bf75-550618874c00"
      },
      "outputs": [
        {
          "output_type": "stream",
          "name": "stdout",
          "text": [
            "(18, 20, 22, 19, 21)\n"
          ]
        },
        {
          "output_type": "execute_result",
          "data": {
            "text/plain": [
              "tuple"
            ]
          },
          "metadata": {},
          "execution_count": 1
        }
      ],
      "source": [
        "# A tuple with integer values\n",
        "student_ages = (18, 20, 22, 19, 21)\n",
        "print(student_ages)\n",
        "type(student_ages)"
      ]
    },
    {
      "cell_type": "code",
      "source": [
        "#tuples are immutable and hence can't modify tuple values after initialization\n",
        "student_ages[0]=33"
      ],
      "metadata": {
        "colab": {
          "base_uri": "https://localhost:8080/",
          "height": 144
        },
        "id": "26lsIU0aOrV0",
        "outputId": "02724de7-7682-4367-fadb-4deff75c16c1"
      },
      "execution_count": null,
      "outputs": [
        {
          "output_type": "error",
          "ename": "TypeError",
          "evalue": "'tuple' object does not support item assignment",
          "traceback": [
            "\u001b[0;31m---------------------------------------------------------------------------\u001b[0m",
            "\u001b[0;31mTypeError\u001b[0m                                 Traceback (most recent call last)",
            "\u001b[0;32m<ipython-input-2-52a17fb2ece8>\u001b[0m in \u001b[0;36m<cell line: 1>\u001b[0;34m()\u001b[0m\n\u001b[0;32m----> 1\u001b[0;31m \u001b[0mstudent_ages\u001b[0m\u001b[0;34m[\u001b[0m\u001b[0;36m0\u001b[0m\u001b[0;34m]\u001b[0m\u001b[0;34m=\u001b[0m\u001b[0;36m33\u001b[0m\u001b[0;34m\u001b[0m\u001b[0;34m\u001b[0m\u001b[0m\n\u001b[0m",
            "\u001b[0;31mTypeError\u001b[0m: 'tuple' object does not support item assignment"
          ]
        }
      ]
    },
    {
      "cell_type": "code",
      "source": [
        "# A tuple with mixed data types\n",
        "student_info = (\"John Doe\", 21, 3.8)\n",
        "print(student_info)\n"
      ],
      "metadata": {
        "colab": {
          "base_uri": "https://localhost:8080/"
        },
        "id": "9QXKq3mtTi18",
        "outputId": "314645d0-1f40-4821-b701-b7ee351e7068"
      },
      "execution_count": null,
      "outputs": [
        {
          "output_type": "stream",
          "name": "stdout",
          "text": [
            "('John Doe', 21, 3.8)\n"
          ]
        }
      ]
    },
    {
      "cell_type": "code",
      "source": [
        "#indexing in tuple\n",
        "print(student_ages[0])  # Output: 18\n",
        "print(student_info[1])  # Output: 21\n"
      ],
      "metadata": {
        "id": "1LB4E05_Ty-u"
      },
      "execution_count": null,
      "outputs": []
    },
    {
      "cell_type": "code",
      "source": [
        "# index slicing\n",
        "print(student_ages[1:3])\n"
      ],
      "metadata": {
        "colab": {
          "base_uri": "https://localhost:8080/"
        },
        "id": "ynKBIzFrUKnu",
        "outputId": "6d43a27c-6906-48e2-f13b-89f359a8e181"
      },
      "execution_count": null,
      "outputs": [
        {
          "output_type": "stream",
          "name": "stdout",
          "text": [
            "(20, 22)\n"
          ]
        }
      ]
    },
    {
      "cell_type": "code",
      "source": [
        "len(student_ages)  # Output: 5\n"
      ],
      "metadata": {
        "colab": {
          "base_uri": "https://localhost:8080/"
        },
        "id": "Ztcnbt6UUSN8",
        "outputId": "f3263883-638a-4ae3-a9d6-cc88913a3846"
      },
      "execution_count": null,
      "outputs": [
        {
          "output_type": "stream",
          "name": "stdout",
          "text": [
            "5\n"
          ]
        }
      ]
    },
    {
      "cell_type": "code",
      "source": [
        "student_ages.count(20)"
      ],
      "metadata": {
        "colab": {
          "base_uri": "https://localhost:8080/"
        },
        "id": "ZXP1vsgeUvXD",
        "outputId": "477c0e03-0f6b-4d9b-c3d2-ea84f81fcca9"
      },
      "execution_count": null,
      "outputs": [
        {
          "output_type": "execute_result",
          "data": {
            "text/plain": [
              "1"
            ]
          },
          "metadata": {},
          "execution_count": 7
        }
      ]
    },
    {
      "cell_type": "code",
      "source": [
        "student_ages.index(21)"
      ],
      "metadata": {
        "id": "ZET-sOL1VUe_",
        "outputId": "e4ac6542-a3d5-41f3-fe9e-31eccf62052e",
        "colab": {
          "base_uri": "https://localhost:8080/"
        }
      },
      "execution_count": null,
      "outputs": [
        {
          "output_type": "execute_result",
          "data": {
            "text/plain": [
              "4"
            ]
          },
          "metadata": {},
          "execution_count": 8
        }
      ]
    },
    {
      "cell_type": "code",
      "source": [],
      "metadata": {
        "id": "oRYpseOqVYLG"
      },
      "execution_count": null,
      "outputs": []
    }
  ]
}