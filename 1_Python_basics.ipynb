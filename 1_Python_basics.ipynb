{
  "nbformat": 4,
  "nbformat_minor": 0,
  "metadata": {
    "colab": {
      "provenance": []
    },
    "kernelspec": {
      "name": "python3",
      "display_name": "Python 3"
    },
    "language_info": {
      "name": "python"
    }
  },
  "cells": [
    {
      "cell_type": "markdown",
      "source": [
        "The print() function is used to output data to the standard output device, typically the console."
      ],
      "metadata": {
        "id": "bJCkRoc5vokH"
      }
    },
    {
      "cell_type": "code",
      "execution_count": null,
      "metadata": {
        "colab": {
          "base_uri": "https://localhost:8080/"
        },
        "id": "RKmaRC7LbhaA",
        "outputId": "0d3a400b-a7b7-4d3a-dc45-964e8ebf9947"
      },
      "outputs": [
        {
          "output_type": "stream",
          "name": "stdout",
          "text": [
            "Welcome!!!\n"
          ]
        }
      ],
      "source": [
        "print(\"Welcome!!!\")"
      ]
    },
    {
      "cell_type": "markdown",
      "source": [
        "Print a your favourite book/movie title\n"
      ],
      "metadata": {
        "id": "hQckL-7kQr5H"
      }
    },
    {
      "cell_type": "code",
      "source": [
        "print(\"Cast Away\")"
      ],
      "metadata": {
        "id": "DdSnAsLtQqN8",
        "colab": {
          "base_uri": "https://localhost:8080/"
        },
        "outputId": "14bf8775-0ecd-449f-e0e5-3de840c164a1"
      },
      "execution_count": 1,
      "outputs": [
        {
          "output_type": "stream",
          "name": "stdout",
          "text": [
            "Cast Away\n"
          ]
        }
      ]
    },
    {
      "cell_type": "code",
      "source": [
        "print(25)"
      ],
      "metadata": {
        "colab": {
          "base_uri": "https://localhost:8080/"
        },
        "id": "5aNHc5wBqoGI",
        "outputId": "7527f7ce-df84-409d-a1d0-361467c39703"
      },
      "execution_count": null,
      "outputs": [
        {
          "output_type": "stream",
          "name": "stdout",
          "text": [
            "25\n"
          ]
        }
      ]
    },
    {
      "cell_type": "code",
      "source": [
        "print(176.5)"
      ],
      "metadata": {
        "colab": {
          "base_uri": "https://localhost:8080/"
        },
        "id": "c5HtZShOqrcy",
        "outputId": "5f0ae9b0-37a0-45ae-abb1-f241d09a5417"
      },
      "execution_count": null,
      "outputs": [
        {
          "output_type": "stream",
          "name": "stdout",
          "text": [
            "176.5\n"
          ]
        }
      ]
    },
    {
      "cell_type": "markdown",
      "source": [
        "#Rules for variable naming\n",
        "Must start with a letter (a-z, A-Z) or an underscore (_).\n",
        "\n",
        "Can be followed by letters, digits (0-9), or underscores.\n",
        "\n",
        "Cannot start with a digit.\n",
        "\n",
        "Are case-sensitive (Age and age are different)\n",
        "\n",
        "Examples:\n",
        "\n",
        "Valid: myVariable, _my_variable, variable123\n",
        "\n",
        "Invalid: 1variable, variable-name, variable!\n"
      ],
      "metadata": {
        "id": "956qDtbpgRZZ"
      }
    },
    {
      "cell_type": "code",
      "source": [
        "#variable initialization\n",
        "age=44\n",
        "Age=7\n",
        "print(age)\n",
        "print(Age)"
      ],
      "metadata": {
        "id": "qyMzziFRfE3n",
        "colab": {
          "base_uri": "https://localhost:8080/"
        },
        "outputId": "ace5315d-7a99-40f9-ad11-01e39b500a9f"
      },
      "execution_count": 19,
      "outputs": [
        {
          "output_type": "stream",
          "name": "stdout",
          "text": [
            "44\n",
            "7\n"
          ]
        }
      ]
    },
    {
      "cell_type": "code",
      "source": [
        "acc_balance=10000"
      ],
      "metadata": {
        "id": "R7UuxLjhrYkM"
      },
      "execution_count": 6,
      "outputs": []
    },
    {
      "cell_type": "code",
      "source": [
        "print(acc_balance)"
      ],
      "metadata": {
        "colab": {
          "base_uri": "https://localhost:8080/"
        },
        "id": "viDz7qA2rYKv",
        "outputId": "8d54093e-1abe-4d53-e95f-f8e5ac5f5b64"
      },
      "execution_count": 7,
      "outputs": [
        {
          "output_type": "stream",
          "name": "stdout",
          "text": [
            "10000\n"
          ]
        }
      ]
    },
    {
      "cell_type": "code",
      "source": [
        "print(\"My age is \",age)"
      ],
      "metadata": {
        "colab": {
          "base_uri": "https://localhost:8080/"
        },
        "id": "3v40BWutfN9l",
        "outputId": "efee3eac-f640-4108-8458-b2dc3fc904fc"
      },
      "execution_count": null,
      "outputs": [
        {
          "output_type": "stream",
          "name": "stdout",
          "text": [
            "My age is  25\n"
          ]
        }
      ]
    },
    {
      "cell_type": "code",
      "source": [
        "acc_balance=123456\n",
        "print(\"Account balance = R\",acc_balance)"
      ],
      "metadata": {
        "colab": {
          "base_uri": "https://localhost:8080/"
        },
        "id": "q15K-g4pvBEL",
        "outputId": "aba655e4-f2ff-47cf-94e3-d19fc0b9177a"
      },
      "execution_count": 20,
      "outputs": [
        {
          "output_type": "stream",
          "name": "stdout",
          "text": [
            "Account balance = R 10000\n"
          ]
        }
      ]
    },
    {
      "cell_type": "code",
      "source": [
        "age=30\n",
        "print(\"My age is\", age)"
      ],
      "metadata": {
        "colab": {
          "base_uri": "https://localhost:8080/"
        },
        "id": "xyPDVO5mfYS3",
        "outputId": "c6c22c91-481f-4346-d98a-7b5ce6c76c42"
      },
      "execution_count": 21,
      "outputs": [
        {
          "output_type": "stream",
          "name": "stdout",
          "text": [
            "My age is age\n"
          ]
        }
      ]
    },
    {
      "cell_type": "markdown",
      "source": [
        "# Programming comments\n",
        "Comments in programming are text notes included within the code to provide explanations, clarifications, or to leave reminders for developers. They are ignored by the compiler or interpreter, meaning they do not affect the execution of the code.\n",
        "\n",
        "\n",
        "\n",
        "single line comment: #\n",
        "\n",
        "multiple line comment:\n",
        "\n",
        "\"\"\"\n",
        "This is\n",
        "\n",
        "a multiline\n",
        "\n",
        "comment\n",
        "\"\"\"\n",
        "\n",
        "\n"
      ],
      "metadata": {
        "id": "c4Udj1jnPv_k"
      }
    },
    {
      "cell_type": "code",
      "source": [
        "\"\"\"\n",
        "this is\n",
        "multiline\n",
        "comment\n",
        "\"\"\"\n",
        "print(\"Hello\")"
      ],
      "metadata": {
        "colab": {
          "base_uri": "https://localhost:8080/"
        },
        "id": "5oHQLTU3y5E_",
        "outputId": "c6e1d1ac-7281-47dc-9b78-e82932d91020"
      },
      "execution_count": 23,
      "outputs": [
        {
          "output_type": "stream",
          "name": "stdout",
          "text": [
            "Hello\n"
          ]
        }
      ]
    },
    {
      "cell_type": "code",
      "source": [
        "#Task - Initialize height variable and print it"
      ],
      "metadata": {
        "id": "XSuKCxYmf5Rp"
      },
      "execution_count": null,
      "outputs": []
    },
    {
      "cell_type": "code",
      "source": [
        "#Task - Initialize population variable and print it"
      ],
      "metadata": {
        "id": "-lX29ri1f4_M"
      },
      "execution_count": null,
      "outputs": []
    },
    {
      "cell_type": "code",
      "source": [
        "#initialising string variable\n",
        "name=\"Sibo\"\n",
        "print(\"My name is \", name)"
      ],
      "metadata": {
        "colab": {
          "base_uri": "https://localhost:8080/"
        },
        "id": "cSobx0nvf4w3",
        "outputId": "fb2d6ec3-b51b-4122-d872-680211f93eb6"
      },
      "execution_count": 25,
      "outputs": [
        {
          "output_type": "stream",
          "name": "stdout",
          "text": [
            "My name is  Sibo\n"
          ]
        }
      ]
    },
    {
      "cell_type": "code",
      "source": [
        "#Task - Initialize country and capital variable and print them"
      ],
      "metadata": {
        "id": "hRjtXZVV3NfH"
      },
      "execution_count": null,
      "outputs": []
    },
    {
      "cell_type": "markdown",
      "source": [
        "#Special characters\n",
        "\n",
        "\\n New line character - adds a line break in the text.\n",
        "\n",
        "\\t - adds a tab in the text"
      ],
      "metadata": {
        "id": "ydLfJYzv340P"
      }
    },
    {
      "cell_type": "code",
      "source": [
        "print(\"My name is Nilay. I worked at Digital Regenesys. My skills include Data Science and AI\")"
      ],
      "metadata": {
        "colab": {
          "base_uri": "https://localhost:8080/"
        },
        "id": "cDlo5ESgmOgJ",
        "outputId": "4c1305a7-aa75-4871-9102-7b9c6d6fc77f"
      },
      "execution_count": null,
      "outputs": [
        {
          "output_type": "stream",
          "name": "stdout",
          "text": [
            "My name is Nilay. I worked at Digital Regenesys. My skills include Data Science and AI\n"
          ]
        }
      ]
    },
    {
      "cell_type": "code",
      "source": [
        "print(\"My name is Nilay.\\tI worked at Digital Regenesys.\\tMy skills include Data Science and AI\")"
      ],
      "metadata": {
        "colab": {
          "base_uri": "https://localhost:8080/"
        },
        "id": "Bv3hugKlmlb_",
        "outputId": "84bb1a7f-0760-4588-fcf0-7f5b57a98ef2"
      },
      "execution_count": 29,
      "outputs": [
        {
          "output_type": "stream",
          "name": "stdout",
          "text": [
            "My name is Nilay.\tI worked at Digital Regenesys.\tMy skills include Data Science and AI\n"
          ]
        }
      ]
    },
    {
      "cell_type": "code",
      "source": [
        "#add \\n in the following print statement\n",
        "print(\"This is for the first time I am writing Python code. Python seems quite simple. I am loving it.\")"
      ],
      "metadata": {
        "id": "SfVBHoRsm2k3"
      },
      "execution_count": null,
      "outputs": []
    },
    {
      "cell_type": "code",
      "source": [
        "#add \\t in the following print statement\n",
        "print(\"This is for the first time I am writing Python code. Python seems quite simple. I am loving it.\")"
      ],
      "metadata": {
        "id": "MJHWwIFVr85Q"
      },
      "execution_count": null,
      "outputs": []
    },
    {
      "cell_type": "code",
      "source": [
        "# data type\n",
        "type(age)"
      ],
      "metadata": {
        "colab": {
          "base_uri": "https://localhost:8080/"
        },
        "id": "72KRAySkf4cq",
        "outputId": "2eaa0ebb-2379-4a83-f574-70529e31485e"
      },
      "execution_count": 30,
      "outputs": [
        {
          "output_type": "execute_result",
          "data": {
            "text/plain": [
              "int"
            ]
          },
          "metadata": {},
          "execution_count": 30
        }
      ]
    },
    {
      "cell_type": "code",
      "source": [
        "height=177.8\n",
        "type(height)"
      ],
      "metadata": {
        "colab": {
          "base_uri": "https://localhost:8080/"
        },
        "id": "cUia6lXZ2CqZ",
        "outputId": "563db912-9baf-46a2-e273-5b7bf58a7d35"
      },
      "execution_count": 31,
      "outputs": [
        {
          "output_type": "execute_result",
          "data": {
            "text/plain": [
              "float"
            ]
          },
          "metadata": {},
          "execution_count": 31
        }
      ]
    },
    {
      "cell_type": "code",
      "source": [
        "country=\"Kenya\"\n",
        "type(country)"
      ],
      "metadata": {
        "colab": {
          "base_uri": "https://localhost:8080/"
        },
        "id": "_Kpnf7xO2JOz",
        "outputId": "0d4bc515-d9b6-48cf-8ece-2cbc32abccb2"
      },
      "execution_count": 32,
      "outputs": [
        {
          "output_type": "execute_result",
          "data": {
            "text/plain": [
              "str"
            ]
          },
          "metadata": {},
          "execution_count": 32
        }
      ]
    },
    {
      "cell_type": "code",
      "source": [
        "# get the data type of height, country, name using type()"
      ],
      "metadata": {
        "id": "qBt0wkhTh6UA"
      },
      "execution_count": null,
      "outputs": []
    },
    {
      "cell_type": "code",
      "source": [
        "#computation using variable\n",
        "#addition code\n",
        "x=5\n",
        "y=2\n",
        "sum=x+y\n",
        "sum"
      ],
      "metadata": {
        "colab": {
          "base_uri": "https://localhost:8080/"
        },
        "id": "JDcrg1tSb_FE",
        "outputId": "c62da18e-2509-47ed-82f4-31d253d4dd93"
      },
      "execution_count": null,
      "outputs": [
        {
          "output_type": "execute_result",
          "data": {
            "text/plain": [
              "7"
            ]
          },
          "metadata": {},
          "execution_count": 35
        }
      ]
    },
    {
      "cell_type": "code",
      "source": [
        "#printing z value i.e. output\n",
        "print(\"The sum of x and y is \",sum)"
      ],
      "metadata": {
        "colab": {
          "base_uri": "https://localhost:8080/"
        },
        "id": "cnR5kWETcbc0",
        "outputId": "9a0eb0a4-4f5f-4189-aeaa-94f2274960cc"
      },
      "execution_count": null,
      "outputs": [
        {
          "output_type": "stream",
          "name": "stdout",
          "text": [
            "The sum of x and y is  7\n"
          ]
        }
      ]
    },
    {
      "cell_type": "code",
      "source": [
        "#printing input values i.e. x and y along with output value i.e. z\n",
        "print(\"The sum of\", x ,\"and\", y,\" is \",sum)"
      ],
      "metadata": {
        "colab": {
          "base_uri": "https://localhost:8080/"
        },
        "id": "TnXHdXfUd9iN",
        "outputId": "ac23eba3-db67-4163-bf46-5c1f4a0242f7"
      },
      "execution_count": null,
      "outputs": [
        {
          "output_type": "stream",
          "name": "stdout",
          "text": [
            "The sum of 5 and 2  is  7\n"
          ]
        }
      ]
    },
    {
      "cell_type": "code",
      "source": [],
      "metadata": {
        "id": "gTKT5KEseGBA"
      },
      "execution_count": null,
      "outputs": []
    },
    {
      "cell_type": "markdown",
      "source": [
        "#Arithmetic operators :\n",
        "Addtion: +\n",
        "\n",
        "x+y\n",
        "\n",
        "Subtraction: -  \n",
        "\n",
        "x-y\n",
        "\n",
        "\n",
        "Multiplication: *\n",
        "\n",
        "x*y\n",
        "\n",
        "Division: /\n",
        "\n",
        "x/y\n",
        "\n",
        "\n",
        "Integer division: //\n",
        "\n",
        "x//y\n",
        "\n",
        "\n",
        "Modulus (Remainder):  %\n",
        "\n",
        "x%y\n",
        "\n",
        "\n",
        "Exponent: **\n",
        "\n",
        "x**y"
      ],
      "metadata": {
        "id": "OJ6pa3QPx57G"
      }
    },
    {
      "cell_type": "code",
      "source": [
        "result=x-y\n",
        "print(\"The subtraction of\", x ,\"and\", y,\" is \",result)\n",
        "result=x*y\n",
        "print(\"The multiplication of\", x ,\"and\", y,\" is \",result)\n",
        "result=x/y\n",
        "print(\"The division of\", x ,\"and\", y,\" is \",result)"
      ],
      "metadata": {
        "colab": {
          "base_uri": "https://localhost:8080/"
        },
        "id": "mwh7YquteiPs",
        "outputId": "8a781d5b-cf94-42fa-987b-2769dd8b7971"
      },
      "execution_count": null,
      "outputs": [
        {
          "output_type": "stream",
          "name": "stdout",
          "text": [
            "The subtraction of 5 and 2  is  3\n",
            "The multiplication of 5 and 2  is  10\n",
            "The division of 5 and 2  is  2.5\n"
          ]
        }
      ]
    },
    {
      "cell_type": "code",
      "source": [
        "# Initialize variables a and b, calculate their subtraction, multiplcation and division and print their final output\n"
      ],
      "metadata": {
        "id": "jmrNfi3ox20a"
      },
      "execution_count": null,
      "outputs": []
    },
    {
      "cell_type": "markdown",
      "source": [
        "#Keywords\n",
        "Python has a set of reserved words that have special meanings and cannot be used as identifiers (such as variable names, function names, etc.). These reserved words are known as keywords. Here's a list of all the Python keywords:\n",
        "\n"
      ],
      "metadata": {
        "id": "ux_KRTK-lu0r"
      }
    },
    {
      "cell_type": "code",
      "source": [
        "import keyword\n",
        "print(\"Following is the list of keywords in Python\")\n",
        "print(keyword.kwlist)"
      ],
      "metadata": {
        "colab": {
          "base_uri": "https://localhost:8080/"
        },
        "id": "z5hygKs6luRj",
        "outputId": "465f35cf-2562-49df-dff5-b06888b64785"
      },
      "execution_count": null,
      "outputs": [
        {
          "output_type": "stream",
          "name": "stdout",
          "text": [
            "Following is the list of keywords in Python\n",
            "['False', 'None', 'True', 'and', 'as', 'assert', 'async', 'await', 'break', 'class', 'continue', 'def', 'del', 'elif', 'else', 'except', 'finally', 'for', 'from', 'global', 'if', 'import', 'in', 'is', 'lambda', 'nonlocal', 'not', 'or', 'pass', 'raise', 'return', 'try', 'while', 'with', 'yield']\n"
          ]
        }
      ]
    },
    {
      "cell_type": "code",
      "source": [
        "#billing app for coffee shop\n",
        "#initialise variables\n",
        "unit_price=5\n",
        "order_count=18\n",
        "\n",
        "#calculate bill amount\n",
        "bill_amount=unit_price*order_count\n",
        "\n",
        "#print the output\n",
        "print(\"The unit price = R\",unit_price)\n",
        "print(\"The order count = R\",order_count)\n",
        "print(\"The bill amount = R\",bill_amount)\n"
      ],
      "metadata": {
        "colab": {
          "base_uri": "https://localhost:8080/"
        },
        "id": "dX68voMUl3Hw",
        "outputId": "f1240b40-c315-49f7-ceac-dc880ba098d9"
      },
      "execution_count": null,
      "outputs": [
        {
          "output_type": "stream",
          "name": "stdout",
          "text": [
            "The unit price = R 5\n",
            "The order count = R 18\n",
            "The bill amount = R 90\n"
          ]
        }
      ]
    },
    {
      "cell_type": "code",
      "source": [
        "\"\"\"\n",
        "Write a Python code to\n",
        "calculate sum of marks obtained in three subjects (maximum marks for each subject: 100)\n",
        "and print the final output\n",
        "\"\"\""
      ],
      "metadata": {
        "id": "mzjj1fTVtvqv"
      },
      "execution_count": null,
      "outputs": []
    },
    {
      "cell_type": "code",
      "source": [],
      "metadata": {
        "id": "E-bDnbCDunVL"
      },
      "execution_count": null,
      "outputs": []
    },
    {
      "cell_type": "markdown",
      "source": [
        "# input() Function\n",
        "The input() function is used to take input from the user. It reads a line from the input (usually from the user via the keyboard) and returns it as a string."
      ],
      "metadata": {
        "id": "BIqwm3UHv1ti"
      }
    },
    {
      "cell_type": "code",
      "source": [
        "#billing app for coffee shop\n",
        "#initialise variables\n",
        "unit_price=5\n",
        "order_count=input(\"Enter the order count:\")"
      ],
      "metadata": {
        "colab": {
          "base_uri": "https://localhost:8080/"
        },
        "id": "yBzBX-5CvLQx",
        "outputId": "d7314d21-4081-4d9b-b124-4db328dffdfc"
      },
      "execution_count": null,
      "outputs": [
        {
          "name": "stdout",
          "output_type": "stream",
          "text": [
            "Enter the order count:3\n"
          ]
        }
      ]
    },
    {
      "cell_type": "code",
      "source": [
        "order_count"
      ],
      "metadata": {
        "colab": {
          "base_uri": "https://localhost:8080/",
          "height": 35
        },
        "id": "htY_b1zevLBP",
        "outputId": "5d9731aa-4c2c-42b1-9a59-cd697b6533b9"
      },
      "execution_count": null,
      "outputs": [
        {
          "output_type": "execute_result",
          "data": {
            "text/plain": [
              "'3'"
            ],
            "application/vnd.google.colaboratory.intrinsic+json": {
              "type": "string"
            }
          },
          "metadata": {},
          "execution_count": 41
        }
      ]
    },
    {
      "cell_type": "code",
      "source": [
        "#calculate bill amount\n",
        "bill_amount=unit_price*order_count\n",
        "\n",
        "#print the output\n",
        "print(\"The unit price = R\",unit_price)\n",
        "print(\"The order count = R\",order_count)\n",
        "print(\"The bill amount = R\",bill_amount)\n"
      ],
      "metadata": {
        "colab": {
          "base_uri": "https://localhost:8080/"
        },
        "id": "eyS9ESOnvKx6",
        "outputId": "1826ca2d-3e40-4787-a9b6-4fb99bad5755"
      },
      "execution_count": null,
      "outputs": [
        {
          "output_type": "stream",
          "name": "stdout",
          "text": [
            "The unit price = R 5\n",
            "The order count = R 3\n",
            "The bill amount = R 33333\n"
          ]
        }
      ]
    },
    {
      "cell_type": "code",
      "source": [
        "\"\"\"\n",
        "Write a Python code to accept marks of three subjects using input function and\n",
        "calculate sum of marks (maximum marks for each subject: 100)\n",
        "and print the final output\n",
        "\"\"\""
      ],
      "metadata": {
        "id": "7NvSvybBwiL8"
      },
      "execution_count": null,
      "outputs": []
    },
    {
      "cell_type": "code",
      "source": [
        "\"\"\"\n",
        "Write a Python code for the following scenario:\n",
        "A household consumes 350 units of electricity in a month, with the rate per unit being $0.15.\n",
        "Calculate the total electricity bill for the month and display the units consumed, rate per unit, and total electricity bill.\n",
        "\n",
        "\"\"\""
      ],
      "metadata": {
        "id": "mKAXeuiCN_5H"
      },
      "execution_count": null,
      "outputs": []
    },
    {
      "cell_type": "code",
      "source": [
        "\"\"\"\n",
        "Write a Python code for the following scenario:\n",
        "For a given value of basic salary, calaculate gross salary considering HRA as 20%, DA as 50% and PF as 11%.\n",
        "\"\"\""
      ],
      "metadata": {
        "id": "wCLr6KePOyqd"
      },
      "execution_count": null,
      "outputs": []
    }
  ]
}