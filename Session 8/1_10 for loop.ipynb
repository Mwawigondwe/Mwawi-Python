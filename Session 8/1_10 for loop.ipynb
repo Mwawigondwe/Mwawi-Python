{
 "cells": [
  {
   "cell_type": "code",
   "execution_count": 7,
   "metadata": {
    "collapsed": true
   },
   "outputs": [
    {
     "name": "stdout",
     "output_type": "stream",
     "text": [
      "Welcome\n",
      "Welcome\n",
      "Welcome\n",
      "Welcome\n",
      "Welcome\n",
      "Welcome\n",
      "Welcome\n",
      "Welcome\n",
      "Welcome\n",
      "Welcome\n",
      "End of loop\n"
     ]
    }
   ],
   "source": [
    "i=1\n",
    "while i<=10:\n",
    "    print(\"Welcome\")\n",
    "    i=i+1\n",
    "print(\"End of loop\")"
   ]
  },
  {
   "cell_type": "code",
   "execution_count": 10,
   "metadata": {},
   "outputs": [
    {
     "data": {
      "text/plain": [
       "range(0, 5)"
      ]
     },
     "execution_count": 10,
     "metadata": {},
     "output_type": "execute_result"
    }
   ],
   "source": [
    "\"\"\"\n",
    "The range() function returns a sequence of numbers, \n",
    "starting from 0 by default, and increments by 1 (by default),\n",
    "and stops before a specified number\n",
    "\"\"\"\n",
    "range(5)"
   ]
  },
  {
   "cell_type": "code",
   "execution_count": 3,
   "metadata": {},
   "outputs": [
    {
     "name": "stdout",
     "output_type": "stream",
     "text": [
      "Welcome\n",
      "Welcome\n",
      "Welcome\n",
      "Welcome\n",
      "Welcome\n",
      "Welcome\n",
      "Welcome\n",
      "Welcome\n",
      "Welcome\n",
      "Welcome\n",
      "End of code\n"
     ]
    }
   ],
   "source": [
    "for i in range(10):\n",
    "    print(\"Welcome\")\n",
    "print(\"End of code\")"
   ]
  },
  {
   "cell_type": "code",
   "execution_count": 1,
   "metadata": {},
   "outputs": [
    {
     "name": "stdout",
     "output_type": "stream",
     "text": [
      "0\n",
      "1\n",
      "2\n",
      "3\n",
      "4\n",
      "5\n",
      "6\n",
      "7\n",
      "8\n",
      "9\n",
      "End of code\n"
     ]
    }
   ],
   "source": [
    "for i in range(10):\n",
    "    print(i)\n",
    "print(\"End of code\")"
   ]
  },
  {
   "cell_type": "code",
   "execution_count": null,
   "metadata": {},
   "outputs": [],
   "source": [
    "for i in range(1,11):\n",
    "    print(i)\n",
    "print(\"End of code\")"
   ]
  },
  {
   "cell_type": "code",
   "execution_count": 2,
   "metadata": {},
   "outputs": [
    {
     "name": "stdout",
     "output_type": "stream",
     "text": [
      "10\n",
      "11\n",
      "12\n",
      "13\n",
      "14\n",
      "15\n",
      "16\n",
      "17\n",
      "18\n",
      "19\n",
      "20\n",
      "21\n",
      "End of code\n"
     ]
    }
   ],
   "source": [
    "for i in range(10,22):\n",
    "    print(i)\n",
    "print(\"End of code\")"
   ]
  },
  {
   "cell_type": "code",
   "execution_count": 5,
   "metadata": {},
   "outputs": [
    {
     "name": "stdout",
     "output_type": "stream",
     "text": [
      "1\n",
      "4\n",
      "7\n",
      "10\n",
      "EOC\n"
     ]
    }
   ],
   "source": [
    "#range(start, stop, step)\n",
    "for i in range(1,11,2):\n",
    "    print(i)\n",
    "print(\"EOC\")"
   ]
  },
  {
   "cell_type": "code",
   "execution_count": 7,
   "metadata": {},
   "outputs": [],
   "source": [
    "lst=[11,22,33,44,55,66,77,88,99,100]"
   ]
  },
  {
   "cell_type": "code",
   "execution_count": 8,
   "metadata": {},
   "outputs": [
    {
     "data": {
      "text/plain": [
       "10"
      ]
     },
     "execution_count": 8,
     "metadata": {},
     "output_type": "execute_result"
    }
   ],
   "source": [
    "len(lst)"
   ]
  },
  {
   "cell_type": "code",
   "execution_count": 9,
   "metadata": {},
   "outputs": [
    {
     "name": "stdout",
     "output_type": "stream",
     "text": [
      "11\n",
      "22\n",
      "33\n",
      "44\n",
      "55\n",
      "66\n",
      "77\n",
      "88\n",
      "99\n",
      "100\n"
     ]
    }
   ],
   "source": [
    "i=0\n",
    "while i<len(lst):  \n",
    "    print(lst[i])  \n",
    "    i+=1"
   ]
  },
  {
   "cell_type": "code",
   "execution_count": 10,
   "metadata": {},
   "outputs": [
    {
     "name": "stdout",
     "output_type": "stream",
     "text": [
      "11\n",
      "22\n",
      "33\n",
      "44\n",
      "55\n",
      "66\n",
      "77\n",
      "88\n",
      "99\n",
      "100\n"
     ]
    }
   ],
   "source": [
    "for i in lst:  \n",
    "    print(i)"
   ]
  },
  {
   "cell_type": "code",
   "execution_count": 9,
   "metadata": {},
   "outputs": [
    {
     "data": {
      "text/plain": [
       "121"
      ]
     },
     "execution_count": 9,
     "metadata": {},
     "output_type": "execute_result"
    }
   ],
   "source": [
    "#print square values of 1st 10 numbers\n",
    "\n",
    "i=1\n",
    "while i<=10:\n",
    "    square=i**2\n",
    "    print(\"square of \",i,\" is \",square)\n",
    "    i=i+1\n",
    "print(\"loop ends\")"
   ]
  },
  {
   "cell_type": "code",
   "execution_count": 2,
   "metadata": {
    "scrolled": true
   },
   "outputs": [
    {
     "name": "stdout",
     "output_type": "stream",
     "text": [
      "square of  1  is  1\n",
      "square of  2  is  4\n",
      "square of  3  is  9\n",
      "square of  4  is  16\n",
      "square of  5  is  25\n",
      "square of  6  is  36\n",
      "square of  7  is  49\n",
      "square of  8  is  64\n",
      "square of  9  is  81\n",
      "square of  10  is  100\n"
     ]
    }
   ],
   "source": [
    "for i in range(1,11): \n",
    "    squared_value=i**2\n",
    "    print(\"square of \",i,\" is \",squared_value)\n",
    "print(\"loop ends\")"
   ]
  },
  {
   "cell_type": "code",
   "execution_count": 3,
   "metadata": {},
   "outputs": [
    {
     "name": "stdout",
     "output_type": "stream",
     "text": [
      "2  is even number\n",
      "4  is even number\n",
      "6  is even number\n",
      "8  is even number\n",
      "10  is even number\n"
     ]
    }
   ],
   "source": [
    "for i in range(1,11):\n",
    "    if i%2==0:\n",
    "        print(i,\" is even number\")"
   ]
  },
  {
   "cell_type": "code",
   "execution_count": null,
   "metadata": {},
   "outputs": [],
   "source": [
    "#Print odd numbers from the list using for loop"
   ]
  },
  {
   "cell_type": "code",
   "execution_count": 18,
   "metadata": {},
   "outputs": [
    {
     "name": "stdout",
     "output_type": "stream",
     "text": [
      "['samson', 'joy', 'cynthiya', 'amanda']\n",
      "SAMSON\n",
      "JOY\n",
      "CYNTHIYA\n",
      "AMANDA\n"
     ]
    }
   ],
   "source": [
    "names=['samson','joy','cynthiya','amanda']\n",
    "print(names)\n",
    "for name in names:\n",
    "    print(name.upper())"
   ]
  },
  {
   "cell_type": "code",
   "execution_count": 19,
   "metadata": {},
   "outputs": [
    {
     "name": "stdout",
     "output_type": "stream",
     "text": [
      "['samson', 'joy', 'cynthiya', 'amanda']\n",
      "SAMSON  -  6\n",
      "JOY  -  3\n",
      "CYNTHIYA  -  8\n",
      "AMANDA  -  6\n"
     ]
    }
   ],
   "source": [
    "#guess thenames=['samson','joy','cynthiya','amanda']\n",
    "print(names)\n",
    "for name in names:\n",
    "    print(name.upper(),' - ',len(name))"
   ]
  },
  {
   "cell_type": "code",
   "execution_count": 5,
   "metadata": {},
   "outputs": [],
   "source": [
    "t=(1,3,5,7,9,11)"
   ]
  },
  {
   "cell_type": "code",
   "execution_count": 7,
   "metadata": {},
   "outputs": [
    {
     "name": "stdout",
     "output_type": "stream",
     "text": [
      "1\n",
      "3\n",
      "5\n",
      "7\n",
      "9\n",
      "11\n"
     ]
    }
   ],
   "source": [
    "for i in t:\n",
    "    print(i)"
   ]
  },
  {
   "cell_type": "code",
   "execution_count": 11,
   "metadata": {},
   "outputs": [],
   "source": [
    "population={\"SA\":60,\"NG\":20,\"IN\":135}"
   ]
  },
  {
   "cell_type": "code",
   "execution_count": 24,
   "metadata": {},
   "outputs": [
    {
     "name": "stdout",
     "output_type": "stream",
     "text": [
      "SA\n",
      "NG\n",
      "IN\n"
     ]
    }
   ],
   "source": [
    "for i in population:\n",
    "    print(i)"
   ]
  },
  {
   "cell_type": "code",
   "execution_count": 26,
   "metadata": {},
   "outputs": [
    {
     "name": "stdout",
     "output_type": "stream",
     "text": [
      "60\n",
      "20\n",
      "135\n"
     ]
    }
   ],
   "source": [
    "for i in population.values():\n",
    "    print(i)"
   ]
  },
  {
   "cell_type": "code",
   "execution_count": 12,
   "metadata": {},
   "outputs": [
    {
     "data": {
      "text/plain": [
       "dict_items([('SA', 60), ('NG', 20), ('IN', 135)])"
      ]
     },
     "execution_count": 12,
     "metadata": {},
     "output_type": "execute_result"
    }
   ],
   "source": [
    " population.items()"
   ]
  },
  {
   "cell_type": "code",
   "execution_count": 27,
   "metadata": {},
   "outputs": [
    {
     "name": "stdout",
     "output_type": "stream",
     "text": [
      "SA 60\n",
      "NG 20\n",
      "IN 135\n"
     ]
    }
   ],
   "source": [
    "for i,j in population.items():\n",
    "    print(i,j)"
   ]
  },
  {
   "cell_type": "code",
   "execution_count": 12,
   "metadata": {
    "collapsed": true
   },
   "outputs": [
    {
     "data": {
      "text/plain": [
       "dict_values([2, 4, 6, 8, 10])"
      ]
     },
     "execution_count": 12,
     "metadata": {},
     "output_type": "execute_result"
    }
   ],
   "source": [
    "#Task - Modify above code to get following output\n",
    "#Population of ___ is ____ "
   ]
  },
  {
   "cell_type": "code",
   "execution_count": 20,
   "metadata": {
    "collapsed": true
   },
   "outputs": [
    {
     "name": "stdout",
     "output_type": "stream",
     "text": [
      "Enter p 1000\n",
      "Enter n 5\n",
      "Enter r 4\n",
      "SI =  200.0\n",
      "Enter p 2000\n",
      "Enter n 4\n",
      "Enter r 2\n",
      "SI =  160.0\n",
      "Enter p 15423\n",
      "Enter n 4\n",
      "Enter r 5\n",
      "SI =  3084.6\n"
     ]
    }
   ],
   "source": [
    "#Guess the output\n",
    "for i in range(3):\n",
    "    p=int(input(\"Enter p \"))\n",
    "    n=int(input(\"Enter n \"))\n",
    "    r=int(input(\"Enter r \"))\n",
    "    si=(p*n*r)/100\n",
    "    print(\"SI = \",si)"
   ]
  }
 ],
 "metadata": {
  "kernelspec": {
   "display_name": "Python 3 (ipykernel)",
   "language": "python",
   "name": "python3"
  },
  "language_info": {
   "codemirror_mode": {
    "name": "ipython",
    "version": 3
   },
   "file_extension": ".py",
   "mimetype": "text/x-python",
   "name": "python",
   "nbconvert_exporter": "python",
   "pygments_lexer": "ipython3",
   "version": "3.10.9"
  }
 },
 "nbformat": 4,
 "nbformat_minor": 2
}
