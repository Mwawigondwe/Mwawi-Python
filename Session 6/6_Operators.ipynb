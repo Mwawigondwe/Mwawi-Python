{
  "cells": [
    {
      "cell_type": "markdown",
      "metadata": {
        "id": "UYLDRhZSSgAZ"
      },
      "source": [
        "# Operators"
      ]
    },
    {
      "cell_type": "markdown",
      "metadata": {
        "id": "kC9tVTAWSgAh"
      },
      "source": [
        "Operators are special symbols in Python that carry out arithmetic or logical computation. The value that the operator operates on is called the operand."
      ]
    },
    {
      "cell_type": "markdown",
      "metadata": {
        "id": "vZnHGqsGSgAk"
      },
      "source": [
        "# Operator Types"
      ]
    },
    {
      "cell_type": "markdown",
      "metadata": {
        "id": "zsfgNNNjSgAy"
      },
      "source": [
        "1. Arithmetic operators\n",
        "    \n",
        "2. Comparison (Relational) operators\n",
        "\n",
        "3. Logical (Boolean) operators\n",
        "\n",
        "4. Assignment operators\n",
        "\n",
        "5. Special operators"
      ]
    },
    {
      "cell_type": "markdown",
      "metadata": {
        "id": "yK35NiBxSgA0"
      },
      "source": [
        "# Arithmetic Operators"
      ]
    },
    {
      "cell_type": "markdown",
      "metadata": {
        "id": "OTWQVCjvSgA2"
      },
      "source": [
        "Arithmetic operators are used to perform mathematical operations like addition, subtraction, multiplication etc."
      ]
    },
    {
      "cell_type": "markdown",
      "metadata": {
        "id": "kWUf9v_TSgA4"
      },
      "source": [
        "    + , -, *, /, %, //, **  are arithmetic operators"
      ]
    },
    {
      "cell_type": "markdown",
      "metadata": {
        "id": "iTluGXlZSgBA"
      },
      "source": [
        "Example:"
      ]
    },
    {
      "cell_type": "code",
      "execution_count": null,
      "metadata": {
        "colab": {
          "base_uri": "https://localhost:8080/"
        },
        "id": "JhgnowB6SgBD",
        "outputId": "82a773d5-8fe5-4254-ba68-ac0eca4807f0",
        "scrolled": true
      },
      "outputs": [
        {
          "name": "stdout",
          "output_type": "stream",
          "text": [
            "25\n",
            "17\n",
            "84\n",
            "5.25\n"
          ]
        }
      ],
      "source": [
        "#x=21\n",
        "#y=4\n",
        "\n",
        "x, y = 21, 4\n",
        "#addition\n",
        "print(x + y)\n",
        "#subtraction(-)\n",
        "print(x - y)\n",
        "#multiplication(*)\n",
        "print(x * y)\n",
        "#division(/)\n",
        "print(x / y)\n"
      ]
    },
    {
      "cell_type": "code",
      "execution_count": null,
      "metadata": {
        "colab": {
          "base_uri": "https://localhost:8080/"
        },
        "id": "r19BlDuKMQOs",
        "outputId": "cc2d4531-4690-47ca-812f-bb46f86d0c77"
      },
      "outputs": [
        {
          "name": "stdout",
          "output_type": "stream",
          "text": [
            "1\n",
            "5\n",
            "194481\n"
          ]
        }
      ],
      "source": [
        "#modulo division (%)\n",
        "print(x % y)\n",
        "#Floor Division (//)\n",
        "print(x // y)\n",
        "#Exponent (**)\n",
        "print(x ** y)"
      ]
    },
    {
      "cell_type": "markdown",
      "source": [
        "#Operator precedence\n",
        "Operator precedence in Python determines the order in which operations are performed in an expression. Operators with higher precedence are evaluated before operators with lower precedence.\n",
        "\n",
        "1. Parentheses ()\n",
        "\n",
        "2. Exponentiation **\n",
        "\n",
        "3. Multiplication, Division, Floor Division, Modulus *, /, //, %\n",
        "\n",
        "4. Addition, Subtraction +, -\n"
      ],
      "metadata": {
        "id": "O2Sz98udUJVv"
      }
    },
    {
      "cell_type": "code",
      "execution_count": null,
      "metadata": {
        "colab": {
          "base_uri": "https://localhost:8080/"
        },
        "id": "teBszKWITXbH",
        "outputId": "bde138fb-cb6f-48ab-dfec-021e60693f8d"
      },
      "outputs": [
        {
          "output_type": "execute_result",
          "data": {
            "text/plain": [
              "14"
            ]
          },
          "metadata": {},
          "execution_count": 1
        }
      ],
      "source": [
        "result = 2 + 3 * 4  # Output: 14 (Multiplication before addition)\n",
        "result"
      ]
    },
    {
      "cell_type": "code",
      "execution_count": null,
      "metadata": {
        "id": "DXWlln4KLbgR",
        "colab": {
          "base_uri": "https://localhost:8080/"
        },
        "outputId": "8ea66128-2966-447c-a9ff-f077366af19d"
      },
      "outputs": [
        {
          "output_type": "execute_result",
          "data": {
            "text/plain": [
              "20"
            ]
          },
          "metadata": {},
          "execution_count": 2
        }
      ],
      "source": [
        "result = (2 + 3) * 4  # Output: 20 (Parentheses alter precedence)\n",
        "result"
      ]
    },
    {
      "cell_type": "code",
      "execution_count": null,
      "metadata": {
        "id": "AV8OuM34M0q9"
      },
      "outputs": [],
      "source": [
        "#guess the output\n",
        "x=(8+2)/5\n",
        "x"
      ]
    },
    {
      "cell_type": "code",
      "execution_count": null,
      "metadata": {
        "id": "erhjOdq8M7Sr"
      },
      "outputs": [],
      "source": [
        "#guess the output\n",
        "x=8+2/5\n",
        "x"
      ]
    },
    {
      "cell_type": "code",
      "source": [
        "#when you have operators with same predence then the expression is evaluated from left to right\n",
        "x=4/2*5\n",
        "x"
      ],
      "metadata": {
        "colab": {
          "base_uri": "https://localhost:8080/"
        },
        "id": "fGxdK2ZaU8u5",
        "outputId": "855d0669-6050-42f3-b3ee-8ca81d35eff7"
      },
      "execution_count": null,
      "outputs": [
        {
          "output_type": "execute_result",
          "data": {
            "text/plain": [
              "10.0"
            ]
          },
          "metadata": {},
          "execution_count": 3
        }
      ]
    },
    {
      "cell_type": "code",
      "execution_count": null,
      "metadata": {
        "colab": {
          "base_uri": "https://localhost:8080/"
        },
        "id": "FuT6_vjmNLb_",
        "outputId": "b470e010-491e-4d41-928c-eca1999450ec"
      },
      "outputs": [
        {
          "name": "stdout",
          "output_type": "stream",
          "text": [
            "10\n",
            "11\n"
          ]
        }
      ],
      "source": [
        "#ASSIGNMENT OPERATOR\n",
        "a=10\n",
        "print(a)\n"
      ]
    },
    {
      "cell_type": "code",
      "source": [
        "a=a+1\n",
        "print(a)"
      ],
      "metadata": {
        "id": "05qEcXA1VVes"
      },
      "execution_count": null,
      "outputs": []
    },
    {
      "cell_type": "code",
      "execution_count": null,
      "metadata": {
        "id": "7HkZSMezTXbK",
        "outputId": "8dad3863-59f0-4c0b-f3cf-7320328c07b5"
      },
      "outputs": [
        {
          "name": "stdout",
          "output_type": "stream",
          "text": [
            "12\n"
          ]
        }
      ],
      "source": [
        "a+=1   #equvalent of a=a+1\n",
        "print(a)"
      ]
    },
    {
      "cell_type": "code",
      "execution_count": null,
      "metadata": {
        "id": "B3nNm7HbTXbL",
        "outputId": "8b6b1bfb-31d8-4abd-8fd8-f83cc356dd2d"
      },
      "outputs": [
        {
          "name": "stdout",
          "output_type": "stream",
          "text": [
            "14\n"
          ]
        }
      ],
      "source": [
        "#guess the output\n",
        "b=5\n",
        "b+=2\n",
        "print(b)"
      ]
    },
    {
      "cell_type": "code",
      "source": [
        "#guess the output\n",
        "c=5\n",
        "c*=4\n",
        "print(c)"
      ],
      "metadata": {
        "id": "YWfgnvRXVnqT"
      },
      "execution_count": null,
      "outputs": []
    },
    {
      "cell_type": "code",
      "execution_count": null,
      "metadata": {
        "id": "U-gW74fDTXbL"
      },
      "outputs": [],
      "source": [
        "#guess the output\n",
        "d=10\n",
        "d/=2\n",
        "print(d)"
      ]
    },
    {
      "cell_type": "markdown",
      "metadata": {
        "id": "5f5P-cAISgBU"
      },
      "source": [
        "# Relational (Comparision) Operators"
      ]
    },
    {
      "cell_type": "markdown",
      "metadata": {
        "id": "nbz5X5RWSgBW"
      },
      "source": [
        "Comparison operators are used to compare values. It either returns True or False according to the condition."
      ]
    },
    {
      "cell_type": "markdown",
      "metadata": {
        "id": "ppI4OGYLSgBW"
      },
      "source": [
        ">, <, ==, !=, >=, <= are comparision operators\n",
        "\n",
        "comparision operators have lower precedence compared to arithmetic operators"
      ]
    },
    {
      "cell_type": "code",
      "execution_count": null,
      "metadata": {
        "colab": {
          "base_uri": "https://localhost:8080/"
        },
        "id": "7hGvx9__SgBY",
        "outputId": "f1f586b2-8445-408c-d6f3-6a4e6dbb93d4"
      },
      "outputs": [
        {
          "data": {
            "text/plain": [
              "True"
            ]
          },
          "execution_count": 9,
          "metadata": {},
          "output_type": "execute_result"
        }
      ],
      "source": [
        "#intialization of multiple variables in a single line\n",
        "a, b = 10, 20\n",
        "\n",
        "#check a is less than b\n",
        "a < b   #10<20"
      ]
    },
    {
      "cell_type": "code",
      "execution_count": null,
      "metadata": {
        "id": "XN8az0mhKPd0",
        "outputId": "31bb0bb0-e8fa-428d-f6ef-847407dcb91b"
      },
      "outputs": [
        {
          "data": {
            "text/plain": [
              "False"
            ]
          },
          "execution_count": 10,
          "metadata": {},
          "output_type": "execute_result"
        }
      ],
      "source": [
        "#check a is greater than b\n",
        "a > b   #10>20"
      ]
    },
    {
      "cell_type": "code",
      "execution_count": null,
      "metadata": {
        "id": "kkCUxaSCKPd0"
      },
      "outputs": [],
      "source": [
        "#check a is equal to b\n",
        "a == b"
      ]
    },
    {
      "cell_type": "code",
      "execution_count": null,
      "metadata": {
        "id": "bsfcbi9IKPd1"
      },
      "outputs": [],
      "source": [
        "#check a is not equal to b (!=)\n",
        "a!=b"
      ]
    },
    {
      "cell_type": "code",
      "execution_count": null,
      "metadata": {
        "id": "Fj39V9B6KPd1"
      },
      "outputs": [],
      "source": [
        "#check a greater than or equal to b\n",
        "a>=b"
      ]
    },
    {
      "cell_type": "code",
      "execution_count": null,
      "metadata": {
        "id": "Q03jOCzTKPd2"
      },
      "outputs": [],
      "source": [
        "#check a less than or equal to b\n",
        "a<=b"
      ]
    },
    {
      "cell_type": "code",
      "execution_count": null,
      "metadata": {
        "id": "sPkmQX9STXbN"
      },
      "outputs": [],
      "source": [
        "# check if a is less than 111\n",
        "a<111"
      ]
    },
    {
      "cell_type": "code",
      "execution_count": null,
      "metadata": {
        "id": "h-VRwg2sKPd2"
      },
      "outputs": [],
      "source": [
        "a<6"
      ]
    },
    {
      "cell_type": "code",
      "execution_count": null,
      "metadata": {
        "id": "VL2iRDnVKPd3"
      },
      "outputs": [],
      "source": [
        "#comparision operators have lower precedence compared to arithmetic operators\n",
        "a=2\n",
        "b=4\n",
        "a+b<100"
      ]
    },
    {
      "cell_type": "code",
      "execution_count": null,
      "metadata": {
        "id": "IoPJ6OEdKPd3"
      },
      "outputs": [],
      "source": [
        "a*3>=b+10"
      ]
    },
    {
      "cell_type": "code",
      "source": [
        "name='nilay'"
      ],
      "metadata": {
        "id": "1WWRLTzGYpf1"
      },
      "execution_count": null,
      "outputs": []
    },
    {
      "cell_type": "code",
      "source": [
        "name=='nilay'"
      ],
      "metadata": {
        "id": "ecnAswy0ABKq"
      },
      "execution_count": null,
      "outputs": []
    },
    {
      "cell_type": "code",
      "source": [
        "city='cape town'"
      ],
      "metadata": {
        "id": "SEtAax5fYx4k"
      },
      "execution_count": null,
      "outputs": []
    },
    {
      "cell_type": "code",
      "source": [
        "#guess the output\n",
        "city=='nairobi'"
      ],
      "metadata": {
        "id": "u77yKoOKAGQr"
      },
      "execution_count": null,
      "outputs": []
    },
    {
      "cell_type": "code",
      "source": [
        "city='cape town'"
      ],
      "metadata": {
        "id": "_f8DnPA6Y6Gk"
      },
      "execution_count": null,
      "outputs": []
    },
    {
      "cell_type": "code",
      "source": [
        "#guess the output\n",
        "city!='nairobi'"
      ],
      "metadata": {
        "id": "cLiCp1MkAKrl"
      },
      "execution_count": null,
      "outputs": []
    },
    {
      "cell_type": "code",
      "source": [
        "password='admin123'"
      ],
      "metadata": {
        "id": "6kf5e_WhY7le"
      },
      "execution_count": null,
      "outputs": []
    },
    {
      "cell_type": "code",
      "source": [
        "#guess the output\n",
        "password=='admin123'"
      ],
      "metadata": {
        "id": "jg3nFSNWAPB1"
      },
      "execution_count": null,
      "outputs": []
    },
    {
      "cell_type": "code",
      "execution_count": null,
      "metadata": {
        "id": "EypDdGTlKPd3"
      },
      "outputs": [],
      "source": [
        "#create atlest 5 statments involving relational operators"
      ]
    },
    {
      "cell_type": "markdown",
      "metadata": {
        "id": "3oeIy6OwSgBm"
      },
      "source": [
        "#Logical operators\n",
        "Logical operators are  **and, or, not** operators. They are used to combine two or more Python expression"
      ]
    },
    {
      "cell_type": "markdown",
      "source": [
        "#and Operator Combinations\n",
        "\n",
        "and operator returns True of both values are True, otherwise False\n",
        "\n",
        "True and True = True\n",
        "\n",
        "True and False = False\n",
        "\n",
        "False and True = False\n",
        "\n",
        "False and False = False"
      ],
      "metadata": {
        "id": "FvN92aDXYesL"
      }
    },
    {
      "cell_type": "code",
      "execution_count": null,
      "metadata": {
        "colab": {
          "base_uri": "https://localhost:8080/"
        },
        "id": "_1qPCBgsSgBn",
        "outputId": "1c14587e-2ec0-44bc-b566-91e31b779612"
      },
      "outputs": [
        {
          "data": {
            "text/plain": [
              "True"
            ]
          },
          "execution_count": 8,
          "metadata": {},
          "output_type": "execute_result"
        }
      ],
      "source": [
        "a, b = 10,20\n",
        "#and operator - Returns True if both statements are true\n",
        "a==10 and b==20\n",
        "#T and T => T"
      ]
    },
    {
      "cell_type": "code",
      "execution_count": null,
      "metadata": {
        "id": "iKOrj_HbOhCh"
      },
      "outputs": [],
      "source": [
        "a!=10 and b==20"
      ]
    },
    {
      "cell_type": "code",
      "execution_count": null,
      "metadata": {
        "id": "pqyPd8G7OmOs"
      },
      "outputs": [],
      "source": [
        "a>5 and b<20"
      ]
    },
    {
      "cell_type": "code",
      "execution_count": null,
      "metadata": {
        "id": "J2k8WCAIO5Jo"
      },
      "outputs": [],
      "source": [
        "username='nilayk'\n",
        "password='admin123'"
      ]
    },
    {
      "cell_type": "code",
      "source": [
        "username=='nilayk' and password=='admin123'"
      ],
      "metadata": {
        "id": "MyNQDDfXAdup"
      },
      "execution_count": null,
      "outputs": []
    },
    {
      "cell_type": "markdown",
      "source": [
        "#or operator\n",
        "\n",
        "Returns True if one of the statements is true, otherwise false\n",
        "\n",
        "or Operator Combinations\n",
        "\n",
        "True or True = True\n",
        "\n",
        "True or False = True\n",
        "\n",
        "False or True = True\n",
        "\n",
        "False or False = False"
      ],
      "metadata": {
        "id": "fLU1haCCZknc"
      }
    },
    {
      "cell_type": "code",
      "execution_count": null,
      "metadata": {
        "colab": {
          "base_uri": "https://localhost:8080/"
        },
        "id": "-rubbgBeOdSJ",
        "outputId": "7537e149-c209-484f-efc8-a36e29a5559d"
      },
      "outputs": [
        {
          "data": {
            "text/plain": [
              "False"
            ]
          },
          "execution_count": 13,
          "metadata": {},
          "output_type": "execute_result"
        }
      ],
      "source": [
        "a=5\n",
        "b=10\n",
        "a==5 or b==20"
      ]
    },
    {
      "cell_type": "code",
      "execution_count": null,
      "metadata": {
        "colab": {
          "base_uri": "https://localhost:8080/"
        },
        "id": "OwVlhuR171kd",
        "outputId": "ce24301e-026d-4900-aa5b-b206f25a5e0c"
      },
      "outputs": [
        {
          "data": {
            "text/plain": [
              "True"
            ]
          },
          "execution_count": 14,
          "metadata": {},
          "output_type": "execute_result"
        }
      ],
      "source": [
        "a==5 and b==20"
      ]
    },
    {
      "cell_type": "code",
      "source": [
        "#Task - repeat all above and operations by replacing with or operator and analyze their results"
      ],
      "metadata": {
        "id": "7eR6GjcUaC4G"
      },
      "execution_count": null,
      "outputs": []
    },
    {
      "cell_type": "code",
      "execution_count": null,
      "metadata": {
        "colab": {
          "base_uri": "https://localhost:8080/"
        },
        "id": "vlyj6EMUKPd4",
        "outputId": "112fb990-8b6a-4d99-94eb-ebf82edaf51e"
      },
      "outputs": [
        {
          "data": {
            "text/plain": [
              "True"
            ]
          },
          "execution_count": 16,
          "metadata": {},
          "output_type": "execute_result"
        }
      ],
      "source": [
        "# not operator - Reverse the result, returns False if the result is true and vice versa\n",
        "a==10"
      ]
    },
    {
      "cell_type": "code",
      "execution_count": null,
      "metadata": {
        "colab": {
          "base_uri": "https://localhost:8080/"
        },
        "id": "g3yZz2VF8jXr",
        "outputId": "3a3d792d-d74d-402a-f013-54a7e00f76a1"
      },
      "outputs": [
        {
          "data": {
            "text/plain": [
              "False"
            ]
          },
          "execution_count": 19,
          "metadata": {},
          "output_type": "execute_result"
        }
      ],
      "source": [
        "not a==10"
      ]
    },
    {
      "cell_type": "code",
      "execution_count": null,
      "metadata": {
        "id": "S2LZU6pg8nBu"
      },
      "outputs": [],
      "source": [
        "not False"
      ]
    },
    {
      "cell_type": "code",
      "execution_count": null,
      "metadata": {
        "id": "AE5YgSM6KPd4"
      },
      "outputs": [],
      "source": [
        "x==10 and y==20\n",
        "# T   and   T"
      ]
    },
    {
      "cell_type": "code",
      "execution_count": null,
      "metadata": {
        "id": "0X3zGJJiKPd4"
      },
      "outputs": [],
      "source": [
        "x+20>=y+10 or 30+y<50\n",
        "#30>=30       50<50\n",
        "#   T      or F"
      ]
    },
    {
      "cell_type": "code",
      "execution_count": null,
      "metadata": {
        "id": "TbnpdJI4KPd5"
      },
      "outputs": [],
      "source": [
        "#create atlest 5 statments involving relational & logical operators"
      ]
    },
    {
      "cell_type": "markdown",
      "metadata": {
        "id": "hEk--DfiSgB9"
      },
      "source": [
        "# Assignment operators"
      ]
    },
    {
      "cell_type": "markdown",
      "metadata": {
        "id": "C1c95GpRSgB9"
      },
      "source": [
        "Assignment operators are used in Python to assign values to variables.\n",
        "\n",
        "a = 5 is a simple assignment operator that assigns the value 5 on the right to the variable a on the left."
      ]
    },
    {
      "cell_type": "markdown",
      "metadata": {
        "id": "y_57-oOjSgCC"
      },
      "source": [
        "    =,  +=,  -=,  *=,  /=,  %=,  //=,  **=, &=,  |=,  ^=,  >>=,  <<= are Assignment operators"
      ]
    },
    {
      "cell_type": "code",
      "execution_count": null,
      "metadata": {
        "id": "KPSeCIIbgNYv"
      },
      "outputs": [],
      "source": [
        "#multiple variable init.\n",
        "x,y,z=2,4,6\n",
        "x,y,z"
      ]
    },
    {
      "cell_type": "code",
      "execution_count": null,
      "metadata": {
        "id": "ZNgywLNAgVyl"
      },
      "outputs": [],
      "source": [
        "\"\"\"\n",
        "\n",
        "\n",
        "\"\"\""
      ]
    },
    {
      "cell_type": "markdown",
      "metadata": {
        "id": "guBN19WCSgCL"
      },
      "source": [
        "# Special Operators"
      ]
    },
    {
      "cell_type": "markdown",
      "metadata": {
        "id": "aSTQ7HyNSgC2"
      },
      "source": [
        "# MemberShip Operators"
      ]
    },
    {
      "cell_type": "markdown",
      "metadata": {
        "id": "JTqZfmzqSgC3"
      },
      "source": [
        "**in and not in** are the membership operators in Python.\n",
        "    \n",
        "They are used to test whether a value or variable is found in a sequence (string, list, tuple, set and   dictionary)."
      ]
    },
    {
      "cell_type": "code",
      "execution_count": null,
      "metadata": {
        "id": "u5I1QWFkSgC5",
        "outputId": "67ea768e-3bf9-423c-9acd-bcb5fdb8c911"
      },
      "outputs": [
        {
          "name": "stdout",
          "output_type": "stream",
          "text": [
            "False\n"
          ]
        }
      ],
      "source": [
        "lst = [1, 2, 3, 4]\n",
        "print(11 in lst)       #check 1 is present in a given list or not\n",
        "\n",
        "#check 5 is present in a given list\n"
      ]
    },
    {
      "cell_type": "code",
      "execution_count": null,
      "metadata": {
        "id": "IXdEG4ogTXbX",
        "outputId": "02b34d31-7ca0-4fd6-a72f-23b793bfdb75"
      },
      "outputs": [
        {
          "name": "stdout",
          "output_type": "stream",
          "text": [
            "True\n"
          ]
        }
      ],
      "source": [
        "lst = [1, 2, 3, 4]\n",
        "print(1 in lst)"
      ]
    },
    {
      "cell_type": "code",
      "execution_count": null,
      "metadata": {
        "id": "XUxlfcQSTXbX",
        "outputId": "f98cfe6e-217e-42f8-eabe-4abb540a5455"
      },
      "outputs": [
        {
          "name": "stdout",
          "output_type": "stream",
          "text": [
            "True\n"
          ]
        }
      ],
      "source": [
        "lst = [1, 2, 3, 4]\n",
        "print(101 not in lst)"
      ]
    },
    {
      "cell_type": "code",
      "execution_count": null,
      "metadata": {
        "id": "DRSQ_NeiSgC9",
        "outputId": "fccc2f02-6db9-469b-97c4-244ba07d65b9"
      },
      "outputs": [
        {
          "name": "stdout",
          "output_type": "stream",
          "text": [
            "True\n",
            "False\n"
          ]
        }
      ],
      "source": [
        "d = {1: \"a\", 2: \"b\"}\n",
        "print(1 in d)\n",
        "print(\"a\" in d)"
      ]
    }
  ],
  "metadata": {
    "colab": {
      "provenance": []
    },
    "kernelspec": {
      "display_name": "Python 3 (ipykernel)",
      "language": "python",
      "name": "python3"
    },
    "language_info": {
      "codemirror_mode": {
        "name": "ipython",
        "version": 3
      },
      "file_extension": ".py",
      "mimetype": "text/x-python",
      "name": "python",
      "nbconvert_exporter": "python",
      "pygments_lexer": "ipython3",
      "version": "3.10.9"
    }
  },
  "nbformat": 4,
  "nbformat_minor": 0
}