{
 "cells": [
  {
   "cell_type": "code",
   "execution_count": null,
   "metadata": {},
   "outputs": [],
   "source": [
    "print(\"Hi, how are you doing?\")"
   ]
  },
  {
   "cell_type": "code",
   "execution_count": 2,
   "metadata": {},
   "outputs": [
    {
     "name": "stdout",
     "output_type": "stream",
     "text": [
      "Hi, how are you doing?\n",
      "Hi, how are you doing?\n",
      "Hi, how are you doing?\n",
      "Hi, how are you doing?\n",
      "Hi, how are you doing?\n",
      "Hi, how are you doing?\n",
      "Hi, how are you doing?\n",
      "Hi, how are you doing?\n",
      "Hi, how are you doing?\n",
      "Hi, how are you doing?\n"
     ]
    }
   ],
   "source": [
    "print(\"Hi, how are you doing?\")\n",
    "print(\"Hi, how are you doing?\")\n",
    "print(\"Hi, how are you doing?\")\n",
    "print(\"Hi, how are you doing?\")\n",
    "print(\"Hi, how are you doing?\")\n",
    "print(\"Hi, how are you doing?\")\n",
    "print(\"Hi, how are you doing?\")\n",
    "print(\"Hi, how are you doing?\")\n",
    "print(\"Hi, how are you doing?\")\n",
    "print(\"Hi, how are you doing?\")"
   ]
  },
  {
   "cell_type": "code",
   "execution_count": 3,
   "metadata": {
    "collapsed": true
   },
   "outputs": [
    {
     "name": "stdout",
     "output_type": "stream",
     "text": [
      "Hi, how are you doing?\n",
      "Hi, how are you doing?\n",
      "Hi, how are you doing?\n",
      "Hi, how are you doing?\n",
      "Hi, how are you doing?\n",
      "Hi, how are you doing?\n",
      "Hi, how are you doing?\n",
      "Hi, how are you doing?\n",
      "Hi, how are you doing?\n",
      "Hi, how are you doing?\n",
      "loop ends\n"
     ]
    }
   ],
   "source": [
    "#loop counter initialization \n",
    "i=1\n",
    "\n",
    "#while loop condition\n",
    "while i<=10:\n",
    "    print(\"Hi, how are you doing?\")\n",
    "    #increament value of loop counter by 1\n",
    "    i=i+1\n",
    "\n",
    "print(\"loop ends\")  "
   ]
  },
  {
   "cell_type": "code",
   "execution_count": 1,
   "metadata": {},
   "outputs": [
    {
     "name": "stdout",
     "output_type": "stream",
     "text": [
      "Hi, how are you doing?\n",
      "Hi, how are you doing?\n",
      "Hi, how are you doing?\n",
      "Hi, how are you doing?\n",
      "Hi, how are you doing?\n",
      "loop ends\n"
     ]
    }
   ],
   "source": [
    "#TASK - Write Python code to print your name for 5 times\n",
    "\n",
    "#loop counter initialization \n",
    "\n",
    "\n",
    "#while loop condition\n",
    "while :\n",
    "    #print statement to print your name\n",
    "    \n",
    "    #increament value of loop counter by 1\n",
    "    \n",
    "\n",
    "print(\"loop ends\")"
   ]
  },
  {
   "cell_type": "code",
   "execution_count": 1,
   "metadata": {},
   "outputs": [
    {
     "name": "stdout",
     "output_type": "stream",
     "text": [
      "Welcome to DR\n",
      "Welcome to DR\n",
      "Welcome to DR\n",
      "Welcome to DR\n",
      "Welcome to DR\n",
      "Welcome to DR\n",
      "Welcome to DR\n",
      "Welcome to DR\n",
      "Welcome to DR\n",
      "Welcome to DR\n",
      "Welcome to DR\n",
      "loop ends\n"
     ]
    }
   ],
   "source": [
    "#TASK - Guess the output\n",
    "i=10\n",
    "while i<=20:\n",
    "    print(\"Welcome to DR\")\n",
    "    i=i+1\n",
    "print(\"loop ends\")"
   ]
  },
  {
   "cell_type": "code",
   "execution_count": null,
   "metadata": {},
   "outputs": [],
   "source": [
    "#print no from 1 to 10\n",
    "print(1)\n",
    "print(2)\n",
    "print(3)\n",
    "print(4)\n",
    "print(5)\n",
    "print(6)\n",
    "print(7)\n",
    "print(8)\n",
    "print(9)\n",
    "print(10)"
   ]
  },
  {
   "cell_type": "code",
   "execution_count": 2,
   "metadata": {},
   "outputs": [
    {
     "name": "stdout",
     "output_type": "stream",
     "text": [
      "1\n",
      "2\n",
      "3\n",
      "4\n",
      "5\n",
      "6\n",
      "7\n",
      "8\n",
      "9\n",
      "10\n",
      "loop ends\n"
     ]
    }
   ],
   "source": [
    "#Using loop counter inside the loop body\n",
    "i=1\n",
    "while i<=10:\n",
    "    print(i)\n",
    "    i=i+1\n",
    "print(\"loop ends\")  "
   ]
  },
  {
   "cell_type": "code",
   "execution_count": null,
   "metadata": {},
   "outputs": [],
   "source": [
    "#print no from 1 to 10\n",
    "print(1**2)\n",
    "print(2**2)\n",
    "print(3**2)\n",
    "print(4**2)\n",
    "print(5**2)\n",
    "print(6**2)\n",
    "print(7**2)\n",
    "print(8**2)\n",
    "print(9**2)\n",
    "print(10**2)"
   ]
  },
  {
   "cell_type": "code",
   "execution_count": 6,
   "metadata": {
    "collapsed": true
   },
   "outputs": [
    {
     "name": "stdout",
     "output_type": "stream",
     "text": [
      "square of  1  is  1\n",
      "square of  2  is  4\n",
      "square of  3  is  9\n",
      "square of  4  is  16\n",
      "square of  5  is  25\n",
      "square of  6  is  36\n",
      "square of  7  is  49\n",
      "square of  8  is  64\n",
      "square of  9  is  81\n",
      "square of  10  is  100\n",
      "loop ends\n"
     ]
    }
   ],
   "source": [
    "#print square values of 1st 10 numbers\n",
    "\n",
    "i=1\n",
    "while i<=10:\n",
    "    sq=i**2\n",
    "    print(\"square of \",i,\" is \",sq)\n",
    "    i=i+1\n",
    "print(\"loop ends\")  "
   ]
  },
  {
   "cell_type": "code",
   "execution_count": 8,
   "metadata": {},
   "outputs": [],
   "source": [
    "#Task - Print cubes of 1st ten numbers\n",
    "#Task - Print cubes of 22 to 33"
   ]
  },
  {
   "cell_type": "code",
   "execution_count": 2,
   "metadata": {
    "collapsed": true
   },
   "outputs": [
    {
     "name": "stdout",
     "output_type": "stream",
     "text": [
      "1\n",
      "2\n",
      "3\n",
      "4\n",
      "5\n",
      "6\n",
      "7\n",
      "8\n",
      "9\n",
      "10\n",
      "11\n",
      "12\n",
      "13\n",
      "14\n",
      "15\n",
      "16\n",
      "17\n",
      "18\n",
      "19\n",
      "20\n",
      "21\n",
      "22\n",
      "23\n",
      "24\n",
      "25\n",
      "26\n",
      "27\n",
      "28\n",
      "29\n",
      "30\n",
      "31\n",
      "32\n",
      "33\n",
      "34\n",
      "35\n",
      "36\n",
      "37\n",
      "38\n",
      "39\n",
      "40\n",
      "41\n",
      "42\n",
      "43\n",
      "44\n",
      "45\n",
      "46\n",
      "47\n",
      "48\n",
      "49\n",
      "50\n",
      "51\n",
      "52\n",
      "53\n",
      "54\n",
      "55\n",
      "56\n",
      "57\n",
      "58\n",
      "59\n",
      "60\n",
      "61\n",
      "62\n",
      "63\n",
      "64\n",
      "65\n",
      "66\n",
      "67\n",
      "68\n",
      "69\n",
      "70\n",
      "71\n",
      "72\n",
      "73\n",
      "74\n",
      "75\n",
      "76\n",
      "77\n",
      "78\n",
      "79\n",
      "80\n",
      "81\n",
      "82\n",
      "83\n",
      "84\n",
      "85\n",
      "86\n",
      "87\n",
      "88\n",
      "89\n",
      "90\n",
      "91\n",
      "92\n",
      "93\n",
      "94\n",
      "95\n",
      "96\n",
      "97\n",
      "98\n",
      "99\n",
      "100\n"
     ]
    }
   ],
   "source": [
    "#print the numbers from 1to 100\n",
    "i=1\n",
    "while i<=100:\n",
    "    print(i)\n",
    "    i+=1"
   ]
  },
  {
   "cell_type": "code",
   "execution_count": 3,
   "metadata": {
    "collapsed": true
   },
   "outputs": [
    {
     "name": "stdout",
     "output_type": "stream",
     "text": [
      "2\n",
      "4\n",
      "6\n",
      "8\n",
      "10\n",
      "12\n",
      "14\n",
      "16\n",
      "18\n",
      "20\n",
      "22\n",
      "24\n",
      "26\n",
      "28\n",
      "30\n",
      "32\n",
      "34\n",
      "36\n",
      "38\n",
      "40\n",
      "42\n",
      "44\n",
      "46\n",
      "48\n",
      "50\n",
      "52\n",
      "54\n",
      "56\n",
      "58\n",
      "60\n",
      "62\n",
      "64\n",
      "66\n",
      "68\n",
      "70\n",
      "72\n",
      "74\n",
      "76\n",
      "78\n",
      "80\n",
      "82\n",
      "84\n",
      "86\n",
      "88\n",
      "90\n",
      "92\n",
      "94\n",
      "96\n",
      "98\n",
      "100\n"
     ]
    }
   ],
   "source": [
    "#Print even numbers between 1 to 100\n",
    "i=1\n",
    "while i<=100:\n",
    "    if i%2==0:\n",
    "        print(i)\n",
    "    i+=1"
   ]
  },
  {
   "cell_type": "code",
   "execution_count": null,
   "metadata": {},
   "outputs": [],
   "source": [
    "#print square values of even numbers between 1 to 100\n",
    "i=1\n",
    "while i<=10:\n",
    "    if i%2==0:\n",
    "        sq=i**2\n",
    "        print(\"square of \",i,\" is \",sq)\n",
    "    i=i+1\n",
    "print(\"loop ends\")  "
   ]
  },
  {
   "cell_type": "code",
   "execution_count": null,
   "metadata": {},
   "outputs": [],
   "source": [
    "#Task - Print odd numbers between 1 to 100"
   ]
  },
  {
   "cell_type": "code",
   "execution_count": 3,
   "metadata": {},
   "outputs": [
    {
     "name": "stdout",
     "output_type": "stream",
     "text": [
      "Initalial list content =  []\n",
      "List content after loop execution =  [1, 2, 3, 4, 5, 6, 7, 8, 9, 10, 11, 12, 13, 14, 15, 16, 17, 18, 19, 20, 21, 22, 23, 24, 25, 26, 27, 28, 29, 30, 31, 32, 33, 34, 35, 36, 37, 38, 39, 40, 41, 42, 43, 44, 45, 46, 47, 48, 49, 50, 51, 52, 53, 54, 55, 56, 57, 58, 59, 60, 61, 62, 63, 64, 65, 66, 67, 68, 69, 70, 71, 72, 73, 74, 75, 76, 77, 78, 79, 80, 81, 82, 83, 84, 85, 86, 87, 88, 89, 90, 91, 92, 93, 94, 95, 96, 97, 98, 99, 100]\n"
     ]
    }
   ],
   "source": [
    "#Guess the output\n",
    "i=1\n",
    "lst=[]\n",
    "print(\"Initalial list content = \",lst)\n",
    "while i<=100:\n",
    "    lst.append(i)\n",
    "    i+=1\n",
    "print(\"List content after loop execution = \",lst)"
   ]
  },
  {
   "cell_type": "code",
   "execution_count": 4,
   "metadata": {},
   "outputs": [
    {
     "name": "stdout",
     "output_type": "stream",
     "text": [
      "Initalial list content =  []\n",
      "List content after loop execution =  [2, 4, 6, 8, 10, 12, 14, 16, 18, 20, 22, 24, 26, 28, 30, 32, 34, 36, 38, 40, 42, 44, 46, 48, 50, 52, 54, 56, 58, 60, 62, 64, 66, 68, 70, 72, 74, 76, 78, 80, 82, 84, 86, 88, 90, 92, 94, 96, 98, 100]\n"
     ]
    }
   ],
   "source": [
    "#Guess the output\n",
    "i=1\n",
    "lst=[]\n",
    "print(\"Initalial list content = \",lst)\n",
    "while i<=100:\n",
    "    if i%2==0:\n",
    "        lst.append(i)\n",
    "    i+=1\n",
    "print(\"List content after loop execution = \",lst)"
   ]
  },
  {
   "cell_type": "code",
   "execution_count": 4,
   "metadata": {},
   "outputs": [],
   "source": [
    "#How to iterate over sequential data - STRING, LIST , TUPLE\n",
    "lst=[2,1,5,8,5,6,18,13,11,15]"
   ]
  },
  {
   "cell_type": "code",
   "execution_count": 5,
   "metadata": {},
   "outputs": [
    {
     "name": "stdout",
     "output_type": "stream",
     "text": [
      "2\n",
      "1\n",
      "5\n",
      "15\n"
     ]
    }
   ],
   "source": [
    "print(lst[0])\n",
    "print(lst[1])\n",
    "print(lst[2])\n",
    ".\n",
    ".\n",
    "print(lst[9])"
   ]
  },
  {
   "cell_type": "code",
   "execution_count": 16,
   "metadata": {
    "collapsed": true
   },
   "outputs": [
    {
     "name": "stdout",
     "output_type": "stream",
     "text": [
      "2\n",
      "1\n",
      "5\n",
      "8\n",
      "5\n",
      "6\n",
      "18\n",
      "13\n",
      "11\n",
      "15\n"
     ]
    }
   ],
   "source": [
    "i=0\n",
    "while i<=9:\n",
    "    print(lst[i])\n",
    "    i+=1"
   ]
  }
 ],
 "metadata": {
  "kernelspec": {
   "display_name": "Python 3 (ipykernel)",
   "language": "python",
   "name": "python3"
  },
  "language_info": {
   "codemirror_mode": {
    "name": "ipython",
    "version": 3
   },
   "file_extension": ".py",
   "mimetype": "text/x-python",
   "name": "python",
   "nbconvert_exporter": "python",
   "pygments_lexer": "ipython3",
   "version": "3.10.9"
  }
 },
 "nbformat": 4,
 "nbformat_minor": 2
}
