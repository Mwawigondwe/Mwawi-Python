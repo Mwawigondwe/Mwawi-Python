{
 "cells": [
  {
   "cell_type": "code",
   "execution_count": 1,
   "metadata": {
    "id": "Gp23ouLEBRqj",
    "outputId": "1c9ba7b7-d5d4-4989-b536-577caa635e20",
    "scrolled": true
   },
   "outputs": [
    {
     "name": "stdout",
     "output_type": "stream",
     "text": [
      "The number is positive.\n"
     ]
    }
   ],
   "source": [
    "#Checking if a Number is Positive\n",
    "number = 10\n",
    "\n",
    "if number > 0:\n",
    "    print(\"The number is positive.\")"
   ]
  },
  {
   "cell_type": "code",
   "execution_count": 2,
   "metadata": {
    "id": "YAWfvUgCBRqm"
   },
   "outputs": [
    {
     "name": "stdout",
     "output_type": "stream",
     "text": [
      "11  is positive number\n",
      "code is done...\n",
      "see u...\n",
      "Lets study another topic\n"
     ]
    }
   ],
   "source": [
    "#addition multiple lines inside if block\n",
    "number=11\n",
    "\n",
    "if number>0:\n",
    "    print(number,\" is positive number\")\n",
    "    print(\"code is done...\")\n",
    "    print(\"see u...\")\n",
    "print(\"Lets study another topic\")"
   ]
  },
  {
   "cell_type": "code",
   "execution_count": 5,
   "metadata": {
    "id": "AT0Ip_lkO2VF"
   },
   "outputs": [
    {
     "name": "stdout",
     "output_type": "stream",
     "text": [
      "Enter a number 4\n",
      "4  is +ve\n"
     ]
    }
   ],
   "source": [
    "#check if the entered number is positive or negative\n",
    "number=int(input(\"Enter a number \"))\n",
    "if number>0:\n",
    "    print(number,\" is +ve\")\n",
    "else:\n",
    "    print(number,\" is -ve\")"
   ]
  },
  {
   "cell_type": "code",
   "execution_count": null,
   "metadata": {
    "id": "rQBbKJ9UEY4K"
   },
   "outputs": [],
   "source": [
    "#check the if the person is eligible for voting\n",
    "age = input(int(\"Enter an ange \"))\n",
    "if age >= 18:\n",
    "    print(\"You are eligible to vote.\")"
   ]
  },
  {
   "cell_type": "code",
   "execution_count": null,
   "metadata": {
    "id": "BxnOCx2ZE-Dr"
   },
   "outputs": [],
   "source": [
    "#check the if the person is eligible for voting\n",
    "age = int(input(\"Enter an ange \"))\n",
    "if age >= 18:\n",
    "    print(\"You are eligible to vote.\")\n",
    "else:\n",
    "    print(\"You are not eligible to vote.\")"
   ]
  },
  {
   "cell_type": "code",
   "execution_count": null,
   "metadata": {
    "id": "fGrh44g_BRqp",
    "outputId": "b6dc3692-a821-4d70-d4ed-f90881251009"
   },
   "outputs": [],
   "source": [
    "x=-2\n",
    "x in [1,2,3,4]"
   ]
  },
  {
   "cell_type": "code",
   "execution_count": null,
   "metadata": {
    "id": "vrqeudtEBRqq"
   },
   "outputs": [],
   "source": [
    "#check if a number is present in the list or not\n",
    "x=input(int(\"Enter a number to be searched in the list \"))\n",
    "\n",
    "if x in [1,2,3,4,5]:\n",
    "    print(x,\" is present in the given list \")\n",
    "else:\n",
    "    print(x,\" is not present in the given list \")"
   ]
  },
  {
   "cell_type": "code",
   "execution_count": null,
   "metadata": {
    "id": "P9bGuTRzBRqq"
   },
   "outputs": [],
   "source": [
    "#A quick recall to coffee bill app\n",
    "#coffe bill amount -->qty,unit_price\n",
    "unit_price=10\n",
    "quantity=int(input(\"enter the quantity \"))\n",
    "\n",
    "bill_amount=unit_price*quantity\n",
    "print(\"Your bill amount is \",bill_amount)"
   ]
  },
  {
   "cell_type": "code",
   "execution_count": null,
   "metadata": {
    "id": "DL6sL1GUCJdR"
   },
   "outputs": [],
   "source": [
    "#if the bill amount exceed 100 then allow discount of 15\n",
    "unit_price=10\n",
    "quantity=int(input(\"enter the quantity \"))\n",
    "\n",
    "bill_amount=unit_price*quantity\n",
    "if bill_amount>100:\n",
    "    bill_amount=bill_amount-15\n",
    "print(\"Your bill amount is \",bill_amount)"
   ]
  },
  {
   "cell_type": "code",
   "execution_count": null,
   "metadata": {
    "id": "TsE-oxMXEHGr"
   },
   "outputs": [],
   "source": [
    "# Predefined correct username and password\n",
    "correct_username = \"admin\"\n",
    "correct_password = \"password123\"\n",
    "\n",
    "# Input from the user\n",
    "entered_username = input(\"Enter your username: \")\n",
    "entered_password = input(\"Enter your password: \")\n",
    "\n",
    "# Validation using if-else\n",
    "if entered_username == correct_username and entered_password == correct_password:\n",
    "    print(\"Login successful!\")\n",
    "else:\n",
    "    print(\"Invalid username or password. Please try again\")\n"
   ]
  },
  {
   "cell_type": "code",
   "execution_count": null,
   "metadata": {
    "id": "juTPaSL6EHEA"
   },
   "outputs": [],
   "source": [
    "#ATM cash withdrawal example:\n",
    "# Predefined account balance\n",
    "account_balance = 5000.00\n",
    "\n",
    "# Input from the user\n",
    "withdrawal_amount = float(input(\"Enter the amount to withdraw: \"))\n",
    "\n",
    "if withdrawal_amount <= account_balance:\n",
    "  account_balance -= withdrawal_amount\n",
    "  print(f\"Withdrawal successful! Your new balance is: ${account_balance:.2f}\")\n",
    "else:\n",
    "  print(\"Insufficient balance.\")"
   ]
  },
  {
   "cell_type": "code",
   "execution_count": null,
   "metadata": {
    "id": "viMI_KgQBRqr",
    "outputId": "d72d2621-8384-4014-f270-73467deec313"
   },
   "outputs": [],
   "source": [
    "#Use if - elif - else statement for 3 or more conditions\n",
    "\n",
    "# Grade criteria\n",
    "# Grade A: 90% and above\n",
    "# Grade B: 75% to 89%\n",
    "# Grade C: 60% to 74%\n",
    "# Grade D: 50% to 59%\n",
    "# Grade F: Below 50%\n",
    "\n",
    "# Input marks for three subjects\n",
    "subject1 = float(input(\"Enter marks for Subject 1: \"))\n",
    "subject2 = float(input(\"Enter marks for Subject 2: \"))\n",
    "subject3 = float(input(\"Enter marks for Subject 3: \"))\n",
    "\n",
    "# Calculate total marks and percentage\n",
    "total_marks = subject1 + subject2 + subject3\n",
    "percentage = (total_marks / 300) * 100\n",
    "\n",
    "# Determine grade based on percentage\n",
    "if percentage >= 90:\n",
    "    grade = \"A\"\n",
    "elif percentage >= 75:\n",
    "    grade = \"B\"\n",
    "elif percentage >= 60:\n",
    "    grade = \"C\"\n",
    "elif percentage >= 50:\n",
    "    grade = \"D\"\n",
    "else:\n",
    "    grade = \"F\"\n",
    "\n",
    "# Output the results\n",
    "print(f\"Total Marks: {total_marks}\")\n",
    "print(f\"Percentage: {percentage:.2f}%\")\n",
    "print(f\"Grade: {grade}\")\n"
   ]
  },
  {
   "cell_type": "code",
   "execution_count": null,
   "metadata": {
    "id": "G64T-JpxBilX"
   },
   "outputs": [],
   "source": [
    "x=-9\n",
    "if x>0:\n",
    "    print(\"x is +ve\")\n",
    "else:\n",
    "    if x==0:\n",
    "        print(\"x is zero\")\n",
    "    else:\n",
    "        print(\"x is -ve\")"
   ]
  },
  {
   "cell_type": "code",
   "execution_count": null,
   "metadata": {
    "id": "hSXXdKiVBRqs"
   },
   "outputs": [],
   "source": [
    "n=23"
   ]
  },
  {
   "cell_type": "code",
   "execution_count": null,
   "metadata": {
    "id": "XyOmSHNqBRqs"
   },
   "outputs": [],
   "source": [
    "print(n,\" is even number\") if n%2==0 else print(n,\" is odd number\")"
   ]
  }
 ],
 "metadata": {
  "colab": {
   "provenance": []
  },
  "kernelspec": {
   "display_name": "Python 3 (ipykernel)",
   "language": "python",
   "name": "python3"
  },
  "language_info": {
   "codemirror_mode": {
    "name": "ipython",
    "version": 3
   },
   "file_extension": ".py",
   "mimetype": "text/x-python",
   "name": "python",
   "nbconvert_exporter": "python",
   "pygments_lexer": "ipython3",
   "version": "3.10.9"
  }
 },
 "nbformat": 4,
 "nbformat_minor": 1
}
